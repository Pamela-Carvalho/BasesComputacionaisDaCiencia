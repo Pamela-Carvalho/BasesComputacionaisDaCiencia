{
  "cells": [
    {
      "attachments": {},
      "cell_type": "markdown",
      "metadata": {
        "id": "wQ_rVRaN_Qep"
      },
      "source": [
        "# Alguns exercícios resolvidos"
      ]
    },
    {
      "attachments": {},
      "cell_type": "markdown",
      "metadata": {
        "id": "UP0TSBPWbaBd"
      },
      "source": [
        "# 1"
      ]
    },
    {
      "attachments": {},
      "cell_type": "markdown",
      "metadata": {
        "id": "AhVdMwmotHI-"
      },
      "source": [
        "O cálculo do volume de uma esfera de raio R\n",
        "é feito pela fórmula\n",
        "$$V=\\frac{4  \\pi  R^3}{3}.$$\n",
        "\n",
        "Faça um programa que calcula e depois mostra na tela o volume de uma esfera de raio 6. Formatar a sua resposta com duas casas decimais utilizando este comando: `print(\"%.2f\" % (resposta)`.\n"
      ]
    },
    {
      "attachments": {},
      "cell_type": "markdown",
      "metadata": {
        "id": "SgjcczONcTsI"
      },
      "source": [
        "**RESPOSTA**"
      ]
    },
    {
      "attachments": {},
      "cell_type": "markdown",
      "metadata": {
        "id": "N1HX54Aaz16B"
      },
      "source": [
        "Para calcular o volume de uma esfera de raio R precisamos da constante (número) $\\pi$. \n",
        "\n",
        "Portanto, iremos importar a biblioteca `math`.\n",
        "\n",
        "Para acessar a constante $\\pi$ em Python, utilizamos `math.pi`\n",
        "\n",
        "Lembre-se ainda que a operação de potenciação é denotada por `**` em Python. Ou seja, para calcular $R^3$, precisamos escrever `R**3`."
      ]
    },
    {
      "cell_type": "code",
      "execution_count": 1,
      "metadata": {
        "id": "ZBbUN6xKUqp_"
      },
      "outputs": [
        {
          "name": "stdout",
          "output_type": "stream",
          "text": [
            "904.78\n"
          ]
        }
      ],
      "source": [
        "import math                 # importamos a biblioteca math\n",
        "R = 6                       # criamos a variavel R e atribuimos o valor de raio (6) a ela\n",
        "V = (4 * math.pi * R**3)/3  # calculamos o valor de volume e atribuimos esse valor a variavel V\n",
        "print(\"%.2f\" % V)           # imprimimos o volume com duas casas decimais"
      ]
    },
    {
      "attachments": {},
      "cell_type": "markdown",
      "metadata": {
        "id": "SrqnmvIPMDk-"
      },
      "source": [
        "# 2 (a)\n"
      ]
    },
    {
      "attachments": {},
      "cell_type": "markdown",
      "metadata": {
        "id": "74A1fBJPMF9V"
      },
      "source": [
        "Transforme e imprima quanto é $267580$ mililitros em litros, sem a parte decimal (ou seja, descartando os valores das casas decimais)."
      ]
    },
    {
      "attachments": {},
      "cell_type": "markdown",
      "metadata": {
        "id": "cTT9JLBLPTk2"
      },
      "source": [
        "**RESPOSTA**"
      ]
    },
    {
      "attachments": {},
      "cell_type": "markdown",
      "metadata": {
        "id": "n-DnvelZOFpu"
      },
      "source": [
        "Primeira maneira de fazer seria fazer a divisão inteira de $267580$ por $1000$."
      ]
    },
    {
      "cell_type": "code",
      "execution_count": 3,
      "metadata": {
        "id": "fgtwrJYJOQLm"
      },
      "outputs": [
        {
          "name": "stdout",
          "output_type": "stream",
          "text": [
            "267\n"
          ]
        }
      ],
      "source": [
        "M = 267580                       # criamos a variavel chamada M e atribuimos o valor dado para ela\n",
        "L = 267580//1000                 # calculamos o volume em litros, já descartando os valores das casas decimais, usando divisão inteira\n",
        "print (L)                        # imprimimos o volume em litros "
      ]
    },
    {
      "attachments": {},
      "cell_type": "markdown",
      "metadata": {
        "id": "UScACPCHXz2c"
      },
      "source": [
        "Outra maneira de fazer seria fazer a divisão de $267580$ por $1000$, e imprimir este número sem casas decimais usando `int() `."
      ]
    },
    {
      "cell_type": "code",
      "execution_count": null,
      "metadata": {
        "id": "b60fohbfMic9"
      },
      "outputs": [],
      "source": [
        "M = 267580                       # criamos a variavel chamada M e atribuimos o valor dado para ela\n",
        "L = M / 1000                     # calculamos o volume em litros (com casas decimais) e atribuimos a variavel L\n",
        "print (int(L))                   # imprimimos o volume em litros sem a parte decimal, transformando o numero L em inteiro"
      ]
    },
    {
      "attachments": {},
      "cell_type": "markdown",
      "metadata": {
        "id": "1_1zEv1TVjQF"
      },
      "source": [
        "Outra maneira de fazer seria fazer a divisão de $267580$ por $1000$, e imprimir este número sem casas decimais usando operador ` math.floor()`."
      ]
    },
    {
      "cell_type": "code",
      "execution_count": null,
      "metadata": {
        "id": "KNbm8BgOW3ZD"
      },
      "outputs": [],
      "source": [
        "M = 267580                       # criamos a variavel chamada M e atribuimos o valor dado para ela\n",
        "L = M/1000                       # calculamos o volume em litros (com casas decimais) e atribuimos a variavel L\n",
        "print (math.floor(L))            # imprimimos o volume em litros sem a parte decimal, usando math.floor(L)"
      ]
    },
    {
      "attachments": {},
      "cell_type": "markdown",
      "metadata": {
        "id": "xL14LCfI5kM8"
      },
      "source": [
        "# 2(b)"
      ]
    },
    {
      "attachments": {},
      "cell_type": "markdown",
      "metadata": {
        "id": "ul5HigYX5lIT"
      },
      "source": [
        "Transforme e imprima quanto é $267580$ mililitros em litros. Imprima o resultado com três casas decimais."
      ]
    },
    {
      "cell_type": "code",
      "execution_count": null,
      "metadata": {
        "id": "zMzgJOjs51XM"
      },
      "outputs": [],
      "source": [
        "M = 267580                       # criamos a variavel chamada M e atribuimos o valor dado para ela\n",
        "L = 267580/1000                  # calculamos o volume em litros dividindo por 1000 (que eh a mesma coisa que multiplicar por 0.001)\n",
        "print(\"%.3f\" %L)                 # imprimimos o volume em litros com 3 casas decimais"
      ]
    },
    {
      "attachments": {},
      "cell_type": "markdown",
      "metadata": {
        "id": "aWuQO6SPOcHE"
      },
      "source": [
        "# 3"
      ]
    },
    {
      "attachments": {},
      "cell_type": "markdown",
      "metadata": {
        "id": "_Hn6PaHCOesd"
      },
      "source": [
        "Quantos segundos tem em $2$ dias e $25$ minutos?"
      ]
    },
    {
      "attachments": {},
      "cell_type": "markdown",
      "metadata": {
        "id": "VpIujnsvPCB1"
      },
      "source": [
        "**RESPOSTA**"
      ]
    },
    {
      "attachments": {},
      "cell_type": "markdown",
      "metadata": {
        "id": "Um9WwQRrOj7M"
      },
      "source": [
        "Cada dia tem $24$ horas, cada hora tem $60$ minutos e cada minuto tem $60 $segundos."
      ]
    },
    {
      "cell_type": "code",
      "execution_count": null,
      "metadata": {
        "id": "yiOwrtPAO024"
      },
      "outputs": [],
      "source": [
        "D = 2 * 24 * 60 * 60             # calculamos o numero de segundos em 2 dias e atribuimos este valor a variavel D  \n",
        "M = 25 * 60                      # calculamos quantos segundos tem em 25 minutos e atribuimos este valor a variavel M    \n",
        "print (D + M)                    # imprimimos a soma de valores guardados em D e M"
      ]
    },
    {
      "attachments": {},
      "cell_type": "markdown",
      "metadata": {
        "id": "tdyKD7jhyY5t"
      },
      "source": [
        "# 4 \n",
        "\n",
        "Suponha que capacidade do tanque de gasolina de um  carro (em litros) é 75, e que o consumo de gasolina (em km/l) é 7.7. O seu programa deve imprimir: \"Carro consegue viajar\" xxx \"kilometros com o tanque cheio ate parar.\""
      ]
    },
    {
      "cell_type": "code",
      "execution_count": null,
      "metadata": {
        "id": "cM60Dgcmyjh7"
      },
      "outputs": [],
      "source": [
        "Cap =  75                # capacidade     \n",
        "Con =  7.7               # consumo     \n",
        "resp = Cap * Con         # respsota\n",
        "print (\"Carro consegue viajar\", resp, \"kilometros com o tanque cheio ate parar.\")                   "
      ]
    },
    {
      "attachments": {},
      "cell_type": "markdown",
      "metadata": {
        "id": "Va92TLAkRiAg"
      },
      "source": [
        "# 5"
      ]
    },
    {
      "attachments": {},
      "cell_type": "markdown",
      "metadata": {
        "id": "OTxjM5lgRkv1"
      },
      "source": [
        "Faça um programa que mostra na tela a média ponderada de um aluno que \n",
        "tirou $87$ pontos na Prova 1 (P1) e $78$ pontos na Prova 2 (P2), considerando que o peso da P1 é $2.5$ e o peso da P2 é $4.0$ (portanto a soma dos pesos é $6.5$).\n"
      ]
    },
    {
      "attachments": {},
      "cell_type": "markdown",
      "metadata": {
        "id": "Xs6JqLzsUbiu"
      },
      "source": [
        "**RESPOSTA**"
      ]
    },
    {
      "cell_type": "code",
      "execution_count": null,
      "metadata": {
        "colab": {
          "base_uri": "https://localhost:8080/"
        },
        "id": "zL7H65FUWlTj",
        "outputId": "2e0c5554-c3ef-4151-84dd-84b6aa5ece5f"
      },
      "outputs": [
        {
          "name": "stdout",
          "output_type": "stream",
          "text": [
            "81.46153846153847\n"
          ]
        }
      ],
      "source": [
        "P1 = 87                          # criamos a variavel P1 e atribuimos o valor 87 a ela\n",
        "P2 = 78                          # criamos a variavel P2 e atribuimos o valor 78 a ela\n",
        "MP = (P1*2.5 + P2*4.0) / 6.5     # calculamos o valor de media ponderada\n",
        "print(MP)                        # imprimimos o valor de media ponderada (sem o limite de casas decimais)"
      ]
    },
    {
      "attachments": {},
      "cell_type": "markdown",
      "metadata": {
        "id": "8J4bOxV45E9j"
      },
      "source": [
        "# 6"
      ]
    },
    {
      "attachments": {},
      "cell_type": "markdown",
      "metadata": {
        "id": "NHQc8mis52js"
      },
      "source": [
        "Um investidor depositou uma quantia na poupança, que rende $p$ porcento ao mês. Ajude o investidor a calcular quanto ele terá depois de 11 meses, supondo que \n",
        "\n",
        "quantia depositada $d$ = 200 R$;\n",
        "\n",
        "taxa de rendimento da poupança $p$ = 0.13;\n",
        "\n",
        "numero de meses que o dinheiro ficará rendendo $t$ = 11.\n",
        "\n",
        "Imprima o montante de dinheiro na poupança após os $t$ meses.\n",
        "\n",
        "Lembre-se que a quantia $D$\n",
        "após $t$ meses pode ser calculada por\n",
        "$$D=d*(1+\\frac{p}{100})^t.$$\n"
      ]
    },
    {
      "cell_type": "code",
      "execution_count": 5,
      "metadata": {
        "id": "wEpze8NF5EHF"
      },
      "outputs": [
        {
          "name": "stdout",
          "output_type": "stream",
          "text": [
            "202.87866268984632\n"
          ]
        }
      ],
      "source": [
        "d = 200                          \n",
        "p = 0.13                          \n",
        "t = 11    \n",
        "D = d * ((1+p/100)**t)\n",
        "print (D)    "
      ]
    },
    {
      "attachments": {},
      "cell_type": "markdown",
      "metadata": {
        "id": "XKQpnt0w5Ej9"
      },
      "source": [
        "\n",
        "# 7 - Extra"
      ]
    },
    {
      "attachments": {},
      "cell_type": "markdown",
      "metadata": {
        "id": "rd7KiLOj5GYS"
      },
      "source": [
        "O cliente de uma empresa gostaria de um programa que convertesse $10000$\n",
        "segundos em horas, minutos e segundos. Faça esse programa.\n",
        "\n",
        "Dica: use os operadores de divisão inteira `//` e resto `%`."
      ]
    },
    {
      "attachments": {},
      "cell_type": "markdown",
      "metadata": {
        "id": "ITay6pRO5VXJ"
      },
      "source": [
        "**RESPOSTA**"
      ]
    },
    {
      "attachments": {},
      "cell_type": "markdown",
      "metadata": {
        "id": "6ogx8dwd6e2O"
      },
      "source": [
        "Cada hora tem $60$ minutos e cada minuto tem $60$ segundos. Portanto, cada hora tem $60*60 = 3600$ segundos. Logo, o número de horas em S=10000 segundos é `S//3600` (usamos divisão inteira para ver quantas horas \"cabe\" em S segundos).\n",
        "\n",
        "Seja R o resto de divisão de $S$ por $3600$, ou seja, o número de segundos que sobraram.\n",
        "\n",
        "Cada minuto tem $60$ segundos. Portanto, o número de minutos em R é `R//60`.\n",
        "Usamos a divisão inteira para ver quantos minutos \"cabem\" em R.\n",
        "\n",
        "Finalmente, o número de segundos que sobraram é o resto da divisão de $R$ por $60$.\n",
        "\n",
        "\n"
      ]
    },
    {
      "cell_type": "code",
      "execution_count": null,
      "metadata": {
        "id": "ZpTfpKWf0WEO"
      },
      "outputs": [],
      "source": [
        "S = 10000                        # criamos a variavel chamada S e atribuimos o valor 10000 para ela\n",
        "H = S//3600                      # calculamos o numero de horas e atribuimos este valor a variavel H\n",
        "R = S%3600                       # calculamos o numero de segundos que \"sobraram\"\n",
        "M = R//60                        # calculamos o numero de minutos e atribuimos este valor a variavel M\n",
        "S = R%60                         # calculamos o valor de número de segundos que \"sobraram\" e atribuimos a variavel S. Note que neste momento, a variavel S nao tem mais o valor antigo que era 10000.\n",
        "print (10000, \"segundos tem\", H, \"horas,\", M, \"minutos e\", S, \"segundos\")               # imprimimos o resultado"
      ]
    },
    {
      "attachments": {},
      "cell_type": "markdown",
      "metadata": {
        "id": "KHKTyhNYB1Oy"
      },
      "source": [
        "Um outro modo de fazer seria."
      ]
    },
    {
      "cell_type": "code",
      "execution_count": 4,
      "metadata": {
        "id": "top-3EXSB9CE"
      },
      "outputs": [
        {
          "name": "stdout",
          "output_type": "stream",
          "text": [
            "10000 segundos tem 2 horas, 46 minutos e 40 segundos\n"
          ]
        }
      ],
      "source": [
        "S = 10000                         # criamos a variavel chamada S e atribuimos o valor 10000 para ela\n",
        "Seg = S%60                        # calculamos o numero de segundos em S (quando convertido em horas, minutos e segundose) e atribuimos este valor a variavel Seg\n",
        "S = S//60                         # atualizamos o valor de S. Obs: O valor de S nao eh mais 10000, mas o valor de S//60\n",
        "Min = S%60                        # calculamos o numero de minutos (quando 10000 segundos eh convertido em horas, minutos e segundose) e atribuimos este valor a variavel Min\n",
        "S=S//60                           # atualizamos o valor de S\n",
        "Hor = S%24                        # calculamos o numero de horas (quando 10000 segundos eh convertido em horas, minutos e segundos) e atribuimos este valor a variavel Hor. \n",
        "print (10000, \"segundos tem\", Hor, \"horas,\", Min, \"minutos e\", Seg, \"segundos\")               # imprimimos o resultado"
      ]
    },
    {
      "attachments": {},
      "cell_type": "markdown",
      "metadata": {
        "id": "eOn0vOfZ_JjP"
      },
      "source": [
        "Note que todos os valores no código acima são inteiros."
      ]
    },
    {
      "attachments": {},
      "cell_type": "markdown",
      "metadata": {
        "id": "MWIjnKqxc5No"
      },
      "source": [
        "Note também que em código acima criar a variável S e atribuir o valor $1000$ a $S$ foi bem útil.\n",
        "\n",
        "\n",
        "Note também que **o programa vai funcionar para qualquer outro número de segundos** \n",
        "\n",
        "(**basta apenas mudar a primeira linha de programa** e atribuir o novo valor à $S$)."
      ]
    }
  ],
  "metadata": {
    "colab": {
      "provenance": []
    },
    "kernelspec": {
      "display_name": "Python 3",
      "language": "python",
      "name": "python3"
    },
    "language_info": {
      "codemirror_mode": {
        "name": "ipython",
        "version": 3
      },
      "file_extension": ".py",
      "mimetype": "text/x-python",
      "name": "python",
      "nbconvert_exporter": "python",
      "pygments_lexer": "ipython3",
      "version": "3.11.3"
    }
  },
  "nbformat": 4,
  "nbformat_minor": 0
}
