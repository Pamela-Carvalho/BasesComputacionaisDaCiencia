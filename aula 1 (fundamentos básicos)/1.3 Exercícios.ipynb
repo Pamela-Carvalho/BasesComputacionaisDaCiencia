{
 "cells": [
  {
   "cell_type": "markdown",
   "metadata": {
    "id": "EOWmx4KHIxTH"
   },
   "source": [
    "### Exercício: parcelas sem juros\n",
    "\n",
    "Alice pagou uma televisão de R$ 3250.00 em 12 vezes sem juros. Qual o valor de cada parcela?"
   ]
  },
  {
   "cell_type": "code",
   "execution_count": 1,
   "metadata": {
    "id": "A_LqCmHFIxTH"
   },
   "outputs": [
    {
     "name": "stdout",
     "output_type": "stream",
     "text": [
      "O valor da parcela é 270.8333333333333\n"
     ]
    }
   ],
   "source": [
    "parcela = 3250 / 12\n",
    "print(\"O valor da parcela é\", parcela)"
   ]
  },
  {
   "cell_type": "markdown",
   "metadata": {
    "id": "F6NJrGHFucQf"
   },
   "source": [
    "### Exercício : dobradura\n",
    "Uma folha de papel sulfite tem 0.1mm de espessura. Dobrando a folha ao meio, a espessura passa a ser 0.2mm. Dobrando ao meio de novo, a espessura vai para 0.4mm. Mais uma vez e a espessura aumenta para 0.8mm, e assim vai.\n",
    "\n",
    "Sabemos que não é possível dobrar uma folha de papel sulfite ao meio mais do que 5 ou 6 vezes mas, supondo que fosse possível dobrá-la 27 vezes, qual seria a espessura da dobradura resultante?\n"
   ]
  },
  {
   "cell_type": "code",
   "execution_count": 6,
   "metadata": {
    "id": "bS2kkdrHvv_z"
   },
   "outputs": [
    {
     "name": "stdout",
     "output_type": "stream",
     "text": [
      "A espessura resultante seria 13421772.8 mm\n"
     ]
    }
   ],
   "source": [
    "espessura = 0.1\n",
    "dobras = 27\n",
    "resultado = espessura * (2 ** dobras)\n",
    "print(\"A espessura resultante seria\", resultado, \"mm\")"
   ]
  },
  {
   "cell_type": "markdown",
   "metadata": {
    "id": "8pFco5k9v3g6"
   },
   "source": [
    "### Exercício: brinde\n",
    "\n",
    "Uma lanchonete vende sanduíches e tem um programa de fidelidade: cada cliente tem um cartão e a cada compra o cliente recebe um carimbo em seu cartão.\n",
    "\n",
    "Após acumular 5 carimbos, o cliente ganha uma porção de batata frita de brinde.\n",
    "\n",
    "Se o cliente tem $43$ carimbos, quantas porções de batata frita ele ganhou de brinde até agora?\n"
   ]
  },
  {
   "cell_type": "code",
   "execution_count": 10,
   "metadata": {
    "id": "_gdBXDpov3g7"
   },
   "outputs": [
    {
     "name": "stdout",
     "output_type": "stream",
     "text": [
      "O cliente já ganhou 8 porções de brinde até o momento\n"
     ]
    }
   ],
   "source": [
    "brinde = 43 // 5\n",
    "print(\"O cliente já ganhou\", brinde, \"porções de brinde até o momento\")"
   ]
  },
  {
   "cell_type": "markdown",
   "metadata": {
    "id": "Qog8FztjIxS_"
   },
   "source": [
    "### Exercício <span class=\"exec\"></span>: divisão entre irmãos\n",
    "\n",
    "Uma barra de chocolate tem 32 quadradinhos. Uma mãe quer dividir essa barra de chocolate entre seus 5 filhos. Nenhum deles pode receber menos que cada um dos outros para não se sentir preterido. \n",
    "\n",
    "Qual é o número mínimo de quadradinhos que a mãe precisa esconder (comer) para poder dividir o restante equanimemente entre os 5?"
   ]
  },
  {
   "cell_type": "code",
   "execution_count": 12,
   "metadata": {
    "id": "nedyDtDmIxS_"
   },
   "outputs": [
    {
     "name": "stdout",
     "output_type": "stream",
     "text": [
      "A mãe precisa comer 2 quadradinhos de chocolate\n"
     ]
    }
   ],
   "source": [
    "resto = 32 % 5\n",
    "print(\"A mãe precisa comer\", resto, \"quadradinhos de chocolate\")"
   ]
  },
  {
   "cell_type": "markdown",
   "metadata": {
    "id": "-5VjZlA0IxTJ"
   },
   "source": [
    "### Exercício <span class=\"exec\"></span>: aniversário\n",
    "\n",
    "João faz 10 anos de idade hoje, neste exato momento! Na célula abaixo, calcule quantos segundos de vida ele acabou de comemorar.\n",
    "\n",
    "(Ignore os anos bissextos.)\n"
   ]
  },
  {
   "cell_type": "code",
   "execution_count": 13,
   "metadata": {
    "id": "lG1S0kO3IxTJ"
   },
   "outputs": [
    {
     "name": "stdout",
     "output_type": "stream",
     "text": [
      "João acaba de completar 315360000 segundos de vida\n"
     ]
    }
   ],
   "source": [
    "idade = 10 * 365 * 24 * 60 * 60\n",
    "print(\"João acaba de completar\", idade, \"segundos de vida\")"
   ]
  },
  {
   "cell_type": "markdown",
   "metadata": {
    "id": "BWLJN01WIxTM"
   },
   "source": [
    "\n",
    "\n",
    "### Exercício <span class=\"exec\"></span>: vazamento\n",
    "\n",
    "Uma torneira pinga a uma taxa de 1 gota por segundo. Cada gota possui um volume de 0.05 mililitros. Calcule o volume de água desperdiçado depois de exatos 3 dias de vazamento. Faça a conta de modo que a resposta seja em litros."
   ]
  },
  {
   "cell_type": "code",
   "execution_count": 15,
   "metadata": {
    "id": "va1ZH_0sIxTM"
   },
   "outputs": [
    {
     "name": "stdout",
     "output_type": "stream",
     "text": [
      "A torneira vazou 12.96 L de água\n"
     ]
    }
   ],
   "source": [
    "tempo = 3 * 24 * 60 * 60\n",
    "vazamento = tempo * 0.05\n",
    "litros = vazamento / 1000 \n",
    "print(\"A torneira vazou\", litros, \"L de água\")"
   ]
  },
  {
   "cell_type": "markdown",
   "metadata": {
    "id": "ss9M8VoXyPXw"
   },
   "source": [
    "#### Exercício <span class=\"exec\"></span>: conversão de temperatura\n",
    "\n",
    "\n",
    "Modifique a célula abaixo para converter 80 Celsius para Fahrenheit!"
   ]
  },
  {
   "cell_type": "code",
   "execution_count": 16,
   "metadata": {
    "id": "IkjbIZUXzUpq"
   },
   "outputs": [
    {
     "data": {
      "text/plain": [
       "176.0"
      ]
     },
     "execution_count": 16,
     "metadata": {},
     "output_type": "execute_result"
    }
   ],
   "source": [
    "C = 80\n",
    "F = C * 9 / 5 + 32\n",
    "F"
   ]
  },
  {
   "cell_type": "markdown",
   "metadata": {
    "id": "z8QDQeIYBLTJ"
   },
   "source": [
    "### Exercício: calcular $10!$ utilizando a biblioteca `math`"
   ]
  },
  {
   "cell_type": "code",
   "execution_count": 18,
   "metadata": {
    "id": "EfDO5kGEBLk2"
   },
   "outputs": [
    {
     "name": "stdout",
     "output_type": "stream",
     "text": [
      "3628800\n"
     ]
    }
   ],
   "source": [
    "import math\n",
    "\n",
    "fatorial = math.factorial(10)\n",
    "print(fatorial)"
   ]
  },
  {
   "cell_type": "markdown",
   "metadata": {
    "id": "otC-hj-yCI0l"
   },
   "source": [
    "### Exercício: Calcule o mínimo múltiplo comum (mmc) entre $35$ e $28$.\n",
    "\n",
    "Dica: use a fórmula \n",
    "$$\\text{mmc}(x,y) = \\frac{xy}{\\text{mdc}(x,y)}$$"
   ]
  },
  {
   "cell_type": "code",
   "execution_count": 20,
   "metadata": {
    "id": "pi9_sD6mCJFR"
   },
   "outputs": [
    {
     "name": "stdout",
     "output_type": "stream",
     "text": [
      "140.0\n"
     ]
    }
   ],
   "source": [
    "mmc = 35 * 28 / math.gcd(35, 28)\n",
    "print(mmc)"
   ]
  },
  {
   "cell_type": "markdown",
   "metadata": {
    "id": "9ZtDQS4j2XgB"
   },
   "source": [
    "### Exercício: imprima \"Olá mundo!\""
   ]
  },
  {
   "cell_type": "code",
   "execution_count": 23,
   "metadata": {
    "id": "4Oqkl1K3AG0L"
   },
   "outputs": [
    {
     "name": "stdout",
     "output_type": "stream",
     "text": [
      "Olá mundo!\n"
     ]
    }
   ],
   "source": [
    "print(\"Olá mundo!\")"
   ]
  }
 ],
 "metadata": {
  "colab": {
   "provenance": []
  },
  "kernelspec": {
   "display_name": "Python 3 (ipykernel)",
   "language": "python",
   "name": "python3"
  },
  "language_info": {
   "codemirror_mode": {
    "name": "ipython",
    "version": 3
   },
   "file_extension": ".py",
   "mimetype": "text/x-python",
   "name": "python",
   "nbconvert_exporter": "python",
   "pygments_lexer": "ipython3",
   "version": "3.11.3"
  }
 },
 "nbformat": 4,
 "nbformat_minor": 1
}
