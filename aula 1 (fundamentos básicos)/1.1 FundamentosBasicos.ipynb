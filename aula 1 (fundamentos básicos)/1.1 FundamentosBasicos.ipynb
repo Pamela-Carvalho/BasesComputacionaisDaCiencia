{
 "cells": [
  {
   "cell_type": "markdown",
   "metadata": {
    "id": "OttM_w-Oid33"
   },
   "source": [
    "# Notebooks em Python\n",
    "\n",
    "Antes de mais nada, você sabe o significado deste documento que você está lendo?\n",
    "\n",
    "Isto se chama *notebook*: contém textos explicativos e códigos de programas intercalados, em um só arquivo.\n",
    "\n",
    "Em um *notebook*, as unidades básicas de texto ou código são chamadas de **células**.\n",
    "\n",
    "É fácil distinguir as células de código: elas vêm precedidas por\n",
    "\n",
    "    [ ]\n",
    "    \n",
    "como a célula abaixo."
   ]
  },
  {
   "cell_type": "code",
   "execution_count": 41,
   "metadata": {
    "colab": {
     "base_uri": "https://localhost:8080/"
    },
    "id": "1z1APUC3IxSd",
    "outputId": "5d0f92a1-4f08-438d-f055-bb6a9c0d88dc"
   },
   "outputs": [
    {
     "data": {
      "text/plain": [
       "4"
      ]
     },
     "execution_count": 41,
     "metadata": {},
     "output_type": "execute_result"
    }
   ],
   "source": [
    "2 + 2"
   ]
  },
  {
   "cell_type": "markdown",
   "metadata": {},
   "source": [
    "---\n",
    "\n",
    "# Manipulação de Células\n",
    "\n",
    "As seções abaixo apresentam uma descrição geral de como manipular as células.\n",
    "**Os comandos exatos depende do ambiente utilizado.**\n",
    "\n",
    "\n",
    "## Navegação\n",
    "\n",
    "Para navegar entre as células, basta clicar nela ou utilizar as flechas do teclado.\n",
    "\n",
    "## Edição\n",
    "\n",
    "Para editar uma célula, selecione a mesma e aperte `ENTER`.\n",
    "Alternativamente, você pode clicar duplo em cima da célula.\n",
    "\n",
    "## Execução\n",
    "\n",
    "Você pode **executar uma célula** clicando no botão *play* do lado esquerdo da célula ou pela combinação das teclas `SHIFT+ENTER`.\n",
    "\n",
    "* Se for uma célula tipo código (Python), o código será interpretado.\n",
    "* Se for uma célula tipo texto (Markdown), o texto será formatado.\n",
    "\n",
    "## Criação\n",
    "\n",
    "Você pode criar uma célula com o mouse através do botão adicionar entre as células ou utilizar o menu.\n",
    "\n",
    "Ao criar uma célula, você deverá escolher o tipo (Código/Python ou Texto/Markdown).\n",
    "Você também pode alterar o tipo de célula posteriormente, utilizando o menu.\n",
    "\n",
    "**Obs.:** Muitos ambientes fornecem outros tipos de células, como `SQL`, `LaTeX`, dentre outros. Neste curso, só utilizaremos as células tipo **Python** (para códigos) e **Markdown** (para textos).\n",
    "\n"
   ]
  },
  {
   "cell_type": "markdown",
   "metadata": {},
   "source": [
    "---\n",
    "\n",
    "# Células tipo Markdown (Texto)\n",
    "\n",
    "As células de texto utilizam a formatação **Markdown**: uma linguagem de marcação simples que converte seu texto em HTML válido.\n",
    "\n",
    "**Exemplos do sintaxe:**\n",
    "\n",
    "# Cabeçalho\n",
    "\n",
    "## Sub Cabeçalho\n",
    "\n",
    "*Texto itálico*\n",
    "\n",
    "**Texto em negrito**\n",
    "\n",
    "***Texto itálico e em negrito***\n",
    "\n",
    "* Lista não ordenada\n",
    "* Próximo item\n",
    "\n",
    "1. Lista ordenada\n",
    "1. Próximo item\n",
    "\n",
    "[Link](https://www.ufabc.edu.br)\n",
    "\n",
    "**[Link *enfatizado*](https://duckduckgo.com/)**\n",
    "\n",
    "Imagem:\n",
    "![Texto alternativo](https://graduacao.ufabc.edu.br/licmat/images/Logo/Logo_UFABC.jpg)\n",
    "\n",
    "Tabela:\n",
    "| Padrão | Esquerda  | Centralizado | Direita |\n",
    "| --- | :--- | :---: | ---: |\n",
    "| A | B | C | D |\n",
    "| 1 | 2 | 3 | 4 |\n",
    "\n",
    "Blockquotes\n",
    "> Primeiro parágrafo do blockquote\n",
    "> Segundo parágrafo do blockquote\n",
    ">> Blockquote aninhado\n",
    "\n",
    "Exemplo de um `código` inline.\n",
    "\n",
    "Exemplo de um ``código com `crase` `` inline.\n",
    "\n",
    "```\n",
    "Exemplo de bloco de código\n",
    "Não tem problema em usar `crases`\n",
    "```\n",
    "\n",
    "É possível utilizar comandos HTML diretamente:\n",
    "\n",
    "<h3>Cabeçalho HTML</h3><p>Algum texto com <b>negrito</b></p><p>Próxima linha</p>\n",
    "\n",
    "Linha horizontal\n",
    "\n",
    "---\n",
    "\n",
    "**Para mais sintaxe, clique [aqui](https://markdown.net.br/sintaxe-basica/)!**"
   ]
  },
  {
   "cell_type": "markdown",
   "metadata": {
    "id": "10QALHwFIxSg"
   },
   "source": [
    "---\n",
    "\n",
    "# Células tipo Python (código)\n",
    "\n",
    "As células tipo código precisam ser elaboradas utilizando uma sintaxe específica, no caso, Python.\n",
    "\n",
    "Qualquer erro irá interromper a interpretação do código, e será apresentado uma mensagem de erro com a sua respectiva descrição.\n",
    "\n",
    "Neste notebook, vamos aprender alguns elementos básicos de programação em Python e vamos nos familiarizar com o ambiente.\n",
    "\n",
    "**Não precisa aprender todo o conteúdo de cabeça. É importante você entender o conteúdo apresentado e depois pode consultar este Notebook quando for fazer os exercícios.**  \n"
   ]
  },
  {
   "cell_type": "markdown",
   "metadata": {
    "id": "XuHTUXL3JOFW"
   },
   "source": [
    "---\n",
    "\n",
    "#  Comentários nos códigos - símbolo `#`"
   ]
  },
  {
   "cell_type": "markdown",
   "metadata": {
    "id": "IJOM6usOIAPc"
   },
   "source": [
    "Colocar os comentários nos códigos pode ser bastante útil, para explicar o que cada linha (ou parte) do programa faz (especialmente em códigos mais longos com quais iremos lidar mais para frente de curso).\n",
    "\n",
    "O comando `#` significa que tudo que aparece na mesma linha após este símbolo é considerado apenas como comentário (e não vai ser executado na célula de código)."
   ]
  },
  {
   "cell_type": "markdown",
   "metadata": {
    "id": "vitcEP6bLEhr"
   },
   "source": [
    "Veja e executa os exemplos:"
   ]
  },
  {
   "cell_type": "code",
   "execution_count": 42,
   "metadata": {
    "colab": {
     "base_uri": "https://localhost:8080/"
    },
    "id": "OIq2zhL4Kp5n",
    "outputId": "e7369223-5533-4a29-b91b-10ab356863aa"
   },
   "outputs": [
    {
     "data": {
      "text/plain": [
       "155"
      ]
     },
     "execution_count": 42,
     "metadata": {},
     "output_type": "execute_result"
    }
   ],
   "source": [
    "# Isso é um comentário\n",
    "# Calculamos abaixo a soma de duas notas: 80 e 75\n",
    "80 + 75"
   ]
  },
  {
   "cell_type": "markdown",
   "metadata": {
    "id": "v4H2SbkiK-3w"
   },
   "source": [
    "Ou:"
   ]
  },
  {
   "cell_type": "code",
   "execution_count": 43,
   "metadata": {
    "colab": {
     "base_uri": "https://localhost:8080/"
    },
    "id": "k-qC2Qe1KFGa",
    "outputId": "cd82f75d-4b09-457f-f9ae-af6c8ce915d7"
   },
   "outputs": [
    {
     "data": {
      "text/plain": [
       "155"
      ]
     },
     "execution_count": 43,
     "metadata": {},
     "output_type": "execute_result"
    }
   ],
   "source": [
    "80 + 75 # Calculamos nesta linha a soma de duas notas: 80 e 75"
   ]
  },
  {
   "cell_type": "markdown",
   "metadata": {
    "id": "FZncN97OIxSh"
   },
   "source": [
    "---\n",
    "\n",
    "# Operações matemáticas\n",
    "\n",
    "\n",
    "\n",
    "## As quatro operações básicas\n",
    "\n",
    "Clique em cada célula abaixo, tecle `SHIFT+ENTER` ou clique no botão *play* e veja o que acontece."
   ]
  },
  {
   "cell_type": "code",
   "execution_count": 44,
   "metadata": {
    "colab": {
     "base_uri": "https://localhost:8080/"
    },
    "id": "-pF7rQ_UIxSh",
    "outputId": "b9925aa0-975e-4294-c9fe-db701d9892bb"
   },
   "outputs": [
    {
     "data": {
      "text/plain": [
       "12"
      ]
     },
     "execution_count": 44,
     "metadata": {},
     "output_type": "execute_result"
    }
   ],
   "source": [
    "10 + 5 - 3"
   ]
  },
  {
   "cell_type": "code",
   "execution_count": 45,
   "metadata": {
    "colab": {
     "base_uri": "https://localhost:8080/"
    },
    "id": "_69Qf_DiIxSl",
    "outputId": "a24e9272-93bf-41e9-b41b-62764ccd4be4"
   },
   "outputs": [
    {
     "data": {
      "text/plain": [
       "12"
      ]
     },
     "execution_count": 45,
     "metadata": {},
     "output_type": "execute_result"
    }
   ],
   "source": [
    "4 * 3"
   ]
  },
  {
   "cell_type": "code",
   "execution_count": 46,
   "metadata": {
    "colab": {
     "base_uri": "https://localhost:8080/"
    },
    "id": "wOP9JeGQIxSn",
    "outputId": "ff620a15-b455-4b93-a0a9-90781b427803"
   },
   "outputs": [
    {
     "data": {
      "text/plain": [
       "21.02"
      ]
     },
     "execution_count": 46,
     "metadata": {},
     "output_type": "execute_result"
    }
   ],
   "source": [
    "2800.20 / 133.21598477640342"
   ]
  },
  {
   "cell_type": "code",
   "execution_count": 47,
   "metadata": {
    "colab": {
     "base_uri": "https://localhost:8080/"
    },
    "id": "GMfaORjaIxSp",
    "outputId": "1d44bd39-4cce-48a1-b694-9e53a1964c21"
   },
   "outputs": [
    {
     "data": {
      "text/plain": [
       "2.4"
      ]
     },
     "execution_count": 47,
     "metadata": {},
     "output_type": "execute_result"
    }
   ],
   "source": [
    "12 / 5"
   ]
  },
  {
   "cell_type": "markdown",
   "metadata": {
    "id": "Q1SqdFSmIxSt"
   },
   "source": [
    "Ou seja, usamos os símbolos `+`, `-`, `*` e `/`; para soma, subtração, multiplicação e divisão, respectivamente. Isso é como você esperava, não é?\n",
    "\n",
    "**Atenção:** o símbolo que separa as casas decimais em Python é o **ponto** e não a vírgula!"
   ]
  },
  {
   "cell_type": "markdown",
   "metadata": {
    "id": "h2ezkXSrIxSu"
   },
   "source": [
    "## Potenciação\n",
    "\n",
    "A operação de potenciação é denotada por `**` em Python. Ou seja, para calcular $2^4$, precisamos escrever `2**4`."
   ]
  },
  {
   "cell_type": "code",
   "execution_count": 48,
   "metadata": {
    "colab": {
     "base_uri": "https://localhost:8080/"
    },
    "id": "EuvxeewxIxSv",
    "outputId": "9030ef7e-cb7e-4d3c-f58a-3dc211d3dd1f"
   },
   "outputs": [
    {
     "data": {
      "text/plain": [
       "16"
      ]
     },
     "execution_count": 48,
     "metadata": {},
     "output_type": "execute_result"
    }
   ],
   "source": [
    "2**4"
   ]
  },
  {
   "cell_type": "code",
   "execution_count": 49,
   "metadata": {
    "id": "LF4h-CMtIxSz"
   },
   "outputs": [
    {
     "data": {
      "text/plain": [
       "9"
      ]
     },
     "execution_count": 49,
     "metadata": {},
     "output_type": "execute_result"
    }
   ],
   "source": [
    "3**2"
   ]
  },
  {
   "cell_type": "markdown",
   "metadata": {
    "id": "KOP2mqdMIxS1"
   },
   "source": [
    "## Divisão inteira\n",
    "\n",
    "Python tem um tipo especial de divisão que é chamada de divisão inteira, em que um número é dividido por outro e depois o resultado é **arredondado** para baixo. O operador de divisão inteira é `//`.\n",
    "\n",
    "Mais formalmente, quando `a` e `b` são números inteiros, `a // b` é o quociente da divisão de `a` por `b`.\n",
    "\n",
    "Veja como a divisão inteira funciona:"
   ]
  },
  {
   "cell_type": "code",
   "execution_count": 50,
   "metadata": {
    "colab": {
     "base_uri": "https://localhost:8080/"
    },
    "id": "qx9rHB2cIxS1",
    "outputId": "eaf6c1dc-1e34-4a9e-a7ed-7663252f4ae1"
   },
   "outputs": [
    {
     "data": {
      "text/plain": [
       "1"
      ]
     },
     "execution_count": 50,
     "metadata": {},
     "output_type": "execute_result"
    }
   ],
   "source": [
    "3//2"
   ]
  },
  {
   "cell_type": "code",
   "execution_count": 51,
   "metadata": {
    "id": "YYRTAsYMIxS3"
   },
   "outputs": [
    {
     "data": {
      "text/plain": [
       "3"
      ]
     },
     "execution_count": 51,
     "metadata": {},
     "output_type": "execute_result"
    }
   ],
   "source": [
    "11//3"
   ]
  },
  {
   "cell_type": "markdown",
   "metadata": {
    "id": "EvbrijQAIxS5"
   },
   "source": [
    "## Resto da divisão\n",
    "Python também tem o operador `%` que calcula o resto da divisão de um número por outro.\n",
    "\n",
    "Por exemplo, o resto da divisão de 17 por 5 é igual 2. Veja:"
   ]
  },
  {
   "cell_type": "code",
   "execution_count": 52,
   "metadata": {
    "colab": {
     "base_uri": "https://localhost:8080/"
    },
    "id": "wXeQmsHYIxS6",
    "outputId": "5a7865c8-bfa9-4af0-9ef3-1c777eabbf52"
   },
   "outputs": [
    {
     "data": {
      "text/plain": [
       "2"
      ]
     },
     "execution_count": 52,
     "metadata": {},
     "output_type": "execute_result"
    }
   ],
   "source": [
    "17%5"
   ]
  },
  {
   "cell_type": "markdown",
   "metadata": {
    "id": "hpo2Ad1pl-Jo"
   },
   "source": [
    "Note que o resto da divisão é útil para descobrir se um número é par ou não. \n",
    "\n",
    "- Se o resto de divisão de um número por 2 é igual a 0, então o número é par. \n",
    "\n",
    "- E se o resto de divisão de um número por 2 é igual a 1, este número não é par. Veja:"
   ]
  },
  {
   "cell_type": "code",
   "execution_count": 53,
   "metadata": {
    "id": "TzE4PzJUIxS8"
   },
   "outputs": [
    {
     "data": {
      "text/plain": [
       "0"
      ]
     },
     "execution_count": 53,
     "metadata": {},
     "output_type": "execute_result"
    }
   ],
   "source": [
    "14%2"
   ]
  },
  {
   "cell_type": "code",
   "execution_count": 54,
   "metadata": {
    "id": "8YruMrNgmxdx"
   },
   "outputs": [
    {
     "data": {
      "text/plain": [
       "1"
      ]
     },
     "execution_count": 54,
     "metadata": {},
     "output_type": "execute_result"
    }
   ],
   "source": [
    "13%2"
   ]
  },
  {
   "cell_type": "markdown",
   "metadata": {
    "id": "hiXUnrF2IxTB"
   },
   "source": [
    "## Combinando operações\n",
    "\n",
    "Você consegue prever o resultado das expressões abaixo?\n",
    "\n",
    "Execute as células para verificar se você acertou!\n"
   ]
  },
  {
   "cell_type": "code",
   "execution_count": 55,
   "metadata": {
    "colab": {
     "base_uri": "https://localhost:8080/"
    },
    "id": "dsmgdBKIIxTC",
    "outputId": "a691b485-235d-4ea7-dd27-a26ce4620a41"
   },
   "outputs": [
    {
     "data": {
      "text/plain": [
       "6"
      ]
     },
     "execution_count": 55,
     "metadata": {},
     "output_type": "execute_result"
    }
   ],
   "source": [
    "(8*3)//(2**2)"
   ]
  },
  {
   "cell_type": "code",
   "execution_count": 56,
   "metadata": {
    "id": "Hx1XeX3qIxTE"
   },
   "outputs": [
    {
     "data": {
      "text/plain": [
       "16"
      ]
     },
     "execution_count": 56,
     "metadata": {},
     "output_type": "execute_result"
    }
   ],
   "source": [
    "1+5*3"
   ]
  },
  {
   "cell_type": "markdown",
   "metadata": {
    "id": "DnD29J7zIxTG"
   },
   "source": [
    "Neste último caso, o Python primeiro calcula o `5*3` e depois soma 1, certo?\n",
    "\n",
    "Isso acontece porque o Python executa as operações na seguinte ordem de precedência:\n",
    "\n",
    "\n",
    "1.    `**`\n",
    "1.    `*`, `/`, `//` e `%`\n",
    "1.    `+` e `-`\n",
    "\n",
    "Na dúvida, você pode colocar parênteses para deixar a ordem explícita.\n",
    "\n",
    "Poderíamos, por exemplo, alterar a célula acima colocando `(1+5)*3` para indicar que o `+` deve ser feito antes do `*`.\n",
    "\n"
   ]
  },
  {
   "cell_type": "markdown",
   "metadata": {
    "id": "mh5KTLvIIxTT"
   },
   "source": [
    "---\n",
    "\n",
    "# Variáveis\n",
    "\n",
    "Você pode guardar um valor ou o resultado de um cálculo, ou algum conteúdo  em uma variável para tornar a usá-lo.\n",
    "\n",
    "**Uma variável é composta por dois elementos:**\n",
    "\n",
    "- **Nome: nome dado pelo programador à variável**\n",
    "- **Conteúdo: valor atual da variável**\n",
    "\n",
    "OBS: Mais para frente vamos ver que uso de variáveis é útil pois o valor/conteúdo é guardado em variável, e podemos acessar/reutilizar este valor/conteúdo várias vezes num programa, simplesmente colocando o nome de variável.\n",
    "Veremos também que é possível mudar o valor de uma variável ao decorrer do programa. \n",
    "Importante é saber que em cada momento, **uma variável só pode ter um único valor (e não, por exemplo, dois valores diferentes)**. \n",
    "\n",
    "Veja os exemplos abaixo."
   ]
  },
  {
   "cell_type": "code",
   "execution_count": 57,
   "metadata": {},
   "outputs": [
    {
     "data": {
      "text/plain": [
       "8"
      ]
     },
     "execution_count": 57,
     "metadata": {},
     "output_type": "execute_result"
    }
   ],
   "source": [
    "A = 5\n",
    "B = 3\n",
    "A + B"
   ]
  },
  {
   "cell_type": "code",
   "execution_count": 58,
   "metadata": {},
   "outputs": [],
   "source": [
    "Abacaxi = 7\n",
    "Banana = 4\n",
    "Morango = 6\n",
    "Frutas = Abacaxi + Banana + Morango"
   ]
  },
  {
   "cell_type": "markdown",
   "metadata": {},
   "source": [
    "Você deve ter reparado que após a execução não apareceu o valor de `Frutas`.\n",
    "\n",
    "Execute a célula abaixo para ver o valor de `Frutas`."
   ]
  },
  {
   "cell_type": "code",
   "execution_count": 59,
   "metadata": {
    "id": "atPGTAq5njMk"
   },
   "outputs": [
    {
     "data": {
      "text/plain": [
       "17"
      ]
     },
     "execution_count": 59,
     "metadata": {},
     "output_type": "execute_result"
    }
   ],
   "source": [
    "Frutas"
   ]
  },
  {
   "cell_type": "markdown",
   "metadata": {
    "id": "JlAmo0CiIxTV"
   },
   "source": [
    "Observe que as variáveis são persistidas entre as execuções.\n",
    "\n",
    "Se você executasse a variável antes de atribuir, ocorreria um erro.\n",
    "Execute as células abaixo."
   ]
  },
  {
   "cell_type": "code",
   "execution_count": 62,
   "metadata": {
    "colab": {
     "base_uri": "https://localhost:8080/"
    },
    "id": "craePeeCIxTV",
    "outputId": "75c677b9-8f55-4b99-adcd-3da62d0eaaad"
   },
   "outputs": [
    {
     "data": {
      "text/plain": [
       "30"
      ]
     },
     "execution_count": 62,
     "metadata": {},
     "output_type": "execute_result"
    }
   ],
   "source": [
    "Cidade"
   ]
  },
  {
   "cell_type": "markdown",
   "metadata": {},
   "source": [
    "A célula acima deve ter ocasionado algum erro, pois a variável `Cidade` ainda não foi declarada.\n",
    "\n",
    "Execute a célula abaixo, então repita a excecução da célula de cima."
   ]
  },
  {
   "cell_type": "code",
   "execution_count": 61,
   "metadata": {},
   "outputs": [],
   "source": [
    "Predio = 10\n",
    "Casa = 20\n",
    "Cidade = Predio + Casa"
   ]
  },
  {
   "cell_type": "markdown",
   "metadata": {
    "id": "q93XOfzcIxTY"
   },
   "source": [
    "Como já mencionado, as variáveis são persistidas durante a sessão.\n",
    "\n",
    "Você pode **Reiniciar** o *Notebook* através do menu para limpar todas as variáveis."
   ]
  },
  {
   "cell_type": "markdown",
   "metadata": {
    "id": "zrfwRuP9IxTp"
   },
   "source": [
    "### Múltiplas linhas de código\n",
    "\n",
    "Células de código podem ter múltiplas linhas.\n",
    "\n",
    "Veja como ficaria o exemplo da conversão de unidades de temperatura numa única célula. \n",
    "\n",
    "Note que apenas o resultado da última linha é apresentado."
   ]
  },
  {
   "cell_type": "code",
   "execution_count": 63,
   "metadata": {
    "colab": {
     "base_uri": "https://localhost:8080/"
    },
    "id": "sgpMC4Y_IxTp",
    "outputId": "4079e439-48fb-4fa4-df8e-2b6160d0f77b"
   },
   "outputs": [
    {
     "data": {
      "text/plain": [
       "131.0"
      ]
     },
     "execution_count": 63,
     "metadata": {},
     "output_type": "execute_result"
    }
   ],
   "source": [
    "C = 55\n",
    "C\n",
    "F = C * 9 / 5 + 32\n",
    "F"
   ]
  },
  {
   "cell_type": "markdown",
   "metadata": {
    "id": "U9-T3mupIxTg"
   },
   "source": [
    "### Nomes de variáveis\n",
    "\n",
    "**Atenção:** letras maiúsculas ou minúsculas fazem diferença!\n",
    "\n",
    "Uma variável chamada `C` e outra chamada `c` são diferentes! Veja o que acontece:\n"
   ]
  },
  {
   "cell_type": "code",
   "execution_count": 64,
   "metadata": {
    "id": "IqhfZWltIxTg"
   },
   "outputs": [],
   "source": [
    "C = 0\n",
    "c = 1"
   ]
  },
  {
   "cell_type": "code",
   "execution_count": 65,
   "metadata": {
    "colab": {
     "base_uri": "https://localhost:8080/"
    },
    "id": "cbotLnlzIxTi",
    "outputId": "a2975ec1-6ce6-4819-89b0-8a14accf6f43"
   },
   "outputs": [
    {
     "data": {
      "text/plain": [
       "0"
      ]
     },
     "execution_count": 65,
     "metadata": {},
     "output_type": "execute_result"
    }
   ],
   "source": [
    "C"
   ]
  },
  {
   "cell_type": "code",
   "execution_count": 66,
   "metadata": {
    "colab": {
     "base_uri": "https://localhost:8080/"
    },
    "id": "qFYngnaDIxTj",
    "outputId": "8994c63b-281e-45b9-e222-5089e19b3e82"
   },
   "outputs": [
    {
     "data": {
      "text/plain": [
       "1"
      ]
     },
     "execution_count": 66,
     "metadata": {},
     "output_type": "execute_result"
    }
   ],
   "source": [
    "c"
   ]
  },
  {
   "cell_type": "markdown",
   "metadata": {
    "id": "4aWamhZL6YUF"
   },
   "source": [
    "Outra coisa importante é respeitar algumas regras na hora de nomear uma variável. \n",
    "\n",
    "Nomes de variáveis não podem conter espaço em branco e nem caracteres especiais; eles também não podem começar com dígitos numéricos. \n",
    "\n",
    "Por exemplo, `a22` é um nome de variável válido, enquanto`2xg` é inválido. \n",
    "\n",
    "O Python aceita que você use caracteres acentuados ou cedilha em nomes de variáveis, mas é uma boa prática de programação evitar o uso de tais caracteres. "
   ]
  },
  {
   "cell_type": "markdown",
   "metadata": {
    "id": "GxURa_KjIxTm"
   },
   "source": [
    "## Atribuição de conteúdo à variável\n",
    "\n",
    "O símbolo ``=`` em \n",
    "```\n",
    "F = 9 / 5 + 32\n",
    "```\n",
    "é o operador usado para **atribuição**, ou seja, **a operação de guardar/armazenar um valor/conteúdo em uma variável**.\n",
    "\n",
    "O programa faz o seguinte:\n",
    "1. Calcula o valor da expressão ``9 / 5 + 32``\n",
    "2. Coloca/atribui esse valor na variável chamada ``F``\n",
    "\n",
    "Ou seja, uma **atribuição tem sempre o seguinte formato**:\n",
    "\n",
    "    nome da variável = valor que se queira armazenar na variável\n",
    "\n",
    "No caso acima, o nome da variável é `F`. E o valor armazenado em `F` é o resultado de `9 / 5 + 3`.\n",
    "    \n",
    "É muito importante que **o nome da variável esteja à esquerda e que o valor que se queira armazenar esteja à direita**. Trocar a ordem causa erro ou comportamentos inesperados no seu programa.\n",
    "\n",
    "Execute a célula para verificar o resultado."
   ]
  },
  {
   "cell_type": "code",
   "execution_count": 67,
   "metadata": {
    "id": "YV0BUL26nS49"
   },
   "outputs": [
    {
     "data": {
      "text/plain": [
       "33.8"
      ]
     },
     "execution_count": 67,
     "metadata": {},
     "output_type": "execute_result"
    }
   ],
   "source": [
    "F = 9/5 + 32\n",
    "F"
   ]
  },
  {
   "cell_type": "markdown",
   "metadata": {
    "id": "HNf2TjjSU6nx"
   },
   "source": [
    "Compare com a célula abaixo que está errada e portanto vai exibir erro."
   ]
  },
  {
   "cell_type": "code",
   "execution_count": 68,
   "metadata": {
    "colab": {
     "base_uri": "https://localhost:8080/",
     "height": 130
    },
    "id": "RXMDymn2Uxew",
    "outputId": "3770cb5c-ce74-4043-ece0-849051fcff29"
   },
   "outputs": [
    {
     "ename": "SyntaxError",
     "evalue": "cannot assign to expression here. Maybe you meant '==' instead of '='? (2561410600.py, line 1)",
     "output_type": "error",
     "traceback": [
      "\u001b[0;36m  Cell \u001b[0;32mIn[68], line 1\u001b[0;36m\u001b[0m\n\u001b[0;31m    9/5 + 32 = F\u001b[0m\n\u001b[0m    ^\u001b[0m\n\u001b[0;31mSyntaxError\u001b[0m\u001b[0;31m:\u001b[0m cannot assign to expression here. Maybe you meant '==' instead of '='?\n"
     ]
    }
   ],
   "source": [
    "9/5 + 32 = F\n",
    "F"
   ]
  },
  {
   "cell_type": "markdown",
   "metadata": {
    "id": "g7hcLCZ_0tGm"
   },
   "source": [
    "---\n",
    "\n",
    "# Elementos de um programa\n",
    "\n",
    "Um programa de computador é um conjunto (sequência) de instruções que ele executa para resolver uma determinada tarefa/exercício.\n",
    "\n",
    "Para cada tarefa/exercício são necessários programas (sequências de instruções) distintas.\n",
    "\n",
    "Características/elementos de um Programa:\n",
    "\n",
    "1) **Entrada**: o programa precisa receber dados para serem processados. Até agora vimos como atribuir valores às variáveis dentro do programa. Na Unidade/Semana 2, veremos como entrar os dados no programa via teclado.\n",
    "\n",
    "2) **Processamento**: o processamento de dados geralmente é realizado com o uso de operadores. Até agora vimos operadores matemáticos.\n",
    "\n",
    "3) **Saída**:  programa exibe resultados, por exemplo, na tela do computador. \n",
    "\n",
    "No código abaixo comentamos cada elemento do Programa (usando comentários)."
   ]
  },
  {
   "cell_type": "code",
   "execution_count": 69,
   "metadata": {
    "colab": {
     "base_uri": "https://localhost:8080/"
    },
    "id": "cTkbnPt76QkM",
    "outputId": "7e43e148-b8a3-4fda-fe1f-fce9e63a9535"
   },
   "outputs": [
    {
     "data": {
      "text/plain": [
       "131.0"
      ]
     },
     "execution_count": 69,
     "metadata": {},
     "output_type": "execute_result"
    }
   ],
   "source": [
    "C =  55               # ENTRADA - atribuímos valor 55 à variável chamada C\n",
    "F = C * 9 / 5 + 32    # PROCESSAMENTO - fazemos a conta, que é conversão de temperatura de Celsius para Fahrenheit\n",
    "F                     # SAÍDA - imprimimos o resultado "
   ]
  },
  {
   "cell_type": "markdown",
   "metadata": {
    "id": "oey2MP7B62VT"
   },
   "source": [
    "---\n",
    "\n",
    "# Utilizando biblioteca: a biblioteca ``math``\n",
    "\n",
    "Vamos ver agora como importar bibliotecas no notebook.\n",
    "\n",
    "O que é uma biblioteca? Uma biblioteca contém códigos prontos para serem usados. \n",
    "\n",
    "Uma biblioteca muito útil é a ``math``, que contém várias funções e constantes matemáticas.\n",
    "\n",
    "Veja como importar a biblioteca ``math``:"
   ]
  },
  {
   "cell_type": "code",
   "execution_count": 70,
   "metadata": {
    "id": "EdOXlIB94CXk"
   },
   "outputs": [],
   "source": [
    "import math"
   ]
  },
  {
   "cell_type": "markdown",
   "metadata": {
    "id": "pxHUFGOw-o9u"
   },
   "source": [
    "A ``math ``contém algumas constantes como $\\pi$ e a de Euler $e$ (aproximações para essas constantes, é claro).\n",
    "\n",
    "Veja como acessá-las:"
   ]
  },
  {
   "cell_type": "code",
   "execution_count": 71,
   "metadata": {
    "colab": {
     "base_uri": "https://localhost:8080/"
    },
    "id": "xmuFPZjG4ble",
    "outputId": "9026a8f2-d4aa-49c9-e979-18d7b1ac5314"
   },
   "outputs": [
    {
     "data": {
      "text/plain": [
       "3.141592653589793"
      ]
     },
     "execution_count": 71,
     "metadata": {},
     "output_type": "execute_result"
    }
   ],
   "source": [
    "math.pi"
   ]
  },
  {
   "cell_type": "code",
   "execution_count": 72,
   "metadata": {
    "colab": {
     "base_uri": "https://localhost:8080/"
    },
    "id": "0ZcSayeq4ir_",
    "outputId": "6b0a9e52-5c65-4df9-8267-2906a20160f6"
   },
   "outputs": [
    {
     "data": {
      "text/plain": [
       "2.718281828459045"
      ]
     },
     "execution_count": 72,
     "metadata": {},
     "output_type": "execute_result"
    }
   ],
   "source": [
    "math.e"
   ]
  },
  {
   "cell_type": "markdown",
   "metadata": {
    "id": "smeRQYkw_Do8"
   },
   "source": [
    "Para usar as funções matemáticas da ``math``, colocamos os **parâmetros** da função entre ``(`` e ``)``.\n",
    "\n",
    "Veja como calcular $3!$:"
   ]
  },
  {
   "cell_type": "code",
   "execution_count": 73,
   "metadata": {
    "id": "hyqZahzT4EWa"
   },
   "outputs": [
    {
     "data": {
      "text/plain": [
       "6"
      ]
     },
     "execution_count": 73,
     "metadata": {},
     "output_type": "execute_result"
    }
   ],
   "source": [
    "math.factorial(3)"
   ]
  },
  {
   "cell_type": "markdown",
   "metadata": {
    "id": "zsk803Uk_asl"
   },
   "source": [
    "Veja um exemplo com a fórmula de Bhaskara (com apenas uma das raízes).\n",
    "\n",
    "Para refrescar sua memória:\n",
    "\n",
    "As raízes de  $ax^2 + bx + c = 0$ são:\n",
    "\n",
    "$\\frac{-b + \\sqrt{\\Delta}}{2a}$ e $\\frac{-b - \\sqrt{\\Delta}}{2a}$ \n",
    "\n",
    "onde $\\Delta = b^2 - 4ac$ (e elas só existem se $\\Delta\\geq 0$).\n",
    "\n",
    "A função ``math.sqrt(x)`` calcula o valor da raiz quadrada de ``x``.\n",
    "\n",
    "OBS: O que a função recebe como parâmetro pode ser uma expressão"
   ]
  },
  {
   "cell_type": "code",
   "execution_count": 74,
   "metadata": {
    "id": "qVMsfQkl4oGa"
   },
   "outputs": [
    {
     "data": {
      "text/plain": [
       "-0.4010690422181042"
      ]
     },
     "execution_count": 74,
     "metadata": {},
     "output_type": "execute_result"
    }
   ],
   "source": [
    "a = 2*math.pi\n",
    "b = 10\n",
    "c = 3\n",
    "delta = b**2 - 4*a*c\n",
    "raiz1 = (-b + math.sqrt(delta))/(2*a)\n",
    "raiz1"
   ]
  },
  {
   "cell_type": "markdown",
   "metadata": {
    "id": "e-PH-emtAf5x"
   },
   "source": [
    "Algumas funções precisam de mais de um parâmetro.\n",
    "\n",
    "Por exemplo, a função ``math.gcd(x,y)`` calcula o valor do máximo divisor comum (mdc) entre ``x`` e ``y``."
   ]
  },
  {
   "cell_type": "code",
   "execution_count": 75,
   "metadata": {
    "id": "xJq8Mhew4sG8"
   },
   "outputs": [
    {
     "data": {
      "text/plain": [
       "7"
      ]
     },
     "execution_count": 75,
     "metadata": {},
     "output_type": "execute_result"
    }
   ],
   "source": [
    "math.gcd(35,28)"
   ]
  },
  {
   "cell_type": "markdown",
   "metadata": {
    "id": "V49v9bChFick"
   },
   "source": [
    "O uso de bibliotecas ilustra dois conceitos importantes em Computação: \n",
    "* **modularização**: ao invés de escrevermos todo o código de uma vez em um só lugar, o código é dividido em partes;\n",
    "* **reutilização**: não precisamos escrever o código do zero toda vez que programamos.\n",
    "\n",
    "**Aqui está uma lista das funções e constantes na** [``math``](https://docs.python.org/3/library/math.html)"
   ]
  },
  {
   "cell_type": "markdown",
   "metadata": {
    "id": "9Jl4T-_wm8Ja"
   },
   "source": [
    "---\n",
    "\n",
    "# Exibindo mensagens\n",
    "A função ``print`` é utilizada para mostrar mensagens/valores na tela. \n",
    "\n",
    "A mensagem é colocada entre parênteses ``(`` e ``)``.\n",
    "\n",
    "Veja o resultado da execução das células abaixo."
   ]
  },
  {
   "cell_type": "code",
   "execution_count": 76,
   "metadata": {
    "colab": {
     "base_uri": "https://localhost:8080/"
    },
    "id": "kJCpwypunIQ4",
    "outputId": "f2c149fa-c19f-45d2-e423-7fb8c2f16270"
   },
   "outputs": [
    {
     "name": "stdout",
     "output_type": "stream",
     "text": [
      "120\n"
     ]
    }
   ],
   "source": [
    "print(120)"
   ]
  },
  {
   "cell_type": "markdown",
   "metadata": {
    "id": "rrv5NQ5inzxn"
   },
   "source": [
    "Quando a mensagem é um **texto**, ela deve estar escrita **entre aspas** como a seguir."
   ]
  },
  {
   "cell_type": "code",
   "execution_count": 77,
   "metadata": {
    "colab": {
     "base_uri": "https://localhost:8080/"
    },
    "id": "X6EzGZFznfpC",
    "outputId": "2b77ba53-b006-41a3-b700-e2921aff2dae"
   },
   "outputs": [
    {
     "name": "stdout",
     "output_type": "stream",
     "text": [
      "Olá! Como vai?\n"
     ]
    }
   ],
   "source": [
    "print(\"Olá! Como vai?\")"
   ]
  },
  {
   "cell_type": "markdown",
   "metadata": {
    "id": "J0YaL7Yan6OE"
   },
   "source": [
    "**Podemos misturar números e textos na mensagem. Basta separá-los por vírgulas**:\n",
    "\n",
    "*Observação:* Note que esta vírgula cria um espaço em branco, ou seja, é adicionado um espaço em branco após o ``?`` abaixo."
   ]
  },
  {
   "cell_type": "code",
   "execution_count": 78,
   "metadata": {
    "colab": {
     "base_uri": "https://localhost:8080/"
    },
    "id": "ieJJ2geqnxTg",
    "outputId": "efe47f27-15d7-478a-8eb6-5af65be75401"
   },
   "outputs": [
    {
     "name": "stdout",
     "output_type": "stream",
     "text": [
      "Olá! Como vai? 120\n"
     ]
    }
   ],
   "source": [
    "print(\"Olá! Como vai?\", 120)"
   ]
  },
  {
   "cell_type": "markdown",
   "metadata": {
    "id": "1jC57uUupp-3"
   },
   "source": [
    "**Podemos colocar várias mensagens e valores separando-los por vírgulas:**\n",
    "\n",
    "*Observação:* Note que no exemplo abaixo é adicionado um espaço em branco entre textos (mensagens) e valores também.\n"
   ]
  },
  {
   "cell_type": "code",
   "execution_count": 79,
   "metadata": {
    "colab": {
     "base_uri": "https://localhost:8080/"
    },
    "id": "L6_O5YYKpwL9",
    "outputId": "f7164cbc-8597-4233-cd0f-b0f764c2b3d4"
   },
   "outputs": [
    {
     "name": "stdout",
     "output_type": "stream",
     "text": [
      "Olá! Como vai? 120 Vou bem, obrigado! 201\n"
     ]
    }
   ],
   "source": [
    "print(\"Olá! Como vai?\",120,\"Vou bem, obrigado!\",201)"
   ]
  },
  {
   "cell_type": "markdown",
   "metadata": {
    "id": "DuiOY_kip0fb"
   },
   "source": [
    "A função `print ` adiciona uma quebra-de-linha/enter ao fim da mensagem. \n",
    "\n",
    "Veja o que acontece com duas chamadas de `print` seguidas:"
   ]
  },
  {
   "cell_type": "code",
   "execution_count": 80,
   "metadata": {
    "colab": {
     "base_uri": "https://localhost:8080/"
    },
    "id": "JJROUJc-pz6x",
    "outputId": "0618e34e-eb06-4a0e-a4b1-f5c42af451fa"
   },
   "outputs": [
    {
     "name": "stdout",
     "output_type": "stream",
     "text": [
      "Olá! Como vai? 120\n",
      "Vou bem, obrigado! 201\n"
     ]
    }
   ],
   "source": [
    "print(\"Olá! Como vai?\",120)\n",
    "print(\"Vou bem, obrigado!\",201)"
   ]
  },
  {
   "cell_type": "markdown",
   "metadata": {
    "id": "umGLuzPjokNh"
   },
   "source": [
    "**Podemos também usar variáveis nas mensagens:**"
   ]
  },
  {
   "cell_type": "code",
   "execution_count": 81,
   "metadata": {
    "colab": {
     "base_uri": "https://localhost:8080/"
    },
    "id": "Z1FQHG0NoEMr",
    "outputId": "c547cdde-9ac2-4931-c008-809085651c32"
   },
   "outputs": [
    {
     "name": "stdout",
     "output_type": "stream",
     "text": [
      "Olá! Como vai? 120\n"
     ]
    }
   ],
   "source": [
    "C = 120\n",
    "print(\"Olá! Como vai?\", C)"
   ]
  },
  {
   "cell_type": "markdown",
   "metadata": {
    "id": "P7CuNZhUovWd"
   },
   "source": [
    "**Podemos até fazer operações:**"
   ]
  },
  {
   "cell_type": "code",
   "execution_count": 82,
   "metadata": {
    "id": "ieX46TB4osAT"
   },
   "outputs": [
    {
     "name": "stdout",
     "output_type": "stream",
     "text": [
      "Olá! Como vai? 1920.0\n"
     ]
    }
   ],
   "source": [
    "C = 120\n",
    "print(\"Olá! Como vai?\", (C+C*31)/2)"
   ]
  },
  {
   "cell_type": "markdown",
   "metadata": {
    "id": "yn9PGccqo9OK"
   },
   "source": [
    "**Quando o número a ser exibido é um número com várias casas decimais, podemos definir quantas casas decimais serão mostradas.**\n",
    "\n",
    "**Note que ao invés da vírgula usamos agora o símbolo**``%``: \n"
   ]
  },
  {
   "cell_type": "code",
   "execution_count": 83,
   "metadata": {
    "colab": {
     "base_uri": "https://localhost:8080/"
    },
    "id": "C6Sy-xE4o3jY",
    "outputId": "e3e4b233-67ac-4361-ad47-def0318697c1"
   },
   "outputs": [
    {
     "name": "stdout",
     "output_type": "stream",
     "text": [
      "O valor da variável C é 120.99\n"
     ]
    }
   ],
   "source": [
    "C = 120.994901\n",
    "print(\"O valor da variável C é %.2f\" % C)"
   ]
  },
  {
   "cell_type": "markdown",
   "metadata": {
    "id": "ou8V2wBMrooR"
   },
   "source": [
    "Aqui note que o **%.2f** é substituído pelo valor da variável C arredondada para **2 casas decimais**. \n",
    "\n",
    "%.2f:\n",
    "- %: indica onde deve aparecer o valor da variável especificada em seguida\n",
    "- f: indica que queremos mostrar um número que pode ter casas decimais\n",
    "- .2: indica que queremos 2 casas depois da vírgula\n",
    "\n",
    "Assim para mostrar 4 casas decimais:"
   ]
  },
  {
   "cell_type": "code",
   "execution_count": 84,
   "metadata": {
    "colab": {
     "base_uri": "https://localhost:8080/"
    },
    "id": "NHwiZQKVsivv",
    "outputId": "7623c393-76dd-4665-d444-dd5fe300ba08"
   },
   "outputs": [
    {
     "name": "stdout",
     "output_type": "stream",
     "text": [
      "O valor da variável C é 120.9949\n"
     ]
    }
   ],
   "source": [
    "C = 120.994901\n",
    "print(\"O valor da variável C é %.4f\"% C)"
   ]
  },
  {
   "cell_type": "markdown",
   "metadata": {
    "id": "cyAadNVKfxvr"
   },
   "source": [
    "<hr>"
   ]
  },
  {
   "cell_type": "markdown",
   "metadata": {
    "id": "jkKgXTvTImP2"
   },
   "source": [
    "# Observações importantes \n",
    "\n"
   ]
  },
  {
   "cell_type": "markdown",
   "metadata": {
    "id": "9ZtDQS4j2XgB"
   },
   "source": [
    "## 1) Transformando os valores em INTEIRO ou VALOR COM CASAS DECIMAIS (número de ponto flutuante)\n",
    "O comando `print()` é utilizado para mostrar mensagens/valores na tela.\n",
    "\n",
    "O comando `int(x)` transforma o valor de x em inteiro.\n",
    "\n",
    "O comando `float(x)` transforma o valor de x em um número com casas decimais (ou seja, número de ponto flutuante).\n",
    "\n",
    "Veja exemplos:\n"
   ]
  },
  {
   "cell_type": "code",
   "execution_count": 85,
   "metadata": {
    "id": "4Oqkl1K3AG0L"
   },
   "outputs": [
    {
     "name": "stdout",
     "output_type": "stream",
     "text": [
      "1202\n"
     ]
    }
   ],
   "source": [
    "C1 = 1202.54\n",
    "C2 = int(C1) # transforma o valor de C1 em inteiro e atribui este valor à variável C2\n",
    "print(C2)"
   ]
  },
  {
   "cell_type": "markdown",
   "metadata": {
    "id": "A3027aU2AhpF"
   },
   "source": [
    "Ou (equivalente):"
   ]
  },
  {
   "cell_type": "code",
   "execution_count": 86,
   "metadata": {
    "id": "jCTnUNsY2XgM"
   },
   "outputs": [
    {
     "name": "stdout",
     "output_type": "stream",
     "text": [
      "1202\n"
     ]
    }
   ],
   "source": [
    "print(int(1202.54))"
   ]
  },
  {
   "cell_type": "markdown",
   "metadata": {
    "id": "_dt0Z_LhAmZ9"
   },
   "source": [
    "Para transformar um número inteiro em um número com casas decimais:"
   ]
  },
  {
   "cell_type": "code",
   "execution_count": 87,
   "metadata": {
    "id": "LvlYc18M3PlD"
   },
   "outputs": [
    {
     "name": "stdout",
     "output_type": "stream",
     "text": [
      "122.0\n"
     ]
    }
   ],
   "source": [
    "print(float(122))"
   ]
  },
  {
   "cell_type": "markdown",
   "metadata": {
    "id": "n5HuNqqUZMhM"
   },
   "source": [
    "## 2) Para imprimir um número com casas decimais sem a parte decimal, ou seja, descartando os valores das casas decimais: \n",
    "\n",
    "O comando %.0f NÃO funciona\n",
    "\n",
    "Comando %.0f pode arredondar tanto pra cima como para baixo dependendo do valor, mas se você não sabe o valor a priori, você não sabe se ele vai arredondar para cima ou para baixo. "
   ]
  },
  {
   "cell_type": "markdown",
   "metadata": {
    "id": "QEo2JrYR90nN"
   },
   "source": [
    "Assim, em vez de usar :\n"
   ]
  },
  {
   "cell_type": "code",
   "execution_count": 88,
   "metadata": {
    "colab": {
     "base_uri": "https://localhost:8080/"
    },
    "id": "SninfXot90FP",
    "outputId": "33886b02-c9ea-40ab-e932-b2ae00b461c0"
   },
   "outputs": [
    {
     "name": "stdout",
     "output_type": "stream",
     "text": [
      "1203\n"
     ]
    }
   ],
   "source": [
    "print(\"%.0f\" %1202.54)"
   ]
  },
  {
   "cell_type": "markdown",
   "metadata": {
    "id": "lA-nfV7_98Qr"
   },
   "source": [
    "Para  imprimir o número  1202.54 sem a parte decimal, pode ser usado o comando `int(x) ` que transforma o valor x em inteiro:\n"
   ]
  },
  {
   "cell_type": "code",
   "execution_count": 89,
   "metadata": {
    "colab": {
     "base_uri": "https://localhost:8080/"
    },
    "id": "mX4j2FSa-Jhh",
    "outputId": "5198770a-eed9-441d-8baa-e69c234f4f98"
   },
   "outputs": [
    {
     "name": "stdout",
     "output_type": "stream",
     "text": [
      "1202\n"
     ]
    }
   ],
   "source": [
    "print(int(1202.54))"
   ]
  },
  {
   "cell_type": "markdown",
   "metadata": {
    "id": "hyNm2ZTmQDE4"
   },
   "source": [
    "Ou então o comando ` math.floor() `:\n",
    "\n",
    "Retorna o **piso** de x, o maior inteiro menor ou igual a x. \n"
   ]
  },
  {
   "cell_type": "code",
   "execution_count": 90,
   "metadata": {
    "id": "MIx4ieAORtos"
   },
   "outputs": [
    {
     "name": "stdout",
     "output_type": "stream",
     "text": [
      "1202\n"
     ]
    }
   ],
   "source": [
    "import math                     # para usar math.floor precisamos importar biblioteca math\n",
    "print (math.floor(1202.54))     "
   ]
  }
 ],
 "metadata": {
  "colab": {
   "provenance": []
  },
  "kernelspec": {
   "display_name": "Python 3 (ipykernel)",
   "language": "python",
   "name": "python3"
  },
  "language_info": {
   "codemirror_mode": {
    "name": "ipython",
    "version": 3
   },
   "file_extension": ".py",
   "mimetype": "text/x-python",
   "name": "python",
   "nbconvert_exporter": "python",
   "pygments_lexer": "ipython3",
   "version": "3.11.3"
  }
 },
 "nbformat": 4,
 "nbformat_minor": 1
}
