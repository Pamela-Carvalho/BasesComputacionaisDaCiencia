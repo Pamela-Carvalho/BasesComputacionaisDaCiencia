{
 "cells": [
  {
   "cell_type": "markdown",
   "metadata": {
    "id": "FZ7GCLeaFVy5"
   },
   "source": [
    "## Exercício: quilômetros percorridos\n",
    "\n",
    "Considere um carro com tanque com capacidade $C$ em litros e eficiência $E$ em km/litro. Queremos saber quantos quilômetros o carro anda com $C$ litros (assumindo que a eficiência vai ser exata).\n",
    "\n",
    "Faça um programa que\n",
    "- Recebe o valor de $C$\n",
    "- Recebe o valor de $E$\n",
    "- Mostre a resposta formatada com duas casas decimais como neste exemplo:\n",
    "O carro vai andar 256.79 quilômetros."
   ]
  },
  {
   "cell_type": "code",
   "execution_count": 5,
   "metadata": {},
   "outputs": [
    {
     "name": "stdout",
     "output_type": "stream",
     "text": [
      "Informe a capacidade do tanque em litros:14\n",
      "Informe a eficiência em km/litro:12\n",
      "O carro vai andar 168.00 km com  14.0 litros de combustível\n"
     ]
    }
   ],
   "source": [
    "C = float(input(\"Informe a capacidade do tanque em litros:\"))\n",
    "E = float(input(\"Informe a eficiência em km/litro:\"))\n",
    "autonomia = C * E\n",
    "print(\"O carro vai andar %.2f\" % autonomia, \"km com \", C, \"litros de combustível\")"
   ]
  },
  {
   "cell_type": "markdown",
   "metadata": {
    "id": "KN6WLimxIjei"
   },
   "source": [
    "## Exercício\n",
    "Atribua valores para $a$, $b$ e $c$ para obter ``True``."
   ]
  },
  {
   "cell_type": "code",
   "execution_count": 17,
   "metadata": {
    "id": "x4-phEJfIiu9"
   },
   "outputs": [
    {
     "data": {
      "text/plain": [
       "True"
      ]
     },
     "execution_count": 17,
     "metadata": {},
     "output_type": "execute_result"
    }
   ],
   "source": [
    "a = 1\n",
    "b = 2\n",
    "c = 2\n",
    "a <= b and b==c"
   ]
  },
  {
   "cell_type": "code",
   "execution_count": 13,
   "metadata": {
    "id": "m3pcW82aRMNo"
   },
   "outputs": [
    {
     "data": {
      "text/plain": [
       "True"
      ]
     },
     "execution_count": 13,
     "metadata": {},
     "output_type": "execute_result"
    }
   ],
   "source": [
    "a = 0\n",
    "b = 1\n",
    "c = 2\n",
    "a < b and b<c"
   ]
  },
  {
   "cell_type": "code",
   "execution_count": 15,
   "metadata": {
    "id": "h7wmaAF-RM0c"
   },
   "outputs": [
    {
     "data": {
      "text/plain": [
       "True"
      ]
     },
     "execution_count": 15,
     "metadata": {},
     "output_type": "execute_result"
    }
   ],
   "source": [
    "a = 2\n",
    "b = 2\n",
    "c = 1\n",
    "a <= b or b==c"
   ]
  },
  {
   "cell_type": "markdown",
   "metadata": {
    "id": "CiG2uAtIIr4x"
   },
   "source": [
    "## Exercício\n",
    "Atribua valores para $a$ e $b$ para obter ``False``."
   ]
  },
  {
   "cell_type": "code",
   "execution_count": 18,
   "metadata": {
    "id": "WOhyjkuEI4rG"
   },
   "outputs": [
    {
     "data": {
      "text/plain": [
       "False"
      ]
     },
     "execution_count": 18,
     "metadata": {},
     "output_type": "execute_result"
    }
   ],
   "source": [
    "a = 3\n",
    "b = 2\n",
    "c = 1\n",
    "a == b or b==c or a==c"
   ]
  },
  {
   "cell_type": "code",
   "execution_count": 19,
   "metadata": {
    "id": "bGMYHpURROal"
   },
   "outputs": [
    {
     "data": {
      "text/plain": [
       "False"
      ]
     },
     "execution_count": 19,
     "metadata": {},
     "output_type": "execute_result"
    }
   ],
   "source": [
    "a = 4\n",
    "b = 2\n",
    "c = 1\n",
    "a <= b or a<=c"
   ]
  },
  {
   "cell_type": "markdown",
   "metadata": {
    "id": "vjmAZ02cI-us"
   },
   "source": [
    "## Exercício\n",
    "\n",
    "Modifique o código abaixo supondo que ao invés de melhor custo-benefício, você quer comprar o pacote com o pior custo-benefício.\n",
    "\n",
    "Ou seja, com o valor de real por quilo mais caro."
   ]
  },
  {
   "cell_type": "code",
   "execution_count": 24,
   "metadata": {
    "id": "d9QVgc_0Rx7v"
   },
   "outputs": [
    {
     "name": "stdout",
     "output_type": "stream",
     "text": [
      "Digite o preço do pacote de 5kg: 10\n",
      "Digite o preço do pacote de 3kg: 8\n",
      "Digite o preço do pacote de 1kg: 5\n",
      "O preço por kg do pacote de 5kg é 2.0\n",
      "O preço por kg do pacote de 3kg é 2.6666666666666665\n",
      "O preço por kg do pacote de 1kg é 5.0\n",
      "Melhor comprar o pacote 1.\n"
     ]
    }
   ],
   "source": [
    "# Sua resposta\n",
    "preco5 = float(input(\"Digite o preço do pacote de 5kg: \"))\n",
    "preco3 = float(input(\"Digite o preço do pacote de 3kg: \"))\n",
    "preco1 = float(input(\"Digite o preço do pacote de 1kg: \"))\n",
    "razao5  = preco5 / 5\n",
    "razao3 = preco3 / 3\n",
    "razao1 = preco1 / 1\n",
    "print(\"O preço por kg do pacote de 5kg é\", razao5)\n",
    "print(\"O preço por kg do pacote de 3kg é\", razao3)\n",
    "print(\"O preço por kg do pacote de 1kg é\", razao1)\n",
    "if razao3 >= razao5 and razao3 >= razao1:\n",
    "  print(\"Melhor comprar o pacote 3.\")\n",
    "elif razao5 >= razao3 and razao5 >= razao1:\n",
    "  print(\"Melhor comprar o pacote 5.\")\n",
    "else:\n",
    "  print(\"Melhor comprar o pacote 1.\")"
   ]
  }
 ],
 "metadata": {
  "colab": {
   "provenance": []
  },
  "kernelspec": {
   "display_name": "Python 3 (ipykernel)",
   "language": "python",
   "name": "python3"
  },
  "language_info": {
   "codemirror_mode": {
    "name": "ipython",
    "version": 3
   },
   "file_extension": ".py",
   "mimetype": "text/x-python",
   "name": "python",
   "nbconvert_exporter": "python",
   "pygments_lexer": "ipython3",
   "version": "3.11.3"
  }
 },
 "nbformat": 4,
 "nbformat_minor": 4
}
