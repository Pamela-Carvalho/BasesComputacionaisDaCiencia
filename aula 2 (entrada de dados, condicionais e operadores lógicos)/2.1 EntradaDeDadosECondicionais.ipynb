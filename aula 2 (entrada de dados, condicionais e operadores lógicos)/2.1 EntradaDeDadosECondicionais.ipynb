{
 "cells": [
  {
   "cell_type": "markdown",
   "metadata": {
    "id": "hDNlu5IwWrLv"
   },
   "source": [
    "# Recebendo/Lendo dados\n",
    "\n",
    "Na Unidade 1, a entrada de dados foi feita diretamente no programa, atribuindo um valor fixo para variável.\n",
    "\n",
    "Nesta unidade veremos **como receber dados do usuário (que ele digita via teclado)**.\n",
    "\n",
    "**Para receber dados do usuário, utilizamos a função ``input``.**\n",
    "\n",
    "\n",
    "É sempre bom exibir para o usuário a mensagem que explica qual dado ele deve digitar. **O texto de mensagem deve ficar entre aspas duplas**, ou seja,\n",
    "\n",
    "**``input(\"texto_da_mensagem\")``**\n",
    "\n",
    "Execute a célula abaixo. Deve aparecer uma caixa para você digitar o valor de C.\n",
    "Após digitar o valor para C, pressione a tecla enter."
   ]
  },
  {
   "cell_type": "code",
   "execution_count": 1,
   "metadata": {
    "id": "2JNDxnWoZgBd"
   },
   "outputs": [],
   "source": [
    "C = input(\"Digite a temperatura em Celsius: \") # Eh exibido texto \"Digite a temperatura em Celsius\" para o suario.\n",
    "                                               # O que usuario digitar eh atribuido a variavel C"
   ]
  },
  {
   "cell_type": "code",
   "execution_count": null,
   "metadata": {
    "id": "j48KQUOxZ0r3"
   },
   "outputs": [],
   "source": [
    "print(\"A temperatura digitada é\", C ,\"graus Celsius\") # Imprima o texto (que esta entre aspas duplas), o conteudo da variavel C, e o segundo texto"
   ]
  },
  {
   "cell_type": "markdown",
   "metadata": {
    "id": "EV4kMFwoBQhd"
   },
   "source": [
    "**O `input ` considera como padrão o que usuário digita como um texto.**\n",
    "\n",
    "Abaixo digite 10 como o valor para C.\n",
    "\n",
    "Veja o que acontece quando tentamos calcular C+C."
   ]
  },
  {
   "cell_type": "code",
   "execution_count": null,
   "metadata": {
    "id": "bpCnnVXPBGGx"
   },
   "outputs": [],
   "source": [
    "C = input(\"Digite a temperatura em Celsius: \")\n",
    "print(\"A temperatura digitada é\", C,\"graus Celsius\")\n",
    "D = C+C\n",
    "print(\"C+C é\", D)"
   ]
  },
  {
   "cell_type": "markdown",
   "metadata": {
    "id": "N_Jnp17MCfDT"
   },
   "source": [
    "O valor de D é 1010 quando o valor de C é 10. Por quê?\n",
    "\n",
    "É porque, **quando lidamos com textos, a operação ``+`` é a operação de concatenar (grudar) os textos.**\n",
    "\n",
    "Ou seja D é ``\"10\"+\"10\"``, que é ``\"1010\"``.\n",
    "\n",
    "Para que C seja considerado como número, **temos que fazer uma conversão**.\n",
    "\n",
    "Abaixo recebemos o valor na variável ``C_texto`` e **convertemos texto para um número que possivelmente pode ter casas decimais**.\n",
    "\n",
    "**Este tipo de número é chamado de ``float``**."
   ]
  },
  {
   "cell_type": "code",
   "execution_count": null,
   "metadata": {
    "id": "OVj27P1WCa8b"
   },
   "outputs": [],
   "source": [
    "C_texto = input(\"Digite a temperatura em Celsius: \")\n",
    "C = float(C_texto)\n",
    "print(\"A temperatura digitada é\",C,\"graus Celsius\")\n",
    "D = C+C\n",
    "print(\"C+C é\", D)"
   ]
  },
  {
   "cell_type": "markdown",
   "metadata": {
    "id": "U4pVI8R-DgMx"
   },
   "source": [
    "Na verdade, podemos usar a própria variável ``C`` como a seguir:"
   ]
  },
  {
   "cell_type": "code",
   "execution_count": null,
   "metadata": {
    "id": "FhBqA6YvDERh"
   },
   "outputs": [],
   "source": [
    "C = input(\"Digite a temperatura em Celsius: \")\n",
    "C = float(C)\n",
    "print(\"A temperatura digitada é\",C,\"graus Celsius\")\n",
    "D = C+C\n",
    "print(\"C+C é\", D)"
   ]
  },
  {
   "cell_type": "markdown",
   "metadata": {
    "id": "j7CNUIuDDvXT"
   },
   "source": [
    "Ou até mesmo, fazer em uma única linha (juntar as primeiras duas linhas de código acima em uma única linha):"
   ]
  },
  {
   "cell_type": "code",
   "execution_count": null,
   "metadata": {
    "id": "-2GFSRsJDxUb"
   },
   "outputs": [],
   "source": [
    "C = float(input(\"Digite a temperatura em Celsius: \"))\n",
    "print(\"A temperatura digitada é\",C,\"graus Celsius\")\n",
    "D = C+C\n",
    "print(\"C+C é\", D)"
   ]
  },
  {
   "cell_type": "markdown",
   "metadata": {
    "id": "_bRfGwFQD3nu"
   },
   "source": [
    "Você pode usar qual opção preferir. É bem comum fazer em uma única linha.\n",
    "\n",
    "Veja mais um exemplo.\n",
    "\n",
    "Suponha que você queira dividir $d$ reais igualmente entre $n$ pessoas.\n",
    "\n",
    "Nesse caso, $d$ é um número possivelmente com casas decimais e $n$ é um número inteiro.\n",
    "\n",
    "**Para números inteiros, ao invés de ``float``, usamos ``int``**:"
   ]
  },
  {
   "cell_type": "code",
   "execution_count": null,
   "metadata": {
    "id": "-9GENKNBD29J"
   },
   "outputs": [],
   "source": [
    "d = float(input(\"Digite a quantidade de dinheiro: \"))\n",
    "n = int(input(\"Digite o número de pessoas.\"))\n",
    "r = d/n\n",
    "print(\"Cada pessoa vai receber\",r,\"reais\")"
   ]
  },
  {
   "cell_type": "markdown",
   "metadata": {
    "id": "2oeJxx-arFZ3"
   },
   "source": [
    "<hr>"
   ]
  },
  {
   "cell_type": "markdown",
   "metadata": {
    "id": "nHDjj00Hk1nw"
   },
   "source": [
    "# Condicionais em Python\n",
    "\n",
    "Uma das habilidades fundamentais quando estamos aprendendo a programar é conseguir traduzir nossos processos mentais em um programa de computador.\n",
    "\n",
    "Vamos ver um exemplo simples.\n",
    "\n",
    "Suponha que você queira comprar um pacote de farinha e existem duas opções de tamanho:\n",
    "* pacotes de 3kg\n",
    "* pacotes de 5kg.\n",
    "\n",
    "Suponha que você não se importe tanto em comprar 3kg ou 5kg: o que você quer é comprar a **melhor oferta** (ou seja, a opção com melhor custo-benefício).\n",
    "\n",
    "> O que você faz?\n",
    "\n",
    "Em geral, sabemos que o pacote maior costuma valer mais a pena.\n",
    "\n",
    "No entanto, muitas vezes isso não é verdade!\n",
    "\n",
    "> Se o pacote de 5kg custa 18 reais e o pacote de 3kg custa 10 reais, qual vale mais a pena?\n",
    "\n",
    "Acho que você provavelmente faria a conta de quantos reais são pagos por quilo:\n",
    "\n",
    "* 18 reais / 5kg = 3.6 reais/kg\n",
    "* 10 reais / 3kg = 3.33 reais/kg\n",
    "\n",
    "Aqui o custo-benefício é melhor para o pacote de 3kg.\n",
    "\n",
    "> Se o pacote de 5kg custa 16 reais e o pacote de 3kg custa 10 reais, qual vale mais a pena?\n",
    "\n",
    "* 16 reais / 5kg = 3.2 reais/kg\n",
    "* 10 reais / 3kg = 3.33 reais/kg\n",
    "\n",
    "Agora o pacote de 5kg vale mais a pena.\n",
    "\n",
    "Então dá para perceber que o processo é sempre o mesmo:\n",
    "\n",
    "1) Calcular preço do kg para o pacote de 5 kg: preço/5\n",
    "\n",
    "2) Calcular preço do kg para o pacote de 3kg: preço/3\n",
    "\n",
    "3) Escolher o menor entre os dois.\n",
    "\n",
    "> Como transformar esse processo em um programa?\n",
    "\n",
    "Veja os primeiros dois passos.\n",
    "\n",
    "Pedimos para o usuário digitar os preços. Teste com\n",
    "- 18 reais para o pacote de 5kg e\n",
    "- 10 reais para o pacote de 3kg."
   ]
  },
  {
   "cell_type": "code",
   "execution_count": null,
   "metadata": {
    "id": "qY2CYuTknyKt"
   },
   "outputs": [],
   "source": [
    "preco5 = float(input(\"Digite o preço do pacote de 5kg: \"))\n",
    "preco3 = float(input(\"Digite o preço do pacote de 3kg: \"))\n",
    "razao5 = preco5 / 5\n",
    "razao3 = preco3 / 3\n",
    "print(\"O preço por kg do pacote de 5kg é\", razao5)\n",
    "print(\"O preço por kg do pacote de 3kg é\", razao3)"
   ]
  },
  {
   "cell_type": "markdown",
   "metadata": {
    "id": "Qwq0FAVXkVmG"
   },
   "source": [
    "> E o passo 3?\n",
    "\n",
    "3) Escolher o menor entre os dois.\n",
    "\n",
    "Este passo depende dos valores calculados para ``razao5`` e ``razao3``.\n",
    "\n",
    "> Como fazer o programa lidar com isso sozinho?\n"
   ]
  },
  {
   "cell_type": "markdown",
   "metadata": {
    "id": "KNiieLT5PS2t"
   },
   "source": [
    "<hr>"
   ]
  },
  {
   "cell_type": "markdown",
   "metadata": {
    "id": "XFknvvSpfLyq"
   },
   "source": [
    "# O comando ``if``"
   ]
  },
  {
   "cell_type": "markdown",
   "metadata": {
    "id": "zy807uVxPINv"
   },
   "source": [
    "Digamos que queremos mostrar uma mensagem no caso de ``razao3`` ser menor.\n",
    "\n",
    "No caso de ``razao5`` ser menor, não vamos fazer nada por enquanto.\n",
    "\n",
    "Usamos o comando ``if``:"
   ]
  },
  {
   "cell_type": "code",
   "execution_count": null,
   "metadata": {
    "id": "KETJNz52nxvH"
   },
   "outputs": [],
   "source": [
    "if razao3 < razao5:\n",
    "  print(\"A segunda opção é melhor\")"
   ]
  },
  {
   "cell_type": "markdown",
   "metadata": {
    "id": "Cn9bqsexokx-"
   },
   "source": [
    "E o nosso programa inteiro ficaria assim:"
   ]
  },
  {
   "cell_type": "code",
   "execution_count": null,
   "metadata": {
    "id": "DgMfwnhaojLC"
   },
   "outputs": [],
   "source": [
    "preco5 = float(input(\"Digite o preço do pacote de 5kg: \"))\n",
    "preco3 = float(input(\"Digite o preço do pacote de 3kg: \"))\n",
    "razao5  = preco5 / 5\n",
    "razao3 = preco3 / 3\n",
    "print(\"O preço por kg do pacote de 5kg é\", razao5)\n",
    "print(\"O preço por kg do pacote de 3kg é\", razao3)\n",
    "if razao3 < razao5:\n",
    "  print(\"A segunda opção é melhor\")"
   ]
  },
  {
   "cell_type": "markdown",
   "metadata": {
    "id": "8ZhUfaiGo4Hc"
   },
   "source": [
    "É importante notar que o nosso processo de decidir qual pacote tem o melhor custo-benefício funciona para quaisquer dados (válidos) que o usuário digitar.\n"
   ]
  },
  {
   "cell_type": "markdown",
   "metadata": {
    "id": "zrLrwoLbpTVz"
   },
   "source": [
    "## Estrutura do comando ``if``\n",
    "\n",
    "O comando ``if`` tem a seguinte estrutura:\n",
    "\n",
    "(**IMPORTANTE: Observe o espaçamento na frente de comandos dentro de comando ``if``**)\n",
    "\n",
    "Se a condição é verdadeira, os comando são executados\n",
    "\n",
    "```\n",
    "if condicao:\n",
    "  comandos\n",
    "  comandos\n",
    "  comandos\n",
    "```\n",
    "\n",
    "Vamos ver um exemplo:"
   ]
  },
  {
   "cell_type": "code",
   "execution_count": null,
   "metadata": {
    "id": "TpjtuoQfs3XA"
   },
   "outputs": [],
   "source": [
    "a = 2\n",
    "b = 3\n",
    "if a<b:\n",
    "  print(\"A condição vale!\")\n",
    "  print(a,\"<\", b)"
   ]
  },
  {
   "cell_type": "markdown",
   "metadata": {
    "id": "2yiCKaC-s37b"
   },
   "source": [
    "No nosso caso, a condição é ``a < b`` que vale\n",
    "- ``True`` se o valor de ``a`` é menor que se o valor de ``b``  e\n",
    "- ``False`` caso contrário.\n",
    "\n",
    "Como, no exemplo, ``a=2`` e ``b=3``, a condição vale.\n",
    "\n",
    "Veja aqui:"
   ]
  },
  {
   "cell_type": "code",
   "execution_count": null,
   "metadata": {
    "id": "0aumnQ2BotDg"
   },
   "outputs": [],
   "source": [
    "a < b"
   ]
  },
  {
   "cell_type": "markdown",
   "metadata": {},
   "source": [
    "**Observação 1:** Na tabela abaixo estão todos os operadores de comparação em Python.\n",
    "\n",
    "|Operador|Significado|\n",
    "|:---:| --- |\n",
    "| >   | maior que |\n",
    "| <   | menor que |\n",
    "| >=  | maior ou igual a |\n",
    "| <=  | menor ou igual a |\n",
    "| ==  | igual a |\n",
    "| !=  | diferente de |"
   ]
  },
  {
   "cell_type": "markdown",
   "metadata": {
    "id": "Pwo8pFrHGBTk"
   },
   "source": [
    "**Observação 2:**\n",
    "\n",
    "**Note que, após a condição no ``if``, colocamos um ``:`` (dois-pontos)**\n",
    "\n",
    "```if a < b:```\n",
    "\n",
    "**Em seguida, colocamos os comandos a serem executados quando a condição é verdadeira**\n",
    "\n",
    "\n",
    "No nosso caso, temos dois comandos:\n",
    "```\n",
    "  print(\"A condição vale!\")\n",
    "  print(a,\"<\", b)\n",
    "```\n",
    "\n",
    "mas poderíamos ter incluído mais comandos!"
   ]
  },
  {
   "cell_type": "markdown",
   "metadata": {
    "id": "JNZw05E-ytvl"
   },
   "source": [
    "\n",
    "## Importante!!\n",
    "**Todos os comandos a serem executados quando a condição é verdadeira são identificados pelo número de espaços no começo da linha**.\n",
    "\n",
    "  Eles devem estar **deslocados para a direita**."
   ]
  },
  {
   "cell_type": "markdown",
   "metadata": {
    "id": "XWW3EFVGqdEM"
   },
   "source": [
    "No código a seguir, o comando ``print(a,\"<\", b)`` está fora do bloco do ``if``.\n",
    "\n",
    "Veja como a execução fica errada.\n",
    "\n",
    "100 não é menor que 3, e portanto o programa não deve executar nada. Mas, ele imprime  \"100 < 3\" somente pois a última linha não é descolada para a direita, e portanto esta linha não faz  parte do bloco do `if`:"
   ]
  },
  {
   "cell_type": "code",
   "execution_count": null,
   "metadata": {
    "id": "kxGtP-3cp_K_"
   },
   "outputs": [],
   "source": [
    "a = 100\n",
    "b = 3\n",
    "if a<b:\n",
    "  print(\"A condição vale!\")\n",
    "print(a,\"<\", b) # esta linha nao eh deslocada para a direita e portanto na faz parte de bloco do if"
   ]
  },
  {
   "cell_type": "markdown",
   "metadata": {
    "id": "G-v6fhUUrrV_"
   },
   "source": [
    "\n",
    "O uso de espaços no código é chamado de **indentação**.\n",
    "\n",
    "Na maioria das linguagens, a indentação tem um papel de organização/estético, mas em Python o uso correto de indentação é crucial.\n",
    "\n",
    "**Colocar espaços extras ou a menos no começo das linhas pode causar muitos problemas!**\n",
    "\n",
    "Para deslocar o seu código para a direita é melhor usar o ``TAB``, mas você pode usar a tecla de espaço em branco também."
   ]
  },
  {
   "cell_type": "markdown",
   "metadata": {
    "id": "zzzUjU1iLKH1"
   },
   "source": [
    "<hr>"
   ]
  },
  {
   "cell_type": "markdown",
   "metadata": {
    "id": "yR2uAQQ9pql1"
   },
   "source": [
    "# Os comandos ``if`` / ``else``"
   ]
  },
  {
   "cell_type": "markdown",
   "metadata": {
    "id": "HgD_MbCM8u5j"
   },
   "source": [
    "No exemplo para os pacotes de farinha, mostramos uma mensagem apenas no caso em que ``razao3 < razao5``.\n",
    "\n",
    "Podemos usar o comando ``else`` para lidar com o caso oposto."
   ]
  },
  {
   "cell_type": "code",
   "execution_count": null,
   "metadata": {
    "id": "OtTVTFD9pvIO"
   },
   "outputs": [],
   "source": [
    "preco5 = float(input(\"Digite o preço do pacote de 5kg: \"))\n",
    "preco3 = float(input(\"Digite o preço do pacote de 3kg: \"))\n",
    "razao5  = preco5 / 5\n",
    "razao3 = preco3 / 3\n",
    "print(\"O preço por kg do pacote de 5kg é\", razao5)\n",
    "print(\"O preço por kg do pacote de 3kg é\", razao3)\n",
    "if razao3 < razao5:\n",
    "  print(\"A segunda opção é melhor.\")\n",
    "else:\n",
    "  print(\"A primeira opção é melhor.\")"
   ]
  },
  {
   "cell_type": "markdown",
   "metadata": {
    "id": "Kv50BVs287Qa"
   },
   "source": [
    "**Os comandos dentro do bloco do ``else`` só serão executados se a condição do ``if`` for falsa.**\n",
    "\n",
    "> Mas, ao invés de ``if/else``, dava para usar dois ``if``'s?\n",
    "\n",
    "Sim. Logicamente não faz diferença:"
   ]
  },
  {
   "cell_type": "code",
   "execution_count": null,
   "metadata": {
    "id": "7lUUdQg486OG"
   },
   "outputs": [],
   "source": [
    "preco5 = float(input(\"Digite o preço do pacote de 5kg: \"))\n",
    "preco3 = float(input(\"Digite o preço do pacote de 3kg: \"))\n",
    "razao5  = preco5 / 5\n",
    "razao3 = preco3 / 3\n",
    "print(\"O preço por kg do pacote de 5kg é\", razao5)\n",
    "print(\"O preço por kg do pacote de 3kg é\", razao3)\n",
    "if razao3 < razao5:\n",
    "  print(\"A segunda opção é melhor.\")\n",
    "if razao3 >= razao5:\n",
    "  print(\"A primeira opção é melhor.\")"
   ]
  },
  {
   "cell_type": "markdown",
   "metadata": {
    "id": "VM_dwbo69JvB"
   },
   "source": [
    "Mas, **sempre que puder, use o ``else``.**\n",
    "\n",
    "**O código fica mais fácil de ler e tem menos chance de cometermos um erro.**"
   ]
  },
  {
   "cell_type": "markdown",
   "metadata": {
    "id": "Z9va_d2JLMkM"
   },
   "source": [
    "<hr>"
   ]
  },
  {
   "cell_type": "markdown",
   "metadata": {
    "id": "F6Kv8kwSpyUi"
   },
   "source": [
    "# O comando ``elif``\n",
    "\n",
    "\n",
    "Agora suponha que você considera que é um **empate** no caso em que a diferença de ``razao3`` e ``razao5`` seja de até 1 centavo.\n",
    "\n",
    "Vamos usar o comando ``elif``."
   ]
  },
  {
   "cell_type": "code",
   "execution_count": null,
   "metadata": {
    "id": "NFRAlX0fp5gT"
   },
   "outputs": [],
   "source": [
    "preco5 = float(input(\"Digite o preço do pacote de 5kg: \"))\n",
    "preco3 = float(input(\"Digite o preço do pacote de 3kg: \"))\n",
    "razao5  = preco5 / 5\n",
    "razao3 = preco3 / 3\n",
    "print(\"O preço por kg do pacote de 5kg é\", razao5)\n",
    "print(\"O preço por kg do pacote de 3kg é\", razao3)\n",
    "\n",
    "if razao3 < razao5-0.01:\n",
    "  print(\"A segunda opção é melhor.\")\n",
    "elif razao5 < razao3-0.01:\n",
    "  print(\"A primeira opção é melhor.\")\n",
    "else:\n",
    "  print(\"Empate\")"
   ]
  },
  {
   "cell_type": "markdown",
   "metadata": {
    "id": "LMTcyAPSgadN"
   },
   "source": [
    "Agora o programa faz assim:\n",
    "- Primeiro ele checa se ``razao3 < razao5-0.01``.\n",
    "\n",
    "  Se é verdade, então ele executa ``print(\"A segunda opção é melhor.\")``.\n",
    "  Ele não checa a condição do ``elif`` e não executa o ``else``.\n",
    "\n",
    "- Se ``razao3 < razao5-0.01`` não vale, então ele checa a condição no ``elif``. Ou seja, se ``razao5 < razao3-0.01``\n",
    "  Se for verdadeiro, ele executa ``print(\"A primeira opção é melhor.\")``\n",
    "\n",
    "- Se nenhuma condição do ``if`` e do ``elif`` vale, ele executa o que está no ``else`` (se houver ``else``).\n"
   ]
  },
  {
   "cell_type": "markdown",
   "metadata": {
    "id": "yUjBpR71hPQp"
   },
   "source": [
    "Podemos usar vários ``elif``'s!\n",
    "\n",
    "Exercício:\n",
    "\n",
    "\n",
    "\n",
    "Suponha que queremos converter uma nota para conceito com as seguintes regras:\n",
    "* $nota \\geq 95$: conceito A\n",
    "* $80 \\leq nota < 95$: conceito B\n",
    "* $60 \\leq nota < 80$: conceito C\n",
    "* $50 \\leq nota < 60$: conceito D\n",
    "* $nota < 50$: conceito F\n"
   ]
  },
  {
   "cell_type": "code",
   "execution_count": null,
   "metadata": {
    "id": "RnRn9n_uSDXC"
   },
   "outputs": [],
   "source": [
    "nota = int(input(\"Nota final: \"))\n",
    "if nota >= 95:\n",
    "  conceito = \"A\"\n",
    "elif nota >= 80:\n",
    "  conceito = \"B\"\n",
    "elif nota >= 60:\n",
    "  conceito = \"C\"\n",
    "elif nota >= 50:\n",
    "  conceito = \"D\"\n",
    "else:\n",
    "  conceito = \"F\"\n",
    "print(conceito)"
   ]
  },
  {
   "cell_type": "markdown",
   "metadata": {
    "id": "OM0h5hTc9Ug8"
   },
   "source": [
    "<hr>\n"
   ]
  },
  {
   "cell_type": "markdown",
   "metadata": {
    "id": "uHDW6orEqET1"
   },
   "source": [
    "# Operadores lógicos `and ` e `or `"
   ]
  },
  {
   "cell_type": "markdown",
   "metadata": {
    "id": "G7UmvE3Jr8Ne"
   },
   "source": [
    "Suponha que, no nosso exemplo dos pacotes de farinha, agora tenhamos 3 tipos de pacotes:\n",
    "* Pacotes de 1kg\n",
    "* Pacotes de 3kg\n",
    "* Pacotes de 5 kg\n",
    "\n",
    "Agora temos as seguintes possibilidades:\n",
    "- Se ``razao3 <= razao5`` **E** ``razao3 <= razao1``, então o pacote com 3 kgs é a melhor oferta\n",
    "- Se ``razao5 <= razao3`` **E** ``razao5 <= razao1``,  então o pacote com 5 kgs é a melhor oferta:\n",
    "- Se nenhuma das opções acima vale, então a melhor oferta é o pacote com 1 kg.\n",
    "\n",
    "Então combinamos as condições usando ``and`` como a seguir."
   ]
  },
  {
   "cell_type": "code",
   "execution_count": null,
   "metadata": {
    "id": "pyIjFoNxqFxw"
   },
   "outputs": [],
   "source": [
    "preco5 = float(input(\"Digite o preço do pacote de 5kg: \"))\n",
    "preco3 = float(input(\"Digite o preço do pacote de 3kg: \"))\n",
    "preco1 = float(input(\"Digite o preço do pacote de 1kg: \"))\n",
    "razao5  = preco5 / 5\n",
    "razao3 = preco3 / 3\n",
    "razao1 = preco1 / 1\n",
    "print(\"O preço por kg do pacote de 5kg é\", razao5)\n",
    "print(\"O preço por kg do pacote de 3kg é\", razao3)\n",
    "print(\"O preço por kg do pacote de 1kg é\", razao1)\n",
    "if razao3 <= razao5 and razao3 <= razao1:\n",
    "  print(\"Melhor comprar o pacote 3.\")\n",
    "elif razao5 <= razao3 and razao5 <= razao1:\n",
    "  print(\"Melhor comprar o pacote 5.\")\n",
    "else:\n",
    "  print(\"Melhor comprar o pacote 1.\")"
   ]
  },
  {
   "cell_type": "markdown",
   "metadata": {
    "id": "E2IYo398ulv1"
   },
   "source": [
    "**``condicao1 and condicao2``\n",
    "vale verdadeiro quando ambas as condições valem ao mesmo tempo:**"
   ]
  },
  {
   "cell_type": "code",
   "execution_count": null,
   "metadata": {
    "id": "rBExErQTu2E4"
   },
   "outputs": [],
   "source": [
    "1 < 2 and 3 == 3"
   ]
  },
  {
   "cell_type": "code",
   "execution_count": null,
   "metadata": {
    "id": "_bN-FBF5u5xM"
   },
   "outputs": [],
   "source": [
    "1 < 2 and 3 > 4"
   ]
  },
  {
   "cell_type": "markdown",
   "metadata": {
    "id": "lML0uli-u8qP"
   },
   "source": [
    "Podemos unir condições usando também um ``or``\n",
    "\n",
    "**``condicao1 or condicao2``**\n",
    "\n",
    "**vale verdadeiro quando pelo menos uma das condições é verdadeira (inclusive quando ambas são verdadeiras):**"
   ]
  },
  {
   "cell_type": "code",
   "execution_count": null,
   "metadata": {
    "id": "3paA762nvSHs"
   },
   "outputs": [],
   "source": [
    "1 < 2 or 3 == 3"
   ]
  },
  {
   "cell_type": "code",
   "execution_count": null,
   "metadata": {
    "id": "-PxeLvaxvSM4"
   },
   "outputs": [],
   "source": [
    "1 < 2 or 3 > 4"
   ]
  },
  {
   "cell_type": "code",
   "execution_count": null,
   "metadata": {
    "id": "8JK8UlCVvSR7"
   },
   "outputs": [],
   "source": [
    "1 > 2 or 3 > 4"
   ]
  }
 ],
 "metadata": {
  "colab": {
   "provenance": []
  },
  "kernelspec": {
   "display_name": "Python 3 (ipykernel)",
   "language": "python",
   "name": "python3"
  },
  "language_info": {
   "codemirror_mode": {
    "name": "ipython",
    "version": 3
   },
   "file_extension": ".py",
   "mimetype": "text/x-python",
   "name": "python",
   "nbconvert_exporter": "python",
   "pygments_lexer": "ipython3",
   "version": "3.11.3"
  }
 },
 "nbformat": 4,
 "nbformat_minor": 4
}
