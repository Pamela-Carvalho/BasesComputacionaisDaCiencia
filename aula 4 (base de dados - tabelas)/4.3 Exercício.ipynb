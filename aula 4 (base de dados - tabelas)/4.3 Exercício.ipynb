{
 "cells": [
  {
   "cell_type": "markdown",
   "metadata": {
    "id": "Bzc5PoYjAH_h"
   },
   "source": [
    "### Exercício\n",
    "\n",
    "Ordene a planilha de filmes (ver o Notebook teórico) por Nota."
   ]
  },
  {
   "cell_type": "code",
   "execution_count": 7,
   "metadata": {
    "id": "GnsmS3EAAPtA"
   },
   "outputs": [
    {
     "data": {
      "text/html": [
       "<div>\n",
       "<style scoped>\n",
       "    .dataframe tbody tr th:only-of-type {\n",
       "        vertical-align: middle;\n",
       "    }\n",
       "\n",
       "    .dataframe tbody tr th {\n",
       "        vertical-align: top;\n",
       "    }\n",
       "\n",
       "    .dataframe thead th {\n",
       "        text-align: right;\n",
       "    }\n",
       "</style>\n",
       "<table border=\"1\" class=\"dataframe\">\n",
       "  <thead>\n",
       "    <tr style=\"text-align: right;\">\n",
       "      <th></th>\n",
       "      <th>Título</th>\n",
       "      <th>Ano</th>\n",
       "      <th>Duração</th>\n",
       "      <th>Nota</th>\n",
       "    </tr>\n",
       "  </thead>\n",
       "  <tbody>\n",
       "    <tr>\n",
       "      <th>5</th>\n",
       "      <td>X-men</td>\n",
       "      <td>2000</td>\n",
       "      <td>104</td>\n",
       "      <td>74</td>\n",
       "    </tr>\n",
       "    <tr>\n",
       "      <th>1</th>\n",
       "      <td>Harry Potter e a Pedra Filosofal</td>\n",
       "      <td>2001</td>\n",
       "      <td>152</td>\n",
       "      <td>75</td>\n",
       "    </tr>\n",
       "    <tr>\n",
       "      <th>4</th>\n",
       "      <td>Star Trek</td>\n",
       "      <td>2009</td>\n",
       "      <td>127</td>\n",
       "      <td>80</td>\n",
       "    </tr>\n",
       "    <tr>\n",
       "      <th>9</th>\n",
       "      <td>O Exterminador do Futuro</td>\n",
       "      <td>1984</td>\n",
       "      <td>107</td>\n",
       "      <td>81</td>\n",
       "    </tr>\n",
       "    <tr>\n",
       "      <th>6</th>\n",
       "      <td>Os Guardiões da Galáxia</td>\n",
       "      <td>2014</td>\n",
       "      <td>121</td>\n",
       "      <td>82</td>\n",
       "    </tr>\n",
       "    <tr>\n",
       "      <th>3</th>\n",
       "      <td>Os Vingadores</td>\n",
       "      <td>2012</td>\n",
       "      <td>143</td>\n",
       "      <td>84</td>\n",
       "    </tr>\n",
       "    <tr>\n",
       "      <th>0</th>\n",
       "      <td>Star Wars</td>\n",
       "      <td>1977</td>\n",
       "      <td>121</td>\n",
       "      <td>87</td>\n",
       "    </tr>\n",
       "    <tr>\n",
       "      <th>8</th>\n",
       "      <td>The Matrix</td>\n",
       "      <td>1999</td>\n",
       "      <td>136</td>\n",
       "      <td>87</td>\n",
       "    </tr>\n",
       "    <tr>\n",
       "      <th>2</th>\n",
       "      <td>O Senhor dos Anéis: a Companhia do Anel</td>\n",
       "      <td>2001</td>\n",
       "      <td>178</td>\n",
       "      <td>88</td>\n",
       "    </tr>\n",
       "    <tr>\n",
       "      <th>7</th>\n",
       "      <td>A Origem</td>\n",
       "      <td>2010</td>\n",
       "      <td>148</td>\n",
       "      <td>88</td>\n",
       "    </tr>\n",
       "  </tbody>\n",
       "</table>\n",
       "</div>"
      ],
      "text/plain": [
       "                                    Título   Ano  Duração  Nota\n",
       "5                                    X-men  2000      104    74\n",
       "1         Harry Potter e a Pedra Filosofal  2001      152    75\n",
       "4                                Star Trek  2009      127    80\n",
       "9                 O Exterminador do Futuro  1984      107    81\n",
       "6                  Os Guardiões da Galáxia  2014      121    82\n",
       "3                            Os Vingadores  2012      143    84\n",
       "0                                Star Wars  1977      121    87\n",
       "8                               The Matrix  1999      136    87\n",
       "2  O Senhor dos Anéis: a Companhia do Anel  2001      178    88\n",
       "7                                 A Origem  2010      148    88"
      ]
     },
     "execution_count": 7,
     "metadata": {},
     "output_type": "execute_result"
    }
   ],
   "source": [
    "import pandas as pd\n",
    "\n",
    "filmes_csv = \"4.1 Filmes.csv\"\n",
    "\n",
    "f = open(filmes_csv, \"w\", encoding='utf-8')\n",
    "f.write(\"\"\"Título,Ano,Duração,Nota\n",
    "Star Wars,1977,121,87\n",
    "Harry Potter e a Pedra Filosofal,2001,152,75\n",
    "O Senhor dos Anéis: a Companhia do Anel,2001,178,88\n",
    "Os Vingadores,2012,143,84\n",
    "Star Trek,2009,127,80\n",
    "X-men,2000,104,74\n",
    "Os Guardiões da Galáxia,2014,121,82\n",
    "A Origem,2010,148,88\n",
    "The Matrix,1999,136,87\n",
    "O Exterminador do Futuro,1984,107,81\n",
    "\"\"\")\n",
    "f.close()\n",
    "\n",
    "df = pd.read_csv(filmes_csv)\n",
    "df.sort_values(by=\"Nota\")"
   ]
  },
  {
   "cell_type": "markdown",
   "metadata": {
    "id": "MphdeGW-AZy4"
   },
   "source": [
    "### Exercício\n",
    "\n",
    "Ordene a planilha de filmes por Nota, da maior para a menor."
   ]
  },
  {
   "cell_type": "code",
   "execution_count": 9,
   "metadata": {
    "id": "pmV1veaiBli8"
   },
   "outputs": [
    {
     "data": {
      "text/html": [
       "<div>\n",
       "<style scoped>\n",
       "    .dataframe tbody tr th:only-of-type {\n",
       "        vertical-align: middle;\n",
       "    }\n",
       "\n",
       "    .dataframe tbody tr th {\n",
       "        vertical-align: top;\n",
       "    }\n",
       "\n",
       "    .dataframe thead th {\n",
       "        text-align: right;\n",
       "    }\n",
       "</style>\n",
       "<table border=\"1\" class=\"dataframe\">\n",
       "  <thead>\n",
       "    <tr style=\"text-align: right;\">\n",
       "      <th></th>\n",
       "      <th>Título</th>\n",
       "      <th>Ano</th>\n",
       "      <th>Duração</th>\n",
       "      <th>Nota</th>\n",
       "    </tr>\n",
       "  </thead>\n",
       "  <tbody>\n",
       "    <tr>\n",
       "      <th>2</th>\n",
       "      <td>O Senhor dos Anéis: a Companhia do Anel</td>\n",
       "      <td>2001</td>\n",
       "      <td>178</td>\n",
       "      <td>88</td>\n",
       "    </tr>\n",
       "    <tr>\n",
       "      <th>7</th>\n",
       "      <td>A Origem</td>\n",
       "      <td>2010</td>\n",
       "      <td>148</td>\n",
       "      <td>88</td>\n",
       "    </tr>\n",
       "    <tr>\n",
       "      <th>0</th>\n",
       "      <td>Star Wars</td>\n",
       "      <td>1977</td>\n",
       "      <td>121</td>\n",
       "      <td>87</td>\n",
       "    </tr>\n",
       "    <tr>\n",
       "      <th>8</th>\n",
       "      <td>The Matrix</td>\n",
       "      <td>1999</td>\n",
       "      <td>136</td>\n",
       "      <td>87</td>\n",
       "    </tr>\n",
       "    <tr>\n",
       "      <th>3</th>\n",
       "      <td>Os Vingadores</td>\n",
       "      <td>2012</td>\n",
       "      <td>143</td>\n",
       "      <td>84</td>\n",
       "    </tr>\n",
       "    <tr>\n",
       "      <th>6</th>\n",
       "      <td>Os Guardiões da Galáxia</td>\n",
       "      <td>2014</td>\n",
       "      <td>121</td>\n",
       "      <td>82</td>\n",
       "    </tr>\n",
       "    <tr>\n",
       "      <th>9</th>\n",
       "      <td>O Exterminador do Futuro</td>\n",
       "      <td>1984</td>\n",
       "      <td>107</td>\n",
       "      <td>81</td>\n",
       "    </tr>\n",
       "    <tr>\n",
       "      <th>4</th>\n",
       "      <td>Star Trek</td>\n",
       "      <td>2009</td>\n",
       "      <td>127</td>\n",
       "      <td>80</td>\n",
       "    </tr>\n",
       "    <tr>\n",
       "      <th>1</th>\n",
       "      <td>Harry Potter e a Pedra Filosofal</td>\n",
       "      <td>2001</td>\n",
       "      <td>152</td>\n",
       "      <td>75</td>\n",
       "    </tr>\n",
       "    <tr>\n",
       "      <th>5</th>\n",
       "      <td>X-men</td>\n",
       "      <td>2000</td>\n",
       "      <td>104</td>\n",
       "      <td>74</td>\n",
       "    </tr>\n",
       "  </tbody>\n",
       "</table>\n",
       "</div>"
      ],
      "text/plain": [
       "                                    Título   Ano  Duração  Nota\n",
       "2  O Senhor dos Anéis: a Companhia do Anel  2001      178    88\n",
       "7                                 A Origem  2010      148    88\n",
       "0                                Star Wars  1977      121    87\n",
       "8                               The Matrix  1999      136    87\n",
       "3                            Os Vingadores  2012      143    84\n",
       "6                  Os Guardiões da Galáxia  2014      121    82\n",
       "9                 O Exterminador do Futuro  1984      107    81\n",
       "4                                Star Trek  2009      127    80\n",
       "1         Harry Potter e a Pedra Filosofal  2001      152    75\n",
       "5                                    X-men  2000      104    74"
      ]
     },
     "execution_count": 9,
     "metadata": {},
     "output_type": "execute_result"
    }
   ],
   "source": [
    "df.sort_values(by=\"Nota\", ascending=False)"
   ]
  },
  {
   "cell_type": "markdown",
   "metadata": {
    "id": "cpBBNjC9vVqa"
   },
   "source": [
    "### Exercício\n",
    "Ordene a planilha de filmes por Nota (menor para maior) com critério de desempate a Duração (maior para menor)."
   ]
  },
  {
   "cell_type": "code",
   "execution_count": 14,
   "metadata": {
    "id": "8L18pTDwvlU3"
   },
   "outputs": [
    {
     "data": {
      "text/html": [
       "<div>\n",
       "<style scoped>\n",
       "    .dataframe tbody tr th:only-of-type {\n",
       "        vertical-align: middle;\n",
       "    }\n",
       "\n",
       "    .dataframe tbody tr th {\n",
       "        vertical-align: top;\n",
       "    }\n",
       "\n",
       "    .dataframe thead th {\n",
       "        text-align: right;\n",
       "    }\n",
       "</style>\n",
       "<table border=\"1\" class=\"dataframe\">\n",
       "  <thead>\n",
       "    <tr style=\"text-align: right;\">\n",
       "      <th></th>\n",
       "      <th>Título</th>\n",
       "      <th>Ano</th>\n",
       "      <th>Duração</th>\n",
       "      <th>Nota</th>\n",
       "    </tr>\n",
       "  </thead>\n",
       "  <tbody>\n",
       "    <tr>\n",
       "      <th>5</th>\n",
       "      <td>X-men</td>\n",
       "      <td>2000</td>\n",
       "      <td>104</td>\n",
       "      <td>74</td>\n",
       "    </tr>\n",
       "    <tr>\n",
       "      <th>1</th>\n",
       "      <td>Harry Potter e a Pedra Filosofal</td>\n",
       "      <td>2001</td>\n",
       "      <td>152</td>\n",
       "      <td>75</td>\n",
       "    </tr>\n",
       "    <tr>\n",
       "      <th>4</th>\n",
       "      <td>Star Trek</td>\n",
       "      <td>2009</td>\n",
       "      <td>127</td>\n",
       "      <td>80</td>\n",
       "    </tr>\n",
       "    <tr>\n",
       "      <th>9</th>\n",
       "      <td>O Exterminador do Futuro</td>\n",
       "      <td>1984</td>\n",
       "      <td>107</td>\n",
       "      <td>81</td>\n",
       "    </tr>\n",
       "    <tr>\n",
       "      <th>6</th>\n",
       "      <td>Os Guardiões da Galáxia</td>\n",
       "      <td>2014</td>\n",
       "      <td>121</td>\n",
       "      <td>82</td>\n",
       "    </tr>\n",
       "    <tr>\n",
       "      <th>3</th>\n",
       "      <td>Os Vingadores</td>\n",
       "      <td>2012</td>\n",
       "      <td>143</td>\n",
       "      <td>84</td>\n",
       "    </tr>\n",
       "    <tr>\n",
       "      <th>8</th>\n",
       "      <td>The Matrix</td>\n",
       "      <td>1999</td>\n",
       "      <td>136</td>\n",
       "      <td>87</td>\n",
       "    </tr>\n",
       "    <tr>\n",
       "      <th>0</th>\n",
       "      <td>Star Wars</td>\n",
       "      <td>1977</td>\n",
       "      <td>121</td>\n",
       "      <td>87</td>\n",
       "    </tr>\n",
       "    <tr>\n",
       "      <th>2</th>\n",
       "      <td>O Senhor dos Anéis: a Companhia do Anel</td>\n",
       "      <td>2001</td>\n",
       "      <td>178</td>\n",
       "      <td>88</td>\n",
       "    </tr>\n",
       "    <tr>\n",
       "      <th>7</th>\n",
       "      <td>A Origem</td>\n",
       "      <td>2010</td>\n",
       "      <td>148</td>\n",
       "      <td>88</td>\n",
       "    </tr>\n",
       "  </tbody>\n",
       "</table>\n",
       "</div>"
      ],
      "text/plain": [
       "                                    Título   Ano  Duração  Nota\n",
       "5                                    X-men  2000      104    74\n",
       "1         Harry Potter e a Pedra Filosofal  2001      152    75\n",
       "4                                Star Trek  2009      127    80\n",
       "9                 O Exterminador do Futuro  1984      107    81\n",
       "6                  Os Guardiões da Galáxia  2014      121    82\n",
       "3                            Os Vingadores  2012      143    84\n",
       "8                               The Matrix  1999      136    87\n",
       "0                                Star Wars  1977      121    87\n",
       "2  O Senhor dos Anéis: a Companhia do Anel  2001      178    88\n",
       "7                                 A Origem  2010      148    88"
      ]
     },
     "execution_count": 14,
     "metadata": {},
     "output_type": "execute_result"
    }
   ],
   "source": [
    "df.sort_values(by=[\"Nota\", \"Duração\"], ascending=[True, False])"
   ]
  },
  {
   "cell_type": "markdown",
   "metadata": {
    "id": "eeZRnxs6xKg1"
   },
   "source": [
    "### Exercício\n",
    "Faça um filtro para visualizar apenas os filmes a partir do ano 2000.\n",
    "\n",
    "Observação: Se quiser usar $\\geq$ use ``>=`` Similar para $\\leq$\n"
   ]
  },
  {
   "cell_type": "code",
   "execution_count": 17,
   "metadata": {
    "id": "DvDzpQg0xjds"
   },
   "outputs": [
    {
     "data": {
      "text/html": [
       "<div>\n",
       "<style scoped>\n",
       "    .dataframe tbody tr th:only-of-type {\n",
       "        vertical-align: middle;\n",
       "    }\n",
       "\n",
       "    .dataframe tbody tr th {\n",
       "        vertical-align: top;\n",
       "    }\n",
       "\n",
       "    .dataframe thead th {\n",
       "        text-align: right;\n",
       "    }\n",
       "</style>\n",
       "<table border=\"1\" class=\"dataframe\">\n",
       "  <thead>\n",
       "    <tr style=\"text-align: right;\">\n",
       "      <th></th>\n",
       "      <th>Título</th>\n",
       "      <th>Ano</th>\n",
       "      <th>Duração</th>\n",
       "      <th>Nota</th>\n",
       "    </tr>\n",
       "  </thead>\n",
       "  <tbody>\n",
       "    <tr>\n",
       "      <th>1</th>\n",
       "      <td>Harry Potter e a Pedra Filosofal</td>\n",
       "      <td>2001</td>\n",
       "      <td>152</td>\n",
       "      <td>75</td>\n",
       "    </tr>\n",
       "    <tr>\n",
       "      <th>2</th>\n",
       "      <td>O Senhor dos Anéis: a Companhia do Anel</td>\n",
       "      <td>2001</td>\n",
       "      <td>178</td>\n",
       "      <td>88</td>\n",
       "    </tr>\n",
       "    <tr>\n",
       "      <th>3</th>\n",
       "      <td>Os Vingadores</td>\n",
       "      <td>2012</td>\n",
       "      <td>143</td>\n",
       "      <td>84</td>\n",
       "    </tr>\n",
       "    <tr>\n",
       "      <th>4</th>\n",
       "      <td>Star Trek</td>\n",
       "      <td>2009</td>\n",
       "      <td>127</td>\n",
       "      <td>80</td>\n",
       "    </tr>\n",
       "    <tr>\n",
       "      <th>5</th>\n",
       "      <td>X-men</td>\n",
       "      <td>2000</td>\n",
       "      <td>104</td>\n",
       "      <td>74</td>\n",
       "    </tr>\n",
       "    <tr>\n",
       "      <th>6</th>\n",
       "      <td>Os Guardiões da Galáxia</td>\n",
       "      <td>2014</td>\n",
       "      <td>121</td>\n",
       "      <td>82</td>\n",
       "    </tr>\n",
       "    <tr>\n",
       "      <th>7</th>\n",
       "      <td>A Origem</td>\n",
       "      <td>2010</td>\n",
       "      <td>148</td>\n",
       "      <td>88</td>\n",
       "    </tr>\n",
       "  </tbody>\n",
       "</table>\n",
       "</div>"
      ],
      "text/plain": [
       "                                    Título   Ano  Duração  Nota\n",
       "1         Harry Potter e a Pedra Filosofal  2001      152    75\n",
       "2  O Senhor dos Anéis: a Companhia do Anel  2001      178    88\n",
       "3                            Os Vingadores  2012      143    84\n",
       "4                                Star Trek  2009      127    80\n",
       "5                                    X-men  2000      104    74\n",
       "6                  Os Guardiões da Galáxia  2014      121    82\n",
       "7                                 A Origem  2010      148    88"
      ]
     },
     "execution_count": 17,
     "metadata": {},
     "output_type": "execute_result"
    }
   ],
   "source": [
    "df.query(\"Ano >= 2000\")"
   ]
  },
  {
   "cell_type": "markdown",
   "metadata": {
    "id": "IyQczhT3z5DI"
   },
   "source": [
    "### Exercício\n",
    "\n",
    "Faça um filtro para visualizar apenas os filmes do ano 2001.\n",
    "\n",
    "Observação: Para fazer uma condição de igualdade, use ``==`` e não ``=``"
   ]
  },
  {
   "cell_type": "code",
   "execution_count": 20,
   "metadata": {
    "id": "QaqPteelsco2"
   },
   "outputs": [
    {
     "data": {
      "text/html": [
       "<div>\n",
       "<style scoped>\n",
       "    .dataframe tbody tr th:only-of-type {\n",
       "        vertical-align: middle;\n",
       "    }\n",
       "\n",
       "    .dataframe tbody tr th {\n",
       "        vertical-align: top;\n",
       "    }\n",
       "\n",
       "    .dataframe thead th {\n",
       "        text-align: right;\n",
       "    }\n",
       "</style>\n",
       "<table border=\"1\" class=\"dataframe\">\n",
       "  <thead>\n",
       "    <tr style=\"text-align: right;\">\n",
       "      <th></th>\n",
       "      <th>Título</th>\n",
       "      <th>Ano</th>\n",
       "      <th>Duração</th>\n",
       "      <th>Nota</th>\n",
       "    </tr>\n",
       "  </thead>\n",
       "  <tbody>\n",
       "    <tr>\n",
       "      <th>5</th>\n",
       "      <td>X-men</td>\n",
       "      <td>2000</td>\n",
       "      <td>104</td>\n",
       "      <td>74</td>\n",
       "    </tr>\n",
       "  </tbody>\n",
       "</table>\n",
       "</div>"
      ],
      "text/plain": [
       "  Título   Ano  Duração  Nota\n",
       "5  X-men  2000      104    74"
      ]
     },
     "execution_count": 20,
     "metadata": {},
     "output_type": "execute_result"
    }
   ],
   "source": [
    "df.query(\"Ano == 2000\")"
   ]
  },
  {
   "cell_type": "markdown",
   "metadata": {
    "id": "pkyrjq-hzaLV"
   },
   "source": [
    "### Exercício\n",
    "\n",
    "Faça um filtro para visualizar apenas os filmes com Nota pelo menos 80 que foram lançados antes do ano de 2003."
   ]
  },
  {
   "cell_type": "code",
   "execution_count": 21,
   "metadata": {
    "id": "fCZ5cd4t0iBp"
   },
   "outputs": [
    {
     "data": {
      "text/html": [
       "<div>\n",
       "<style scoped>\n",
       "    .dataframe tbody tr th:only-of-type {\n",
       "        vertical-align: middle;\n",
       "    }\n",
       "\n",
       "    .dataframe tbody tr th {\n",
       "        vertical-align: top;\n",
       "    }\n",
       "\n",
       "    .dataframe thead th {\n",
       "        text-align: right;\n",
       "    }\n",
       "</style>\n",
       "<table border=\"1\" class=\"dataframe\">\n",
       "  <thead>\n",
       "    <tr style=\"text-align: right;\">\n",
       "      <th></th>\n",
       "      <th>Título</th>\n",
       "      <th>Ano</th>\n",
       "      <th>Duração</th>\n",
       "      <th>Nota</th>\n",
       "    </tr>\n",
       "  </thead>\n",
       "  <tbody>\n",
       "    <tr>\n",
       "      <th>0</th>\n",
       "      <td>Star Wars</td>\n",
       "      <td>1977</td>\n",
       "      <td>121</td>\n",
       "      <td>87</td>\n",
       "    </tr>\n",
       "    <tr>\n",
       "      <th>2</th>\n",
       "      <td>O Senhor dos Anéis: a Companhia do Anel</td>\n",
       "      <td>2001</td>\n",
       "      <td>178</td>\n",
       "      <td>88</td>\n",
       "    </tr>\n",
       "    <tr>\n",
       "      <th>8</th>\n",
       "      <td>The Matrix</td>\n",
       "      <td>1999</td>\n",
       "      <td>136</td>\n",
       "      <td>87</td>\n",
       "    </tr>\n",
       "    <tr>\n",
       "      <th>9</th>\n",
       "      <td>O Exterminador do Futuro</td>\n",
       "      <td>1984</td>\n",
       "      <td>107</td>\n",
       "      <td>81</td>\n",
       "    </tr>\n",
       "  </tbody>\n",
       "</table>\n",
       "</div>"
      ],
      "text/plain": [
       "                                    Título   Ano  Duração  Nota\n",
       "0                                Star Wars  1977      121    87\n",
       "2  O Senhor dos Anéis: a Companhia do Anel  2001      178    88\n",
       "8                               The Matrix  1999      136    87\n",
       "9                 O Exterminador do Futuro  1984      107    81"
      ]
     },
     "execution_count": 21,
     "metadata": {},
     "output_type": "execute_result"
    }
   ],
   "source": [
    "df.query(\"Nota >= 80 and Ano <= 2003\")"
   ]
  },
  {
   "cell_type": "markdown",
   "metadata": {
    "id": "MznY9Za4IAX_"
   },
   "source": [
    "### Exercício\n",
    "\n",
    "Utilizando a lista de filmes, escreva uma instrução para retornar o menor valor dos atributos numéricos."
   ]
  },
  {
   "cell_type": "code",
   "execution_count": 28,
   "metadata": {
    "id": "9trYji04Iglf"
   },
   "outputs": [
    {
     "data": {
      "text/plain": [
       "Título     A Origem\n",
       "Ano            1977\n",
       "Duração         104\n",
       "Nota             74\n",
       "dtype: object"
      ]
     },
     "execution_count": 28,
     "metadata": {},
     "output_type": "execute_result"
    }
   ],
   "source": [
    "df.min()"
   ]
  },
  {
   "cell_type": "markdown",
   "metadata": {
    "id": "rdjxkBWfIbiu"
   },
   "source": [
    "### Exercício\n",
    "\n",
    "Utilizando a lista de filmes, escreva uma instrução para retornar o menor valor do atributo `Nota`."
   ]
  },
  {
   "cell_type": "code",
   "execution_count": 29,
   "metadata": {
    "id": "g17xTJQLIFGw"
   },
   "outputs": [
    {
     "data": {
      "text/plain": [
       "74"
      ]
     },
     "execution_count": 29,
     "metadata": {},
     "output_type": "execute_result"
    }
   ],
   "source": [
    "df[\"Nota\"].min()"
   ]
  },
  {
   "cell_type": "markdown",
   "metadata": {
    "id": "JgGWIaQN69Gg"
   },
   "source": [
    "### Exercício\n",
    "\n",
    "Para todos os filmes do mesmo ano, mostre a nota do melhor filme.\n",
    "**Dica:** Utilize o comando `groupby`"
   ]
  },
  {
   "cell_type": "code",
   "execution_count": 34,
   "metadata": {
    "id": "9QuhcNsV7EBb"
   },
   "outputs": [
    {
     "data": {
      "text/plain": [
       "Ano\n",
       "1977    87\n",
       "1984    81\n",
       "1999    87\n",
       "2000    74\n",
       "2001    88\n",
       "2009    80\n",
       "2010    88\n",
       "2012    84\n",
       "2014    82\n",
       "Name: Nota, dtype: int64"
      ]
     },
     "execution_count": 34,
     "metadata": {},
     "output_type": "execute_result"
    }
   ],
   "source": [
    "df.groupby(\"Ano\")[\"Nota\"].max()"
   ]
  },
  {
   "cell_type": "markdown",
   "metadata": {},
   "source": [
    "### Exercício\n",
    "\n",
    "Crie uma tabela contendo apenas o segundo, terceiro e quarto filme com maior nota"
   ]
  },
  {
   "cell_type": "code",
   "execution_count": 46,
   "metadata": {},
   "outputs": [
    {
     "data": {
      "text/html": [
       "<div>\n",
       "<style scoped>\n",
       "    .dataframe tbody tr th:only-of-type {\n",
       "        vertical-align: middle;\n",
       "    }\n",
       "\n",
       "    .dataframe tbody tr th {\n",
       "        vertical-align: top;\n",
       "    }\n",
       "\n",
       "    .dataframe thead th {\n",
       "        text-align: right;\n",
       "    }\n",
       "</style>\n",
       "<table border=\"1\" class=\"dataframe\">\n",
       "  <thead>\n",
       "    <tr style=\"text-align: right;\">\n",
       "      <th></th>\n",
       "      <th>index</th>\n",
       "      <th>Título</th>\n",
       "      <th>Ano</th>\n",
       "      <th>Duração</th>\n",
       "      <th>Nota</th>\n",
       "    </tr>\n",
       "  </thead>\n",
       "  <tbody>\n",
       "    <tr>\n",
       "      <th>1</th>\n",
       "      <td>7</td>\n",
       "      <td>A Origem</td>\n",
       "      <td>2010</td>\n",
       "      <td>148</td>\n",
       "      <td>88</td>\n",
       "    </tr>\n",
       "    <tr>\n",
       "      <th>2</th>\n",
       "      <td>0</td>\n",
       "      <td>Star Wars</td>\n",
       "      <td>1977</td>\n",
       "      <td>121</td>\n",
       "      <td>87</td>\n",
       "    </tr>\n",
       "    <tr>\n",
       "      <th>3</th>\n",
       "      <td>8</td>\n",
       "      <td>The Matrix</td>\n",
       "      <td>1999</td>\n",
       "      <td>136</td>\n",
       "      <td>87</td>\n",
       "    </tr>\n",
       "  </tbody>\n",
       "</table>\n",
       "</div>"
      ],
      "text/plain": [
       "   index      Título   Ano  Duração  Nota\n",
       "1      7    A Origem  2010      148    88\n",
       "2      0   Star Wars  1977      121    87\n",
       "3      8  The Matrix  1999      136    87"
      ]
     },
     "execution_count": 46,
     "metadata": {},
     "output_type": "execute_result"
    }
   ],
   "source": [
    "df.sort_values(by=\"Nota\", ascending=False, inplace=True)\n",
    "df.reset_index().loc[1:3]"
   ]
  },
  {
   "cell_type": "markdown",
   "metadata": {},
   "source": [
    "### Exercício\n",
    "\n",
    "Obtenha a cotação do dólar atualizado e encontre a data e o valor da menor cotação entre 2008 e 2014.\n",
    "\n",
    "**Obs.:** O link do arquivo .csv com as cotações atualizadas é `https://api.bcb.gov.br/dados/serie/bcdata.sgs.10813/dados?formato=csv`"
   ]
  },
  {
   "cell_type": "code",
   "execution_count": 60,
   "metadata": {},
   "outputs": [
    {
     "data": {
      "text/plain": [
       "data     2008-01-02 00:00:00\n",
       "valor                 1.5337\n",
       "dtype: object"
      ]
     },
     "execution_count": 60,
     "metadata": {},
     "output_type": "execute_result"
    }
   ],
   "source": [
    "ct = pd.read_csv(\"https://api.bcb.gov.br/dados/serie/bcdata.sgs.10813/dados?formato=csv\", sep=';', decimal=\",\")\n",
    "\n",
    "ct['data'] = pd.to_datetime(ct['data'], format=\"%d/%m/%Y\")\n",
    "ct.query(\"data >= '2008-01-01' and data <= '2014-12-31'\").min()"
   ]
  }
 ],
 "metadata": {
  "colab": {
   "provenance": []
  },
  "kernelspec": {
   "display_name": "Python 3 (ipykernel)",
   "language": "python",
   "name": "python3"
  },
  "language_info": {
   "codemirror_mode": {
    "name": "ipython",
    "version": 3
   },
   "file_extension": ".py",
   "mimetype": "text/x-python",
   "name": "python",
   "nbconvert_exporter": "python",
   "pygments_lexer": "ipython3",
   "version": "3.11.3"
  }
 },
 "nbformat": 4,
 "nbformat_minor": 1
}
