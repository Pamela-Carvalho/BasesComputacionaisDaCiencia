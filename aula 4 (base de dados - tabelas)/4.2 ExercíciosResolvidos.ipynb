{
  "cells": [
    {
      "attachments": {},
      "cell_type": "markdown",
      "metadata": {
        "id": "Q4TaCtoXnjnr"
      },
      "source": [
        "#Cadastro de Funcionários"
      ]
    },
    {
      "cell_type": "code",
      "execution_count": null,
      "metadata": {
        "id": "JJJ96BK9zjbz"
      },
      "outputs": [],
      "source": [
        "import pandas as pd    #necessario importar biblioteca pandas para todos os exercicios abaixo"
      ]
    },
    {
      "cell_type": "code",
      "execution_count": null,
      "metadata": {
        "id": "5WCoMnCDA0y2"
      },
      "outputs": [],
      "source": [
        " df = pd.read_csv(\"https://drive.google.com/u/3/uc?id=1id-MxIdlA5pG0iJROsmxLzsBahvtNExc&export=download\", sep = ';' )\n",
        " #necessario ler a planilha para todos os exercicios abaixo\n",
        " df"
      ]
    },
    {
      "attachments": {},
      "cell_type": "markdown",
      "metadata": {
        "id": "BVLkuiXE8X1Y"
      },
      "source": [
        "## Lista de Exercícios\n"
      ]
    },
    {
      "attachments": {},
      "cell_type": "markdown",
      "metadata": {
        "id": "rSw9J5sYDIjS"
      },
      "source": [
        "### Exibindo algumas colunas (sem condição)"
      ]
    },
    {
      "cell_type": "code",
      "execution_count": null,
      "metadata": {
        "id": "WTFVWj8nfPhO"
      },
      "outputs": [],
      "source": [
        "#1 Listar colunas (atributos): Codigo, Escolaridade e Salario dos Funcionários\n",
        "print(df[[\"Codigo\", \"Escolaridade\", \"Salario\"]])"
      ]
    },
    {
      "attachments": {},
      "cell_type": "markdown",
      "metadata": {
        "id": "PhnnUPar988I"
      },
      "source": [
        "### Exibindo algumas linhas (com condição) - Filtros"
      ]
    },
    {
      "cell_type": "code",
      "execution_count": null,
      "metadata": {
        "id": "t4cleWRM-BJi"
      },
      "outputs": [],
      "source": [
        "#2 Listar os dados dos funcionários com idade acima de 50 anos\n",
        "print(df.query(\"Idade_Anos > 50\"))"
      ]
    },
    {
      "cell_type": "code",
      "execution_count": null,
      "metadata": {
        "id": "Oe__u7nS-pcG"
      },
      "outputs": [],
      "source": [
        "#3 Listar os dados dos funcionários com idade acima de 50 anos e Genero Masculino\n",
        "# letra M está entre aspas simples pois é considerado um texto.\n",
        "print(df.query(\"Idade_Anos > 50 and Genero == 'M'\"))"
      ]
    },
    {
      "cell_type": "code",
      "execution_count": null,
      "metadata": {
        "id": "oA8WInDH_emN"
      },
      "outputs": [],
      "source": [
        "#4 Listar os dados dos funcionários com escolaridade Superior\n",
        "print(df.query(\"Escolaridade == 'Superior'\"))"
      ]
    },
    {
      "cell_type": "code",
      "execution_count": null,
      "metadata": {
        "id": "A3s4gQp1Ao9d"
      },
      "outputs": [],
      "source": [
        "#5 Listar os dados dos funcionários com escolaridade 2o Grau e Salario maior ou igual que 10000\n",
        "print(df.query(\"Escolaridade == '2o Grau' and Salario >= 10000\"))"
      ]
    },
    {
      "attachments": {},
      "cell_type": "markdown",
      "metadata": {
        "id": "yQz5E8QQBb3I"
      },
      "source": [
        "### Exibindo algumas colunas de algumas linhas (com condição) - Filtros em somente algumas colunas"
      ]
    },
    {
      "cell_type": "code",
      "execution_count": null,
      "metadata": {
        "id": "jEbjWqMQ-4Ls"
      },
      "outputs": [],
      "source": [
        "#6 Listar Codigo, Genero, Idade e Salario dos funcionários com idade acima de 50 anos e Genero Feminino\n",
        "df_filtrada=df.query(\"Idade_Anos > 50 and Genero == 'F'\")\n",
        "df_final=df_filtrada[[\"Codigo\",\"Genero\",\"Idade_Anos\",\"Salario\"]]\n",
        "print(df_final)"
      ]
    },
    {
      "cell_type": "code",
      "execution_count": null,
      "metadata": {
        "id": "_AkvMZSY3UyY"
      },
      "outputs": [],
      "source": [
        "#6 Listar Codigo, Genero, Idade e Salario dos funcionários com idade acima de 50 anos e Genero Feminino\n",
        "# Outra solução\n",
        "# Nesta solução, mais curta, as três linhas de solução anterior são feitas em uma única linha\n",
        "print(df[[\"Codigo\",\"Genero\",\"Idade_Anos\", \"Salario\"]].query(\"Idade_Anos > 50 and Genero == 'F'\"))\n",
        "# As duas formas estão corretas"
      ]
    },
    {
      "cell_type": "code",
      "execution_count": null,
      "metadata": {
        "id": "DLmhVa5NDf6m"
      },
      "outputs": [],
      "source": [
        "#7 Listar Codigo, Escolaridade, Idade e Salario dos funcionários com Escolaridade 1o Grau\n",
        "print(df[[\"Codigo\",\"Escolaridade\",\"Idade_Anos\", \"Salario\"]].query(\"Escolaridade == '1o Grau'\"))"
      ]
    },
    {
      "attachments": {},
      "cell_type": "markdown",
      "metadata": {
        "id": "HvVoJOrJP-0j"
      },
      "source": [
        "### Exibindo dados ordenados (Ordenação)"
      ]
    },
    {
      "cell_type": "code",
      "execution_count": null,
      "metadata": {
        "id": "q1PMMLKGQLjA"
      },
      "outputs": [],
      "source": [
        "#8 Listar os dados em ordem crescente de Idade\n",
        "print(df.sort_values(by=\"Idade_Anos\"))"
      ]
    },
    {
      "cell_type": "code",
      "execution_count": null,
      "metadata": {
        "id": "Y3lJ2cp8Qe9A"
      },
      "outputs": [],
      "source": [
        "#9 Listar os dados em ordem crescente de escolaridade e salário.\n",
        "print(df.sort_values(by=[\"Escolaridade\", \"Salario\"]))"
      ]
    },
    {
      "cell_type": "code",
      "execution_count": null,
      "metadata": {
        "id": "O949e6y2RhJs"
      },
      "outputs": [],
      "source": [
        "#10 Listar os dados em ordem crescente de escolaridade e decrescente de salário.\n",
        "print(df.sort_values(by=[\"Escolaridade\", \"Salario\"],ascending=[True, False]))"
      ]
    },
    {
      "attachments": {},
      "cell_type": "markdown",
      "metadata": {
        "id": "ubgfwY_zSEM2"
      },
      "source": [
        "### Estatísticas do Dataframe"
      ]
    },
    {
      "cell_type": "code",
      "execution_count": null,
      "metadata": {
        "id": "qwruVzoHR0hD"
      },
      "outputs": [],
      "source": [
        "#11 Lista o menor valor dos atributos numéricos.\n",
        "print(df.min())"
      ]
    },
    {
      "cell_type": "code",
      "execution_count": null,
      "metadata": {
        "id": "IAE4CpgnSY5-"
      },
      "outputs": [],
      "source": [
        "#12 Exibir a Média das Idades com duas casas decimais\n",
        "resultado = df[\"Idade_Anos\"].mean() # calculando a média das Idades\n",
        "print(\"%.2f\" % resultado)           # imprimindo o resultado com 2 casas decimais"
      ]
    },
    {
      "cell_type": "code",
      "execution_count": null,
      "metadata": {
        "id": "RH1TQkiXSnTF"
      },
      "outputs": [],
      "source": [
        "#13 Exibir o Maior Salário\n",
        "print(df[\"Salario\"].max())"
      ]
    },
    {
      "cell_type": "code",
      "execution_count": null,
      "metadata": {
        "id": "gGdmfc98Uvjk"
      },
      "outputs": [],
      "source": [
        "#14 Exibir a soma de todos os salários da empresa\n",
        "print(df[\"Salario\"].sum())"
      ]
    },
    {
      "attachments": {},
      "cell_type": "markdown",
      "metadata": {
        "id": "7I_V7ac0TGR9"
      },
      "source": [
        "### Agrupamento de Dados"
      ]
    },
    {
      "cell_type": "code",
      "execution_count": null,
      "metadata": {
        "id": "ivG4ONxNTIxF"
      },
      "outputs": [],
      "source": [
        "#15 Exibir a quantidade de funcionários por escolaridade\n",
        "print(df.groupby(\"Escolaridade\")[\"Codigo\"].count())"
      ]
    },
    {
      "cell_type": "code",
      "execution_count": null,
      "metadata": {
        "id": "wN_sgw9lTnFb"
      },
      "outputs": [],
      "source": [
        "#16 Exibir o maior salário por Escolaridade\n",
        "print(df.groupby(\"Escolaridade\")[\"Salario\"].max())"
      ]
    },
    {
      "cell_type": "code",
      "execution_count": null,
      "metadata": {
        "id": "YtstELGlT0xj"
      },
      "outputs": [],
      "source": [
        "#17 Exibir a média de salário por Gênero\n",
        "print(df.groupby(\"Genero\")[\"Salario\"].mean())"
      ]
    },
    {
      "cell_type": "code",
      "execution_count": null,
      "metadata": {
        "id": "quxMUvTZUQZX"
      },
      "outputs": [],
      "source": [
        "#18 Exibir o Tempo Médio (em meses) na Empresa, por grau de Escolaridade\n",
        "print(df.groupby(\"Escolaridade\")[\"Tempo_Meses\"].mean())"
      ]
    },
    {
      "attachments": {},
      "cell_type": "markdown",
      "metadata": {
        "id": "y2ETsQsCtWPE"
      },
      "source": [
        "### Manipulando Planilha e comando `input`"
      ]
    },
    {
      "cell_type": "code",
      "execution_count": null,
      "metadata": {
        "id": "ZL8_Nl1BuOzO"
      },
      "outputs": [],
      "source": [
        "#19 Listar os dados em ordem decrescente da coluna que você vai entrar via comando input: Codigo, Salario, Idade_Anos ou Tempo_Meses\n",
        "coluna=input(\"Digite o nome da coluna/atributo \")     # o nome da coluna  digitado eh atribuido a variavel coluna\n",
        "print(df.sort_values(by=coluna,ascending=[False]))    # note que aqui coluna nao pode ficar entre aspas duplas, pois o seu conteudo ja eh um texto"
      ]
    },
    {
      "cell_type": "code",
      "execution_count": null,
      "metadata": {
        "id": "xO2-SbyNqpfc"
      },
      "outputs": [],
      "source": [
        "#20 Exibir o Tempo Médio (em meses) na Empresa, por coluna que você vai entrar via comando input: Escolaridade ou Genero\n",
        "coluna=input(\"Digite o nome da coluna/atributo \")   # o nome da coluna  digitado eh atribuido a variavel coluna\n",
        "print(df.groupby(coluna)[\"Tempo_Meses\"].mean())     # note que aqui coluna nao pode ficar entre aspas duplas, pois o seu conteudo ja eh um texto"
      ]
    },
    {
      "cell_type": "code",
      "execution_count": null,
      "metadata": {
        "id": "X8IwfcONmRek"
      },
      "outputs": [],
      "source": [
        "#21 Listar os dados dos funcionários com escolaridade que você vai entrar via comando input (2o Grau, 1o Grau ou Superior) e Salario maior ou igual que 5000\n",
        "escola = input(\"Digite a escolaridade \")\n",
        "df_filtrada = df.query(\"Escolaridade == '\"+escola+\"' and Salario >= 5000\")\n",
        "print(df_filtrada)"
      ]
    },
    {
      "attachments": {},
      "cell_type": "markdown",
      "metadata": {
        "id": "TK3eojTW-env"
      },
      "source": [
        "IMPORTANTE:\n",
        "\n",
        "Observe a sintaxe na terceira linha no programa acima\n",
        "\n",
        "**Escolaridade == '  \" +escola+ \"   '**\n",
        "\n",
        "Quando desejamos filtrar dados usando um atributo, por exemplo `Escolaridade`, cujos elementos não são números, mas sim, um **texto** (no caso, graus de escolaridade), fazemos:\n",
        "\n",
        "1) Entramos com o nome de Escolaridade (elemento de atributo) via teclado com comando `input()` - por exemplo: 1o Grau, 2o Grau, Superior.\n",
        "\n",
        "2) Atribuímos este valor lido  à uma variável, chamada, como no exemplo acima, `escola`\n",
        "\n",
        "3) Usamos:\n",
        "\n",
        "**Escolaridade == ' \" +escola+ \" '** para filtrar os elementos da coluna Escolaridade iguais ao nome/elemento digitado via teclado `input() `\n",
        "\n",
        "Ou seja, no caso geral:\n",
        "\n",
        " **nome_atributo == ' \" +nome_variável+\" '**"
      ]
    }
  ],
  "metadata": {
    "colab": {
      "provenance": []
    },
    "kernelspec": {
      "display_name": "Python 3",
      "name": "python3"
    }
  },
  "nbformat": 4,
  "nbformat_minor": 0
}
