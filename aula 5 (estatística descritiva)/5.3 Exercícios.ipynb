{
 "cells": [
  {
   "cell_type": "markdown",
   "metadata": {
    "id": "xay0ToLNBpTY"
   },
   "source": [
    "### Exercício\n",
    "\n",
    "Considere a planilha gerada na célula abaixo.\n",
    "\n",
    "Calcule a média e a mediana da temperatura.\n",
    "\n",
    "Interprete o seu resultado."
   ]
  },
  {
   "cell_type": "code",
   "execution_count": 1,
   "metadata": {},
   "outputs": [],
   "source": [
    "temperatura_csv = \"5.3 Temperatura.csv\"\n",
    "\n",
    "f = open(temperatura_csv, \"w\", encoding='utf-8')\n",
    "f.write(\"\"\"\n",
    "periodo,temperatura\n",
    "1,25\n",
    "2,24\n",
    "3,24\n",
    "4,26\n",
    "5,22\n",
    "6,20\n",
    "7,14\n",
    "8,13\n",
    "9,14\n",
    "10,12\n",
    "11,15\n",
    "12,17\n",
    "13,21\n",
    "14,20\n",
    "15,19\n",
    "16,20\n",
    "17,20\n",
    "18,17\n",
    "19,18\n",
    "20,18\n",
    "21,15\n",
    "22,17\n",
    "23,13\n",
    "24,15\n",
    "25,15\n",
    "26,17\n",
    "27,15\n",
    "28,18\n",
    "29,17\n",
    "30,18\n",
    "\"\"\")\n",
    "f.close()"
   ]
  },
  {
   "cell_type": "code",
   "execution_count": 9,
   "metadata": {
    "id": "dq82h2yfUMMq"
   },
   "outputs": [
    {
     "name": "stdout",
     "output_type": "stream",
     "text": [
      "Média: 17.966666666666665\n",
      "Mediana: 17.5\n"
     ]
    }
   ],
   "source": [
    "import pandas as pd\n",
    "\n",
    "df = pd.read_csv(temperatura_csv)\n",
    "\n",
    "#média da temperatura\n",
    "media = df[\"temperatura\"].mean()\n",
    "\n",
    "#mediana da temperatura\n",
    "mediana = df[\"temperatura\"].median()\n",
    "\n",
    "print(\"Média:\", media)\n",
    "print(\"Mediana:\", mediana)"
   ]
  },
  {
   "cell_type": "markdown",
   "metadata": {
    "id": "H6t9N06UBpTi"
   },
   "source": [
    "### Exercício\n",
    "\n",
    "Considere a planilha do primeiro exercício.\n",
    "\n",
    "Calcule os percentis: 25ᵒ, 50ᵒ, 75ᵒ."
   ]
  },
  {
   "cell_type": "code",
   "execution_count": 20,
   "metadata": {
    "id": "RgT7ei3YUHmn"
   },
   "outputs": [
    {
     "name": "stdout",
     "output_type": "stream",
     "text": [
      "25°: 15.0\n",
      "50°: 17.5\n",
      "75°: 20.0\n"
     ]
    }
   ],
   "source": [
    "import numpy as np\n",
    "\n",
    "print(\"25°:\", np.percentile(df[\"temperatura\"], q=25))\n",
    "print(\"50°:\", np.percentile(df[\"temperatura\"], q=50))\n",
    "print(\"75°:\", np.percentile(df[\"temperatura\"], q=75))"
   ]
  },
  {
   "cell_type": "markdown",
   "metadata": {
    "id": "Ic_-6X2wBpTn"
   },
   "source": [
    "### Exercício\n",
    "\n",
    "Considere a planilha do primeiro exercício.\n",
    "\n",
    "Calcule as modas."
   ]
  },
  {
   "cell_type": "code",
   "execution_count": 21,
   "metadata": {
    "id": "q1l-Xe41BpTn"
   },
   "outputs": [
    {
     "data": {
      "text/plain": [
       "0    15\n",
       "1    17\n",
       "Name: temperatura, dtype: int64"
      ]
     },
     "execution_count": 21,
     "metadata": {},
     "output_type": "execute_result"
    }
   ],
   "source": [
    "df[\"temperatura\"].mode()"
   ]
  },
  {
   "cell_type": "markdown",
   "metadata": {
    "id": "m6XuFjTiXgcW"
   },
   "source": [
    "### Exercício\n",
    "Considere a planilha do primeiro exercício.\n",
    "\n",
    "Calcule para a temperatura as seguintes medidas:\n",
    "- mínimo\n",
    "- máximo\n",
    "- amplitude\n",
    "- variância\n",
    "- desvio padrão"
   ]
  },
  {
   "cell_type": "code",
   "execution_count": 36,
   "metadata": {
    "id": "vzyp4cB3XueH"
   },
   "outputs": [
    {
     "data": {
      "text/plain": [
       "count    30.000000\n",
       "mean     17.966667\n",
       "std       3.690466\n",
       "min      12.000000\n",
       "25%      15.000000\n",
       "50%      17.500000\n",
       "75%      20.000000\n",
       "max      26.000000\n",
       "Name: temperatura, dtype: float64"
      ]
     },
     "execution_count": 36,
     "metadata": {},
     "output_type": "execute_result"
    }
   ],
   "source": [
    "min = df[\"temperatura\"].min()\n",
    "max = df[\"temperatura\"].max()\n",
    "amp = max - min\n",
    "var = df[\"temperatura\"].var()\n",
    "dvp = df[\"temperatura\"].std()\n",
    "\n",
    "df[\"temperatura\"].describe()"
   ]
  },
  {
   "cell_type": "markdown",
   "metadata": {
    "id": "3ZnC8JA1ZcLP"
   },
   "source": [
    "### Exercício\n",
    "\n",
    "Considere a planilha do primeiro exercício.\n",
    "\n",
    "Crie uma nova coluna com o nome \"razão\" para qual o valor para cada período é a temperatura dividida pelo período.\n",
    "\n",
    "Calcule sua média."
   ]
  },
  {
   "cell_type": "code",
   "execution_count": 37,
   "metadata": {
    "id": "I9GNwQeNaDEH"
   },
   "outputs": [
    {
     "data": {
      "text/html": [
       "<div>\n",
       "<style scoped>\n",
       "    .dataframe tbody tr th:only-of-type {\n",
       "        vertical-align: middle;\n",
       "    }\n",
       "\n",
       "    .dataframe tbody tr th {\n",
       "        vertical-align: top;\n",
       "    }\n",
       "\n",
       "    .dataframe thead th {\n",
       "        text-align: right;\n",
       "    }\n",
       "</style>\n",
       "<table border=\"1\" class=\"dataframe\">\n",
       "  <thead>\n",
       "    <tr style=\"text-align: right;\">\n",
       "      <th></th>\n",
       "      <th>periodo</th>\n",
       "      <th>temperatura</th>\n",
       "      <th>razão</th>\n",
       "    </tr>\n",
       "  </thead>\n",
       "  <tbody>\n",
       "    <tr>\n",
       "      <th>0</th>\n",
       "      <td>1</td>\n",
       "      <td>25</td>\n",
       "      <td>25.000000</td>\n",
       "    </tr>\n",
       "    <tr>\n",
       "      <th>1</th>\n",
       "      <td>2</td>\n",
       "      <td>24</td>\n",
       "      <td>12.000000</td>\n",
       "    </tr>\n",
       "    <tr>\n",
       "      <th>2</th>\n",
       "      <td>3</td>\n",
       "      <td>24</td>\n",
       "      <td>8.000000</td>\n",
       "    </tr>\n",
       "    <tr>\n",
       "      <th>3</th>\n",
       "      <td>4</td>\n",
       "      <td>26</td>\n",
       "      <td>6.500000</td>\n",
       "    </tr>\n",
       "    <tr>\n",
       "      <th>4</th>\n",
       "      <td>5</td>\n",
       "      <td>22</td>\n",
       "      <td>4.400000</td>\n",
       "    </tr>\n",
       "    <tr>\n",
       "      <th>5</th>\n",
       "      <td>6</td>\n",
       "      <td>20</td>\n",
       "      <td>3.333333</td>\n",
       "    </tr>\n",
       "    <tr>\n",
       "      <th>6</th>\n",
       "      <td>7</td>\n",
       "      <td>14</td>\n",
       "      <td>2.000000</td>\n",
       "    </tr>\n",
       "    <tr>\n",
       "      <th>7</th>\n",
       "      <td>8</td>\n",
       "      <td>13</td>\n",
       "      <td>1.625000</td>\n",
       "    </tr>\n",
       "    <tr>\n",
       "      <th>8</th>\n",
       "      <td>9</td>\n",
       "      <td>14</td>\n",
       "      <td>1.555556</td>\n",
       "    </tr>\n",
       "    <tr>\n",
       "      <th>9</th>\n",
       "      <td>10</td>\n",
       "      <td>12</td>\n",
       "      <td>1.200000</td>\n",
       "    </tr>\n",
       "    <tr>\n",
       "      <th>10</th>\n",
       "      <td>11</td>\n",
       "      <td>15</td>\n",
       "      <td>1.363636</td>\n",
       "    </tr>\n",
       "    <tr>\n",
       "      <th>11</th>\n",
       "      <td>12</td>\n",
       "      <td>17</td>\n",
       "      <td>1.416667</td>\n",
       "    </tr>\n",
       "    <tr>\n",
       "      <th>12</th>\n",
       "      <td>13</td>\n",
       "      <td>21</td>\n",
       "      <td>1.615385</td>\n",
       "    </tr>\n",
       "    <tr>\n",
       "      <th>13</th>\n",
       "      <td>14</td>\n",
       "      <td>20</td>\n",
       "      <td>1.428571</td>\n",
       "    </tr>\n",
       "    <tr>\n",
       "      <th>14</th>\n",
       "      <td>15</td>\n",
       "      <td>19</td>\n",
       "      <td>1.266667</td>\n",
       "    </tr>\n",
       "    <tr>\n",
       "      <th>15</th>\n",
       "      <td>16</td>\n",
       "      <td>20</td>\n",
       "      <td>1.250000</td>\n",
       "    </tr>\n",
       "    <tr>\n",
       "      <th>16</th>\n",
       "      <td>17</td>\n",
       "      <td>20</td>\n",
       "      <td>1.176471</td>\n",
       "    </tr>\n",
       "    <tr>\n",
       "      <th>17</th>\n",
       "      <td>18</td>\n",
       "      <td>17</td>\n",
       "      <td>0.944444</td>\n",
       "    </tr>\n",
       "    <tr>\n",
       "      <th>18</th>\n",
       "      <td>19</td>\n",
       "      <td>18</td>\n",
       "      <td>0.947368</td>\n",
       "    </tr>\n",
       "    <tr>\n",
       "      <th>19</th>\n",
       "      <td>20</td>\n",
       "      <td>18</td>\n",
       "      <td>0.900000</td>\n",
       "    </tr>\n",
       "    <tr>\n",
       "      <th>20</th>\n",
       "      <td>21</td>\n",
       "      <td>15</td>\n",
       "      <td>0.714286</td>\n",
       "    </tr>\n",
       "    <tr>\n",
       "      <th>21</th>\n",
       "      <td>22</td>\n",
       "      <td>17</td>\n",
       "      <td>0.772727</td>\n",
       "    </tr>\n",
       "    <tr>\n",
       "      <th>22</th>\n",
       "      <td>23</td>\n",
       "      <td>13</td>\n",
       "      <td>0.565217</td>\n",
       "    </tr>\n",
       "    <tr>\n",
       "      <th>23</th>\n",
       "      <td>24</td>\n",
       "      <td>15</td>\n",
       "      <td>0.625000</td>\n",
       "    </tr>\n",
       "    <tr>\n",
       "      <th>24</th>\n",
       "      <td>25</td>\n",
       "      <td>15</td>\n",
       "      <td>0.600000</td>\n",
       "    </tr>\n",
       "    <tr>\n",
       "      <th>25</th>\n",
       "      <td>26</td>\n",
       "      <td>17</td>\n",
       "      <td>0.653846</td>\n",
       "    </tr>\n",
       "    <tr>\n",
       "      <th>26</th>\n",
       "      <td>27</td>\n",
       "      <td>15</td>\n",
       "      <td>0.555556</td>\n",
       "    </tr>\n",
       "    <tr>\n",
       "      <th>27</th>\n",
       "      <td>28</td>\n",
       "      <td>18</td>\n",
       "      <td>0.642857</td>\n",
       "    </tr>\n",
       "    <tr>\n",
       "      <th>28</th>\n",
       "      <td>29</td>\n",
       "      <td>17</td>\n",
       "      <td>0.586207</td>\n",
       "    </tr>\n",
       "    <tr>\n",
       "      <th>29</th>\n",
       "      <td>30</td>\n",
       "      <td>18</td>\n",
       "      <td>0.600000</td>\n",
       "    </tr>\n",
       "  </tbody>\n",
       "</table>\n",
       "</div>"
      ],
      "text/plain": [
       "    periodo  temperatura      razão\n",
       "0         1           25  25.000000\n",
       "1         2           24  12.000000\n",
       "2         3           24   8.000000\n",
       "3         4           26   6.500000\n",
       "4         5           22   4.400000\n",
       "5         6           20   3.333333\n",
       "6         7           14   2.000000\n",
       "7         8           13   1.625000\n",
       "8         9           14   1.555556\n",
       "9        10           12   1.200000\n",
       "10       11           15   1.363636\n",
       "11       12           17   1.416667\n",
       "12       13           21   1.615385\n",
       "13       14           20   1.428571\n",
       "14       15           19   1.266667\n",
       "15       16           20   1.250000\n",
       "16       17           20   1.176471\n",
       "17       18           17   0.944444\n",
       "18       19           18   0.947368\n",
       "19       20           18   0.900000\n",
       "20       21           15   0.714286\n",
       "21       22           17   0.772727\n",
       "22       23           13   0.565217\n",
       "23       24           15   0.625000\n",
       "24       25           15   0.600000\n",
       "25       26           17   0.653846\n",
       "26       27           15   0.555556\n",
       "27       28           18   0.642857\n",
       "28       29           17   0.586207\n",
       "29       30           18   0.600000"
      ]
     },
     "execution_count": 37,
     "metadata": {},
     "output_type": "execute_result"
    }
   ],
   "source": [
    "df[\"razão\"] = df[\"temperatura\"] / df[\"periodo\"]\n",
    "df"
   ]
  },
  {
   "cell_type": "markdown",
   "metadata": {
    "id": "kgnAvH0qbkE_"
   },
   "source": [
    "### Exercício\n",
    "\n",
    "Considere a planilha do primeiro exercício.\n",
    "\n",
    "Crie para a temperatura:\n",
    "- um histograma com $3$ categorias\n",
    "- o boxplot\n"
   ]
  },
  {
   "cell_type": "code",
   "execution_count": 45,
   "metadata": {
    "id": "u_rGaG5KbyUb"
   },
   "outputs": [
    {
     "data": {
      "text/plain": [
       "array([[<Axes: title={'center': 'temperatura'}>]], dtype=object)"
      ]
     },
     "execution_count": 45,
     "metadata": {},
     "output_type": "execute_result"
    },
    {
     "data": {
      "image/png": "[encoded data removed]",
      "text/plain": [
       "<Figure size 640x480 with 1 Axes>"
      ]
     },
     "metadata": {},
     "output_type": "display_data"
    }
   ],
   "source": [
    "df.hist(column=\"temperatura\", bins=3)"
   ]
  },
  {
   "cell_type": "code",
   "execution_count": 46,
   "metadata": {},
   "outputs": [
    {
     "data": {
      "text/plain": [
       "<Axes: >"
      ]
     },
     "execution_count": 46,
     "metadata": {},
     "output_type": "execute_result"
    },
    {
     "data": {
      "image/png": "[encoded data removed]",
      "text/plain": [
       "<Figure size 640x480 with 1 Axes>"
      ]
     },
     "metadata": {},
     "output_type": "display_data"
    }
   ],
   "source": [
    "df.boxplot(column=\"temperatura\")"
   ]
  }
 ],
 "metadata": {
  "colab": {
   "provenance": []
  },
  "kernelspec": {
   "display_name": "Python 3 (ipykernel)",
   "language": "python",
   "name": "python3"
  },
  "language_info": {
   "codemirror_mode": {
    "name": "ipython",
    "version": 3
   },
   "file_extension": ".py",
   "mimetype": "text/x-python",
   "name": "python",
   "nbconvert_exporter": "python",
   "pygments_lexer": "ipython3",
   "version": "3.11.3"
  }
 },
 "nbformat": 4,
 "nbformat_minor": 1
}
