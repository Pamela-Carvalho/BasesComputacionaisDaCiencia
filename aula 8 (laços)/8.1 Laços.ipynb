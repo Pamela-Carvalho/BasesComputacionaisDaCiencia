{
 "cells": [
  {
   "cell_type": "markdown",
   "metadata": {
    "id": "BLocnywMxFav"
   },
   "source": [
    "# Laços\n",
    "\n",
    "Suponha que você esteja fazendo um programa para calcular suas economias.\n",
    "\n",
    "A cada dia você anota se ganhou ou gastou dinheiro:\n",
    "- um valor positivo se ganhou dinheiro\n",
    "- um valor negativo se gastou dinheiro.\n",
    "\n",
    "Digamos que inicialmente o seu saldo é 0.\n",
    "\n",
    "Para um único dia o seu código poderia ser algo assim."
   ]
  },
  {
   "cell_type": "code",
   "execution_count": null,
   "metadata": {
    "colab": {
     "base_uri": "https://localhost:8080/"
    },
    "id": "Y0pwdEOhxFaw",
    "outputId": "e9dcc797-4e11-41f2-9917-07233019d1a6"
   },
   "outputs": [],
   "source": [
    "saldo = 0 # o valor inicial de saldo eh 0\n",
    "dia = float(input(\"Digite o valor de hoje: \"))\n",
    "saldo = saldo + dia\n",
    "print(\"O seu saldo é\", saldo)"
   ]
  },
  {
   "cell_type": "markdown",
   "metadata": {
    "id": "H4E8Lh9BxFaz"
   },
   "source": [
    "Note que\n",
    "```\n",
    "saldo = saldo + dia\n",
    "```\n",
    "Realiza os seguintes passos:\n",
    "\n",
    "1) Calcula o valor de ``saldo + dia``: substitui o valor de saldo (no caso 0) e o valor de dia (o que o usuário digitar)\n",
    "\n",
    "2) Coloca a soma calculada na variável ``saldo``"
   ]
  },
  {
   "cell_type": "markdown",
   "metadata": {
    "id": "AQgOnKF4xFaz"
   },
   "source": [
    "E se forem 2 dias?\n",
    "\n",
    "Uma maneira simples seria copiar duas vezes a parte do código que pede o valor diário e atualiza o saldo:"
   ]
  },
  {
   "cell_type": "code",
   "execution_count": null,
   "metadata": {
    "colab": {
     "base_uri": "https://localhost:8080/"
    },
    "id": "KeJ7nuFFxFa0",
    "outputId": "adf67585-08f1-43cf-aca1-8a0504d6670c"
   },
   "outputs": [],
   "source": [
    "saldo = 0 # inicializamos o valor de saldo com 0 uma unica vez, no inicio de algoritmo\n",
    "# primeiro dia\n",
    "dia = float(input(\"Digite o valor de hoje: \"))\n",
    "saldo = saldo + dia\n",
    "print(\"O seu saldo é\", saldo)\n",
    "\n",
    "# segundo dia\n",
    "dia = float(input(\"Digite o valor de hoje: \"))\n",
    "saldo = saldo + dia\n",
    "print(\"O seu saldo é\", saldo)"
   ]
  },
  {
   "cell_type": "markdown",
   "metadata": {
    "id": "4dLthSV0xFa6"
   },
   "source": [
    "> E 3 dias?\n",
    "\n",
    "Copiar o código 3 vezes\n",
    "\n",
    "> E 5 dias?\n",
    "\n",
    "Copiar o código 5 vezes (!?)\n",
    "\n",
    "> E 100 dias?\n",
    "\n",
    "Copiar o código 100 vezes (?!?!)\n",
    "\n",
    "Realizar uma mesma tarefa diversas vezes é algo muito comum em programação e seria muito ruim se fosse realizada por vários copiar/colar.\n",
    "\n",
    "Temos comandos que permitem que façamos isso facilmente e sem ficar copiando o código várias vezes:"
   ]
  },
  {
   "cell_type": "code",
   "execution_count": null,
   "metadata": {
    "colab": {
     "base_uri": "https://localhost:8080/"
    },
    "id": "FNyO5F77xFa6",
    "outputId": "1682e6a8-ffce-475c-c161-092868810fcc"
   },
   "outputs": [],
   "source": [
    "saldo = 0\n",
    "for i in [1,2,3]:\n",
    "    dia = float(input(\"Digite o valor de hoje: \"))\n",
    "    saldo = saldo + dia\n",
    "    print(\"O seu saldo é\", saldo)"
   ]
  },
  {
   "cell_type": "markdown",
   "metadata": {
    "id": "K3yUpMFExFa9"
   },
   "source": [
    "No código acima, a parte do código\n",
    "```\n",
    "    dia = float(input(\"Digite o valor de hoje: \"))\n",
    "    saldo = saldo + dia\n",
    "    print(\"O seu saldo é\", saldo)\n",
    "```\n",
    "é realizada 3 vezes.\n",
    "\n",
    "> O comando ``saldo=0`` ficou de fora do bloco do ``for``. Por que? Pois o saldo deve ser inicializado com 0 uma única vez.\n",
    "\n",
    "\n",
    "\n",
    "Veja o que acontece se colocássemos dentro do bloco:"
   ]
  },
  {
   "cell_type": "code",
   "execution_count": null,
   "metadata": {
    "colab": {
     "base_uri": "https://localhost:8080/"
    },
    "id": "xJVZj_A1xFa-",
    "outputId": "11161789-c808-474c-8ea9-34d3d7b82967"
   },
   "outputs": [],
   "source": [
    "for i in [1,2,3]:\n",
    "    saldo = 0\n",
    "    dia = float(input(\"Digite o valor de hoje: \"))\n",
    "    saldo = saldo + dia\n",
    "    print(\"O seu saldo é\", saldo)"
   ]
  },
  {
   "cell_type": "markdown",
   "metadata": {
    "id": "8Sh5Lql-xFbB"
   },
   "source": [
    "> O que aconteceu? Como o saldo foi zerado no início de bloco, não foram somados os valores de 3 dias. Apenas foi impresso o saldo de cada dia, mas este saldo está errado, pois é igual ao valor digitado para dia correspondente (e não a soma de valores digitados nos 3 dias)."
   ]
  },
  {
   "cell_type": "markdown",
   "metadata": {
    "id": "uPtjFA2ExFbE"
   },
   "source": [
    "---\n",
    "\n",
    "# O comando ``for``\n",
    "\n",
    "O comando `for` tem a seguinte estrutura:\n",
    "\n",
    "```\n",
    "for variavel in lista:\n",
    "  comando1\n",
    "  comando2\n",
    "  comando3\n",
    "```\n",
    "\n",
    "A variável assume o valor de cada elemento da lista em ordem e o bloco com os comandos é executado.\n",
    "\n",
    "Como no caso do ``if`` o que está no bloco é determinado pela indentação."
   ]
  },
  {
   "cell_type": "code",
   "execution_count": null,
   "metadata": {
    "colab": {
     "base_uri": "https://localhost:8080/"
    },
    "id": "_1-1SFOdxFbF",
    "outputId": "6af996b4-d84f-4603-ca8d-02d50a87e0a5"
   },
   "outputs": [],
   "source": [
    "saldo = 0\n",
    "for i in [1,2,3]:\n",
    "    print(\"O valor de i é\", i)\n",
    "    dia = float(input(\"Digite o valor de hoje: \"))\n",
    "    saldo = saldo + dia\n",
    "    print(\"O seu saldo é\", saldo)"
   ]
  },
  {
   "cell_type": "markdown",
   "metadata": {
    "id": "he2d0oAlxFbI"
   },
   "source": [
    "---\n",
    "\n",
    "## Muitas repetições\n",
    "\n",
    "A estratégia que mostramos funciona bem para poucas repetições.\n",
    "\n",
    "Por exemplo, se forem 100 dias, não vamos querer digitar 100 números.\n",
    "\n",
    "Queremos uma lista $[1,2,...,100]$. **Podemos usar a função ``range``.**\n",
    "\n",
    "No exemplo abaixo, colocamos o valor diário fixo como 10 (para que ~~eu~~ você não tenha que digitar 100 valores!)"
   ]
  },
  {
   "cell_type": "code",
   "execution_count": null,
   "metadata": {
    "colab": {
     "base_uri": "https://localhost:8080/"
    },
    "id": "DRNRAQ4OxFbI",
    "outputId": "2c78f9ef-a541-4a16-a8f7-985553b54fc8"
   },
   "outputs": [],
   "source": [
    "saldo = 0\n",
    "for i in range(1,101):\n",
    "    saldo = saldo + 10\n",
    "    print(\"O seu saldo é\", saldo)"
   ]
  },
  {
   "cell_type": "markdown",
   "metadata": {
    "id": "CvYteUBjxFbL"
   },
   "source": [
    "O ``range`` tem um funcionamento parecido (mas não igual) ao ``arange`` do ``numpy``.\n",
    "\n",
    "**``range(inicio, fim, incremento)``**\n",
    "\n",
    "* **Se o incremento não for especificado, o valor padrão é 1.**\n",
    "\n",
    "* **O valor de fim não está incluído na lista.**\n",
    "\n",
    "* **o range lida apenas com valores inteiros.**"
   ]
  },
  {
   "cell_type": "code",
   "execution_count": null,
   "metadata": {
    "colab": {
     "base_uri": "https://localhost:8080/"
    },
    "id": "TzfcAJ12xFbL",
    "outputId": "4c6e1665-6b9e-4b96-9ae2-e175bcb724c0"
   },
   "outputs": [],
   "source": [
    "for i in range(0,10,2):\n",
    "    print(i)"
   ]
  },
  {
   "cell_type": "markdown",
   "metadata": {
    "id": "9-RVGQSLxFbN"
   },
   "source": [
    "**E se o usuário digitar o número de dias a serem contabilizados?**\n",
    "\n",
    "Nesse caso, é claro que **não é possível escrever a lista de dias direto no código**, pois nem sabemos quantos são.\n",
    "\n",
    "**Mas com o range, fica fácil**:"
   ]
  },
  {
   "cell_type": "code",
   "execution_count": null,
   "metadata": {
    "colab": {
     "base_uri": "https://localhost:8080/"
    },
    "id": "zBL2jMM2xFbO",
    "outputId": "0634390d-81c2-487a-e126-7e01eb35e3b4"
   },
   "outputs": [],
   "source": [
    "dias = int(input(\"Digite o número de dias: \"))\n",
    "saldo = 0\n",
    "for i in range(1,dias+1):\n",
    "    dia = float(input(\"Digite o valor de hoje: \"))\n",
    "    saldo = saldo + dia\n",
    "    print(\"O seu saldo é\", saldo)"
   ]
  },
  {
   "cell_type": "markdown",
   "metadata": {
    "id": "BNHurJlTxFbQ"
   },
   "source": [
    "> **Por que o range vai até dias+1?**\n",
    "\n",
    "**Porque** **o range começou em 1 e número de fim não está incluso no intervalo**.\n",
    "\n",
    "Em geral, você iria ver um código assim (note que range começa com 0):"
   ]
  },
  {
   "cell_type": "code",
   "execution_count": null,
   "metadata": {
    "colab": {
     "base_uri": "https://localhost:8080/"
    },
    "id": "asQcbb2RxFbR",
    "outputId": "43c846bb-8931-4285-a1d4-24eaaaf57437"
   },
   "outputs": [],
   "source": [
    "dias = int(input(\"Digite o número de dias: \"))\n",
    "saldo = 0\n",
    "for i in range(0,dias):\n",
    "    dia = float(input(\"Digite o valor de hoje: \"))\n",
    "    saldo = saldo + dia\n",
    "    print(\"O seu saldo é\", saldo)"
   ]
  },
  {
   "cell_type": "markdown",
   "metadata": {
    "id": "kDmQ915vxFbT"
   },
   "source": [
    "**As duas opções realizam a mesma tarefa. No entanto, a segunda é considerada mais legível.**\n",
    "\n",
    "**Note que na primeira, range começa em 1: range(1,dias+1)**\n",
    "\n",
    "**Note que na segunda, range começa em 0: range(0,dias)**"
   ]
  },
  {
   "cell_type": "markdown",
   "metadata": {},
   "source": [
    "Uma terceira opção, ainda mais legível, é informar apenas um argumento na função `range`.\n",
    "\n",
    "Neste caso, presume-se que o argumento `inicio` vale `0` e `incremento` vale `0`.\n",
    "\n",
    "Abaixo, um exemplo com apenas um argumento."
   ]
  },
  {
   "cell_type": "code",
   "execution_count": null,
   "metadata": {},
   "outputs": [],
   "source": [
    "dias = int(input(\"Digite o número de dias: \"))\n",
    "saldo = 0\n",
    "for i in range(dias):\n",
    "    dia = float(input(\"Digite o valor de hoje: \"))\n",
    "    saldo = saldo + dia\n",
    "    print(\"O seu saldo é\", saldo)"
   ]
  },
  {
   "cell_type": "markdown",
   "metadata": {
    "id": "85VmnyKcxFbT"
   },
   "source": [
    "---\n",
    "\n",
    "## Laços com condicionais\n",
    "\n",
    "> E se quisermos que o programa dê um aviso no caso em que o saldo fique negativo?\n",
    "\n",
    "Basta colocarmos um ``if`` dentro do nosso bloco do  ``for``!"
   ]
  },
  {
   "cell_type": "code",
   "execution_count": null,
   "metadata": {
    "colab": {
     "base_uri": "https://localhost:8080/"
    },
    "id": "hq_S5Y40xFbU",
    "outputId": "06e1bab9-621c-4bc5-dfbf-d84f4b0d2b1b"
   },
   "outputs": [],
   "source": [
    "dias = int(input(\"Digite o número de dias: \"))\n",
    "saldo = 0\n",
    "for i in range(dias):\n",
    "    dia = float(input(\"Digite o valor de hoje: \"))\n",
    "    saldo = saldo + dia\n",
    "    print(\"O seu saldo é\", saldo)\n",
    "    if saldo < 0:\n",
    "        print(\"Alerta! O seu saldo ficou negativo!\")"
   ]
  },
  {
   "cell_type": "markdown",
   "metadata": {
    "id": "vE8fYd1DxFbX"
   },
   "source": [
    "Note que a condição ``saldo < 0`` é checada a cada dia.\n",
    "\n",
    "**Agora suponha que, no caso em que o saldo fique negativo, o nosso programa deve dar um aviso e sair do laço (ou seja, parar de contabilizar).**\n",
    "\n",
    "Um comando bastante utilizado é o **``break``**: **ele faz com que o programa saia do laço mesmo que não tenha percorrido a lista toda.**\n",
    "\n",
    "Em outras palavras, o **``break``** **\"quebra\" o laço.**\n"
   ]
  },
  {
   "cell_type": "code",
   "execution_count": null,
   "metadata": {
    "colab": {
     "base_uri": "https://localhost:8080/"
    },
    "id": "g0nsJFymxFbY",
    "outputId": "73d2e0d6-c5b3-4f57-a617-3236d948fd96"
   },
   "outputs": [],
   "source": [
    "dias = int(input(\"Digite o número de dias: \"))\n",
    "saldo = 0\n",
    "for i in range(dias):\n",
    "    dia = float(input(\"Digite o valor de hoje: \"))\n",
    "    saldo = saldo + dia\n",
    "    print(\"O seu saldo é\", saldo)\n",
    "    if saldo < 0:\n",
    "        print(\"Alerta! O seu saldo ficou negativo!\")\n",
    "        break\n"
   ]
  },
  {
   "cell_type": "markdown",
   "metadata": {
    "id": "G-ElymdOxFba"
   },
   "source": [
    "---\n",
    "\n",
    "# O comando ``while``\n",
    "\n",
    "Voltando ao nosso exemplo de contabilidade:\n",
    "\n",
    "> E se quisermos parar apenas após alcançarmos um dia de saldo negativo sem nenhum limite para o número de dias?\n",
    "\n",
    "Ou seja, o usuário não digita o número de dias. Devemos rodar até que o saldo fique negativo."
   ]
  },
  {
   "cell_type": "code",
   "execution_count": null,
   "metadata": {
    "colab": {
     "base_uri": "https://localhost:8080/"
    },
    "id": "ETi2PRF_xFba",
    "outputId": "858ddfb3-7f02-43d2-f44d-bb69c4072d18"
   },
   "outputs": [],
   "source": [
    "saldo = 0\n",
    "while saldo >= 0:\n",
    "    dia = float(input(\"Digite o valor de hoje: \"))\n",
    "    saldo = saldo + dia\n",
    "    print(\"O seu saldo é\", saldo)\n",
    "    if saldo < 0:\n",
    "        print(\"Alerta! O seu saldo ficou negativo!\")"
   ]
  },
  {
   "cell_type": "markdown",
   "metadata": {
    "id": "OrF9D-nzzv4a"
   },
   "source": [
    "Aqui o bloco de comandos\n",
    "\n",
    "```python\n",
    "    dia = float(input(\"Digite o valor de hoje: \"))\n",
    "    saldo = saldo + dia\n",
    "    print(\"O seu saldo é\", saldo)\n",
    "    if saldo < 0:\n",
    "        print(\"Alerta! O seu saldo ficou negativo!\")\n",
    "```\n",
    "\n",
    "É executado enquanto ``saldo >= 0``."
   ]
  },
  {
   "cell_type": "markdown",
   "metadata": {
    "id": "AY_j0IGZxFbc"
   },
   "source": [
    "O comando while segue esta estrutura:\n",
    "```python\n",
    "while condicao:\n",
    "  comando1\n",
    "  comando2\n",
    "  comando3\n",
    "```\n",
    "\n",
    "Novamente, a indentação é usada para indicar o que está no bloco de comandos do while.\n",
    "\n",
    "**O ``while`` funciona assim:**\n",
    "\n",
    "1) **Verifique se a condição vale**\n",
    "\n",
    "2a) **Se vale, execute o bloco de comandos do while. Volte ao passo 1 (ou seja, verifique a condição novamente).**\n",
    "\n",
    "2b) **Se não vale, continue a execução do programa fora do bloco de comandos do while.**\n",
    "\n",
    "Ou seja, o bloco de `while ` é repetido até que a condição deixe de valer!\n",
    "\n",
    "> E se a condição for sempre verdadeira?\n",
    "\n",
    "Então dizemos que o seu programa entrou em ***loop infinito*** e ele não irá parar a menos que você o interrompa.\n",
    "\n",
    "OBS: Evite escrever programas que entrem em loop infinito."
   ]
  },
  {
   "cell_type": "markdown",
   "metadata": {
    "id": "N8zMTEt9xFbf"
   },
   "source": [
    "---\n",
    "\n",
    "## while com condição composta\n",
    "\n",
    "Assim como no ``if``, podemos usar  condições compostas no ``while``.\n",
    "\n",
    "Suponha que agora você queria parar a contabilidade quando o saldo ficar negativo ou atingir 1000.\n",
    "\n",
    "Então queremos rodar a contabilidade enquanto\n",
    "\n",
    "o saldo é >=0 **E** o saldo é < 1000"
   ]
  },
  {
   "cell_type": "code",
   "execution_count": null,
   "metadata": {
    "colab": {
     "base_uri": "https://localhost:8080/"
    },
    "id": "9lANdtnQxFbi",
    "outputId": "38d7e2cd-cf13-418f-e80f-f2c1ee1ac694"
   },
   "outputs": [],
   "source": [
    "saldo = 0\n",
    "while saldo >= 0 and saldo < 1000:\n",
    "    dia = float(input(\"Digite o valor de hoje: \"))\n",
    "    saldo = saldo + dia\n",
    "    print(\"O seu saldo é\", saldo)\n",
    "\n",
    "    if saldo < 0:\n",
    "        print(\"Alerta! O seu saldo ficou negativo!\")\n",
    "    elif saldo >= 1000:\n",
    "        print(\"Parabéns! Você economizou o quanto queria!\")"
   ]
  },
  {
   "cell_type": "markdown",
   "metadata": {
    "id": "7-h_wpJh15HW"
   },
   "source": [
    "Compare com esta alternativa:"
   ]
  },
  {
   "cell_type": "code",
   "execution_count": null,
   "metadata": {
    "colab": {
     "base_uri": "https://localhost:8080/"
    },
    "id": "AQkhV5H1xFbk",
    "outputId": "9aaa4062-3213-45c3-8730-cf4950e3a529"
   },
   "outputs": [],
   "source": [
    "saldo = 0\n",
    "while saldo >= 0 and saldo < 1000:\n",
    "    dia = float(input(\"Digite o valor de hoje: \"))\n",
    "    saldo = saldo + dia\n",
    "    print(\"O seu saldo é\", saldo)\n",
    "\n",
    "if saldo < 0:\n",
    "    print(\"Alerta! O seu saldo ficou negativo!\")\n",
    "elif saldo >= 1000:\n",
    "    print(\"Parabéns! Você economizou o quanto queria!\")"
   ]
  },
  {
   "cell_type": "markdown",
   "metadata": {
    "id": "GDm6ZPCn19G3"
   },
   "source": [
    "> Qual a diferença? No primeiro caso, a impressão de mensagem é feita em cada bloco de `while`. No segundo caso, impressão de mensagem é feita uma única vez, após sair de laço `while`."
   ]
  },
  {
   "cell_type": "markdown",
   "metadata": {
    "id": "KOpX1OjkxFbp"
   },
   "source": [
    "---\n",
    "\n",
    "# Listas\n",
    "\n",
    "Uma estrutura muito usada em Python é chamada de lista.\n",
    "\n",
    "O Python é uma linguagem em que lidar com listas é muito natural e temos várias operações úteis envolvendo listas.\n",
    "\n",
    "Veja o exemplo de uma lista com os números 1,2,3:"
   ]
  },
  {
   "cell_type": "code",
   "execution_count": null,
   "metadata": {
    "colab": {
     "base_uri": "https://localhost:8080/"
    },
    "id": "lflMuZhFxFbp",
    "outputId": "1cf783cf-e7d6-431d-967d-a0b800280188"
   },
   "outputs": [],
   "source": [
    "[1,2,3]"
   ]
  },
  {
   "cell_type": "markdown",
   "metadata": {
    "id": "E5OrrBQcxFbr"
   },
   "source": [
    "### EXTRA: Listas tem suas operações próprias:\n",
    "\n",
    "Veja o que o + faz:"
   ]
  },
  {
   "cell_type": "code",
   "execution_count": null,
   "metadata": {
    "colab": {
     "base_uri": "https://localhost:8080/"
    },
    "id": "QJVvpbN1xFbs",
    "outputId": "fa648090-c60a-47ef-d579-35bf10ffef85"
   },
   "outputs": [],
   "source": [
    "[1,2,3]+[\"a\",\"b\",\"c\"]"
   ]
  },
  {
   "cell_type": "markdown",
   "metadata": {
    "id": "5Cp6h_3UxFbu"
   },
   "source": [
    "Essa operação é chamada de **concatenação**: obtemos uma lista formada pela primeira lista seguida pela segunda lista.\n",
    "\n",
    "### EXTRA: Temos também a operação de ``*``:"
   ]
  },
  {
   "cell_type": "code",
   "execution_count": null,
   "metadata": {
    "colab": {
     "base_uri": "https://localhost:8080/"
    },
    "id": "BEWGwIGoxFbu",
    "outputId": "a0721850-27a4-40ce-b0c4-edc183c7bdb4"
   },
   "outputs": [],
   "source": [
    "[1,-1]*4"
   ]
  },
  {
   "cell_type": "markdown",
   "metadata": {
    "id": "eXv8MFMxxFbx"
   },
   "source": [
    "Note aqui que a lista é repetida 4 vezes.\n",
    "\n",
    "**Para saber o tamanho da lista, usamos a função `len`:**"
   ]
  },
  {
   "cell_type": "code",
   "execution_count": null,
   "metadata": {
    "colab": {
     "base_uri": "https://localhost:8080/"
    },
    "id": "9dcRpSpLxFbx",
    "outputId": "b110155d-e4f2-4729-d29d-cc8d65a62f71"
   },
   "outputs": [],
   "source": [
    "x = [1,-5,3,-6,3,7]\n",
    "n = len(x)\n",
    "n"
   ]
  },
  {
   "cell_type": "markdown",
   "metadata": {
    "id": "FxZTvkMKxFb0"
   },
   "source": [
    "Para acessar os elementos de uma lista, usamos a sua posição. **A primeira posição começa em 0 (não em 1):**"
   ]
  },
  {
   "cell_type": "code",
   "execution_count": null,
   "metadata": {
    "colab": {
     "base_uri": "https://localhost:8080/"
    },
    "id": "2PxUX4CexFb0",
    "outputId": "73060e94-2e08-408e-b856-c5a68af77852"
   },
   "outputs": [],
   "source": [
    "x = [1,-5,3,-6,3,7]\n",
    "print(x[0])\n",
    "print(x[1])\n",
    "print(x[2])\n",
    "print(x[3])\n",
    "print(x[4])\n",
    "print(x[5])"
   ]
  },
  {
   "cell_type": "markdown",
   "metadata": {
    "id": "qAAuvscMxFb2"
   },
   "source": [
    "É muito comum acessar listas usando um ``for``, pois podemos percorrer as posições (também chamados de **índices**) da lista e acessar cada valor:"
   ]
  },
  {
   "cell_type": "code",
   "execution_count": null,
   "metadata": {
    "colab": {
     "base_uri": "https://localhost:8080/"
    },
    "id": "ky81BLz8xFb3",
    "outputId": "f5cdc5d0-c2c0-4459-fb66-e30a7ec7fbd1"
   },
   "outputs": [],
   "source": [
    "x = [1,-5,3,-6,3,7]\n",
    "n = len(x)\n",
    "for i in range(n):\n",
    "    print(x[i])"
   ]
  },
  {
   "cell_type": "markdown",
   "metadata": {
    "id": "TpNtJqKyxFb5"
   },
   "source": [
    "---\n",
    "\n",
    "# Um exemplo com planilhas\n",
    "\n",
    "Agora suponha que você tenha anotado os seus valores diários em várias planilhas (uma por mês) e você quer calcular o saldo após cada mês.\n",
    "\n",
    "Vamos criar uma lista com os nome das planilhas chamado `arquivos`.\n",
    "\n",
    "**Obs.:** O conteúdo dos arquivos são gerados aleatoriamente! **Não se preocupe em tentar entender o código abaixo!**"
   ]
  },
  {
   "cell_type": "code",
   "execution_count": null,
   "metadata": {},
   "outputs": [],
   "source": [
    "arquivos = [ ] # Lista vazia com os nomes das planilhas\n",
    "\n",
    "# !!! Não precisa entender o código abaixo !!!\n",
    "import random as rand\n",
    "for mes, dias in enumerate([31, 28, 31, 30, 31, 30, 31, 31, 30, 31, 30, 31]):\n",
    "    rand.seed(mes * 313 + dias * 13)\n",
    "    arq = f\"8.1 Mes{mes+1:0=2d}.csv\"\n",
    "    f = open(arq, \"w\", encoding='utf-8')\n",
    "    f.write(\"Dia,Valor\\n\")\n",
    "    for d in range(dias):\n",
    "        f.write(f\"{d+1},{rand.randrange(-190,210)}\\n\")\n",
    "    f.close()\n",
    "    arquivos.append(arq)\n",
    "arquivos"
   ]
  },
  {
   "cell_type": "markdown",
   "metadata": {
    "id": "Qx9nsn482wot"
   },
   "source": [
    "Agora podemos percorrer a lista de endereços usando um ``for``.\n",
    "\n",
    "Veja como o código fica curto:"
   ]
  },
  {
   "cell_type": "code",
   "execution_count": null,
   "metadata": {
    "colab": {
     "base_uri": "https://localhost:8080/"
    },
    "id": "SZGPgtUjxFb6",
    "outputId": "05359332-17e8-40a1-c758-a0aaf17a7ed5"
   },
   "outputs": [],
   "source": [
    "import pandas as pd\n",
    "\n",
    "saldo = 0\n",
    "for mes in arquivos:\n",
    "    df = pd.read_csv(mes)\n",
    "    mensal = df[\"Valor\"].sum()\n",
    "    saldo = saldo + mensal\n",
    "    print(\"O saldo do mês é foi de\", mensal)\n",
    "    print(\"O saldo é\", saldo)"
   ]
  },
  {
   "cell_type": "markdown",
   "metadata": {
    "id": "EbPxBqmn5Rbv"
   },
   "source": [
    "Podemos também acessar pelas posições na lista `arquivos`:"
   ]
  },
  {
   "cell_type": "code",
   "execution_count": null,
   "metadata": {
    "colab": {
     "base_uri": "https://localhost:8080/"
    },
    "id": "gddIKoIm5UvO",
    "outputId": "22aa8ba5-3eda-4697-b167-05290d4003e3"
   },
   "outputs": [],
   "source": [
    "saldo = 0\n",
    "for i in range(len(arquivos)):\n",
    "    df = pd.read_csv(arquivos[i])\n",
    "    mensal = df[\"Valor\"].sum()\n",
    "    saldo = saldo + mensal\n",
    "    print(\"O saldo do mês é foi de\", mensal)\n",
    "    print(\"O saldo é\", saldo)"
   ]
  },
  {
   "cell_type": "markdown",
   "metadata": {
    "id": "mJWeAdz4xFb7"
   },
   "source": [
    "## Gráficos"
   ]
  },
  {
   "cell_type": "markdown",
   "metadata": {
    "id": "d6rUSRLSxFb8"
   },
   "source": [
    "E se quisermos colocar um gráfico com o saldo após cada mês?\n",
    "\n",
    "Vamos ver duas maneiras.\n",
    "\n",
    "A primeira é atualizar o gráfico cada vez que rodamos o laço.\n",
    "\n",
    "Vamos colocar um 'o' no saldo de acordo com o mês."
   ]
  },
  {
   "cell_type": "code",
   "execution_count": null,
   "metadata": {
    "colab": {
     "base_uri": "https://localhost:8080/",
     "height": 265
    },
    "id": "mIp27a1BxFb8",
    "outputId": "0a2b56c2-fb32-40de-ccea-1426609b6273"
   },
   "outputs": [],
   "source": [
    "import pandas as pd\n",
    "import matplotlib.pyplot as plt\n",
    "%matplotlib inline\n",
    "\n",
    "saldo = 0\n",
    "\n",
    "for i in range(len(arquivos)):\n",
    "    df = pd.read_csv(arquivos[i])\n",
    "    mensal = df[\"Valor\"].sum()\n",
    "    saldo = saldo + mensal\n",
    "    plt.plot(i,saldo,'o')"
   ]
  },
  {
   "cell_type": "markdown",
   "metadata": {
    "id": "BKW6rD2451NR"
   },
   "source": [
    "A segunda maneira é criar uma lista com os pontos e depois fazer o gráfico em um único comando.\n",
    "\n",
    "EXTRA: **O comando a seguir cria uma lista vazia:**"
   ]
  },
  {
   "cell_type": "code",
   "execution_count": null,
   "metadata": {
    "colab": {
     "base_uri": "https://localhost:8080/"
    },
    "id": "MMdb1w2N5-9G",
    "outputId": "dbc63462-50bc-4b41-b38a-16678acafeb3"
   },
   "outputs": [],
   "source": [
    "lista_saldos = []\n",
    "lista_saldos"
   ]
  },
  {
   "cell_type": "markdown",
   "metadata": {
    "id": "uoYGN64p6HKy"
   },
   "source": [
    "EXTRA: **A função ``append`` adiciona um elemento no fim da lista:**"
   ]
  },
  {
   "cell_type": "code",
   "execution_count": null,
   "metadata": {
    "colab": {
     "base_uri": "https://localhost:8080/"
    },
    "id": "WtPWj_YF6PQo",
    "outputId": "623e3546-c70c-4fa7-b98f-f833b73857f7"
   },
   "outputs": [],
   "source": [
    "print(\"Lista:\",lista_saldos)\n",
    "\n",
    "lista_saldos.append(10)\n",
    "print(\"Lista:\",lista_saldos)\n",
    "\n",
    "lista_saldos.append(-12)\n",
    "print(\"Lista:\",lista_saldos)\n",
    "\n",
    "lista_saldos.append(30)\n",
    "print(\"Lista:\",lista_saldos)\n",
    "\n",
    "lista_saldos.append(-10)\n",
    "print(\"Lista:\",lista_saldos)"
   ]
  },
  {
   "cell_type": "markdown",
   "metadata": {
    "id": "QoiQCwj56fbJ"
   },
   "source": [
    "Então iremos usar uma lista ``lista_saldos`` inicialmente vazia.\n",
    "\n",
    "Cada vez que atualizarmos o saldo, vamos colocar o saldo no fim da lista usando a função ``append``:"
   ]
  },
  {
   "cell_type": "code",
   "execution_count": null,
   "metadata": {
    "id": "tleiKbta5vf9"
   },
   "outputs": [],
   "source": [
    "import pandas as pd\n",
    "import matplotlib.pyplot as plt\n",
    "%matplotlib inline\n",
    "\n",
    "saldo = 0\n",
    "lista_saldos = []\n",
    "\n",
    "for i in range(len(arquivos)):\n",
    "    df = pd.read_csv(arquivos[i])\n",
    "    mensal = df[\"Valor\"].sum()\n",
    "    saldo = saldo + mensal\n",
    "    lista_saldos.append(saldo)"
   ]
  },
  {
   "cell_type": "markdown",
   "metadata": {
    "id": "4PMG7iM66yug"
   },
   "source": [
    "Veja como ficou nossa lista de saldos:"
   ]
  },
  {
   "cell_type": "code",
   "execution_count": null,
   "metadata": {
    "id": "77zOwFCI5-HU"
   },
   "outputs": [],
   "source": [
    "lista_saldos"
   ]
  },
  {
   "cell_type": "markdown",
   "metadata": {
    "id": "RrdTR7Ca652T"
   },
   "source": [
    "E agora podemos fazer o gráfico. Para o eixo x, vamos usar ``range(0,len(lista_saldos))``"
   ]
  },
  {
   "cell_type": "code",
   "execution_count": null,
   "metadata": {
    "id": "s9YOpT5M64C8"
   },
   "outputs": [],
   "source": [
    "plt.plot(range(0,len(lista_saldos)), lista_saldos, 'o')"
   ]
  },
  {
   "cell_type": "markdown",
   "metadata": {
    "id": "PcKO0bhX7QcU"
   },
   "source": [
    "Uma vantagem desta segunda maneira é que usamos a função plot apenas uma vez.\n",
    "\n",
    "Além disso, fica mais fácil ligar os pontos com uma reta:"
   ]
  },
  {
   "cell_type": "code",
   "execution_count": null,
   "metadata": {
    "id": "u31nT_Ed7Kuv"
   },
   "outputs": [],
   "source": [
    "plt.plot(range(0,len(lista_saldos)), lista_saldos, 'o-')"
   ]
  },
  {
   "cell_type": "markdown",
   "metadata": {},
   "source": [
    "Se quisermos fazer uma gráfico de **saldo diário**, podemos criar uma grande lista com todos os dias de cada planilha.\n",
    "\n",
    "EXTRA: **Para converter uma coluna da planilha em uma lista, utilizamos a função `tolist()`.**"
   ]
  },
  {
   "cell_type": "code",
   "execution_count": null,
   "metadata": {},
   "outputs": [],
   "source": [
    "saldo = 0\n",
    "lista_saldo_diario = []\n",
    "\n",
    "for a in arquivos:\n",
    "    df = pd.read_csv(a)\n",
    "    for d in df[\"Valor\"].tolist():\n",
    "        saldo = saldo + d\n",
    "        lista_saldo_diario.append(saldo)\n",
    "\n",
    "lista_saldo_diario"
   ]
  },
  {
   "cell_type": "markdown",
   "metadata": {},
   "source": [
    "Observe que no código anterior temos um `for` dentro de um outro `for`."
   ]
  },
  {
   "cell_type": "markdown",
   "metadata": {},
   "source": [
    "E agora podemos fazer o gráfico."
   ]
  },
  {
   "cell_type": "code",
   "execution_count": null,
   "metadata": {},
   "outputs": [],
   "source": [
    "plt.plot(range(0,len(lista_saldo_diario)), lista_saldo_diario, '-')"
   ]
  }
 ],
 "metadata": {
  "colab": {
   "provenance": []
  },
  "kernelspec": {
   "display_name": "Python 3 (ipykernel)",
   "language": "python",
   "name": "python3"
  },
  "language_info": {
   "codemirror_mode": {
    "name": "ipython",
    "version": 3
   },
   "file_extension": ".py",
   "mimetype": "text/x-python",
   "name": "python",
   "nbconvert_exporter": "python",
   "pygments_lexer": "ipython3",
   "version": "3.11.3"
  }
 },
 "nbformat": 4,
 "nbformat_minor": 4
}
