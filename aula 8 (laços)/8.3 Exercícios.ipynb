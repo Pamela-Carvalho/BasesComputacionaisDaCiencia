{
 "cells": [
  {
   "cell_type": "markdown",
   "metadata": {
    "id": "2E5b9OZOxFbB"
   },
   "source": [
    "## Exercício\n",
    "\n",
    "Modifique o código do exemplo para que rode para 5 dias."
   ]
  },
  {
   "cell_type": "code",
   "execution_count": 2,
   "metadata": {
    "id": "9sCbIxDtxFbC"
   },
   "outputs": [
    {
     "name": "stdout",
     "output_type": "stream",
     "text": [
      "Digite o valor de hoje: 1\n",
      "O seu saldo é 1.0\n",
      "Digite o valor de hoje: 2\n",
      "O seu saldo é 3.0\n",
      "Digite o valor de hoje: 3\n",
      "O seu saldo é 6.0\n",
      "Digite o valor de hoje: 4\n",
      "O seu saldo é 10.0\n",
      "Digite o valor de hoje: 5\n",
      "O seu saldo é 15.0\n"
     ]
    }
   ],
   "source": [
    "# Sua resposta\n",
    "saldo = 0\n",
    "for i in [1,2,3, 4, 5]:\n",
    "    dia = float(input(\"Digite o valor de hoje: \"))\n",
    "    saldo = saldo + dia\n",
    "    print(\"O seu saldo é\", saldo)"
   ]
  },
  {
   "cell_type": "markdown",
   "metadata": {
    "id": "9EWlLfS5xFba"
   },
   "source": [
    "## Exercício:\n",
    "\n",
    "Faça um programa que pede para o usuário digitar uma senha.\n",
    "\n",
    "Ele deve ter no máximo 3 tentativas. A senha correta é 1234\n",
    "\n",
    "Em cada tentativa,\n",
    "* Se ele acertar, diga que ele acertou e encerre o programa.\n",
    "* Se ele errar, diga que a senha está errada e dê mais uma tentativa (com um limite de 3 tentativas)\n",
    "\n",
    "Regra: Você **deve** utilizar o comando `for`."
   ]
  },
  {
   "cell_type": "code",
   "execution_count": 6,
   "metadata": {
    "id": "K5PfmFJ6zWrU"
   },
   "outputs": [
    {
     "name": "stdout",
     "output_type": "stream",
     "text": [
      "Informe a senha:1\n",
      "Senha incorreta\n",
      "Informe a senha:2\n",
      "Senha incorreta\n",
      "Informe a senha:1234\n",
      "Senha correta\n"
     ]
    }
   ],
   "source": [
    "for i in [1, 2, 3]:\n",
    "    senha = int(input(\"Informe a senha:\"))\n",
    "    \n",
    "    if(senha == 1234):\n",
    "        print(\"Senha correta\")\n",
    "        break\n",
    "        \n",
    "    else:\n",
    "        print(\"Senha incorreta\")\n"
   ]
  },
  {
   "cell_type": "markdown",
   "metadata": {
    "id": "l9BRE70J1Fjw"
   },
   "source": [
    "## Exercício:\n",
    "\n",
    "Faça um programa que pede para o usuário digitar uma senha.\n",
    "\n",
    "A senha correta é 1234\n",
    "\n",
    "Em cada tentativa,\n",
    "* Se ele acertar, diga que ele acertou e encerre o programa.\n",
    "* Se ele errar, diga que a senha está errada e dê mais uma tentativa (não há limite de tentativas).\n",
    "\n",
    "Regra: Você **deve** utilizar o comando `while`."
   ]
  },
  {
   "cell_type": "code",
   "execution_count": 11,
   "metadata": {
    "id": "cNI5HOBlxFbd"
   },
   "outputs": [
    {
     "name": "stdout",
     "output_type": "stream",
     "text": [
      "Infome a senha:1\n",
      "Senha incorreta\n",
      "Infome a senha:3\n",
      "Senha incorreta\n",
      "Infome a senha:3\n",
      "Senha incorreta\n",
      "Infome a senha:5\n",
      "Senha incorreta\n",
      "Infome a senha:4\n",
      "Senha incorreta\n",
      "Infome a senha:1234\n",
      "Senha correta\n"
     ]
    }
   ],
   "source": [
    "senha = 0\n",
    "while senha != 1234:\n",
    "    senha = int(input(\"Infome a senha:\"))\n",
    "    \n",
    "    if(senha == 1234):\n",
    "        print(\"Senha correta\")\n",
    "        \n",
    "    else:\n",
    "        print(\"Senha incorreta\")"
   ]
  },
  {
   "cell_type": "markdown",
   "metadata": {},
   "source": [
    "## Exercício:\n",
    "\n",
    "Faça um programa que lê a lista `arquivos` (ver Notebook Laços) e imprima:\n",
    "\n",
    "1. O mês com o menor saldo;\n",
    "1. O mês com o maior saldo;\n",
    "1. A média de saldo mensal.\n",
    "1. Quantidade de meses com saldo positivo;\n",
    "1. Quantidade de meses com saldo negativo.\n",
    "\n",
    "**DICAS**\n",
    "\n",
    "Para calcular o menor/maior saldo ou a quantidade de meses com saldo positivo/negativo, pode-se criar variáveis auxiliares:\n",
    "\n",
    "```python\n",
    "menor_saldo = 99999 # Número muito grande para garantir!\n",
    "saldos_pos  = 0\n",
    "for i in range(len(arquivos)):\n",
    "    # laço principal...\n",
    "    if menor_saldo > mensal:\n",
    "        menor_saldo = mensal\n",
    "    if mensal > 0:\n",
    "        saldos_pos = saldos_pos + 1\n",
    "```\n",
    "Ou simplesmente usar funções `max(menor_saldo)`, `min(menor_saldo)` e `sum([1 for x in mensal if x > 0])`\n",
    "\n",
    "Para calcular a média mensal, pode-se utilizar laço:\n",
    "\n",
    "```python\n",
    "media = 0\n",
    "for saldo in lista_saldos:\n",
    "    media = media + saldo\n",
    "media = media / len(lista_saldos)\n",
    "```\n",
    "\n",
    "ou\n",
    "\n",
    "```python\n",
    "media = sum(lista_saldos)/len(lista_saldos)\n",
    "```"
   ]
  },
  {
   "cell_type": "code",
   "execution_count": 16,
   "metadata": {},
   "outputs": [
    {
     "name": "stdout",
     "output_type": "stream",
     "text": [
      "O saldo do mês foi de 514\n",
      "O saldo é 514\n",
      "O saldo do mês foi de 524\n",
      "O saldo é 1038\n",
      "O saldo do mês foi de 933\n",
      "O saldo é 1971\n",
      "O saldo do mês foi de 1067\n",
      "O saldo é 3038\n",
      "O saldo do mês foi de 70\n",
      "O saldo é 3108\n",
      "O saldo do mês foi de -311\n",
      "O saldo é 2797\n",
      "O saldo do mês foi de 353\n",
      "O saldo é 3150\n",
      "O saldo do mês foi de 254\n",
      "O saldo é 3404\n",
      "O saldo do mês foi de 1392\n",
      "O saldo é 4796\n",
      "O saldo do mês foi de 253\n",
      "O saldo é 5049\n",
      "O saldo do mês foi de -494\n",
      "O saldo é 4555\n",
      "O saldo do mês foi de 331\n",
      "O saldo é 4886\n"
     ]
    }
   ],
   "source": [
    "arquivos = [ ] # Lista vazia com os nomes das planilhas\n",
    "\n",
    "# !!! Não precisa entender o código abaixo !!!\n",
    "import random as rand\n",
    "for mes, dias in enumerate([31, 28, 31, 30, 31, 30, 31, 31, 30, 31, 30, 31]):\n",
    "    rand.seed(mes * 313 + dias * 13)\n",
    "    arq = f\"8.1 Mes{mes+1:0=2d}.csv\"\n",
    "    f = open(arq, \"w\", encoding='utf-8')\n",
    "    f.write(\"Dia,Valor\\n\")\n",
    "    for d in range(dias):\n",
    "        f.write(f\"{d+1},{rand.randrange(-190,210)}\\n\")\n",
    "    f.close()\n",
    "    arquivos.append(arq)\n",
    "arquivos\n",
    "\n",
    "import pandas as pd\n",
    "\n",
    "saldo = 0\n",
    "for mes in arquivos:\n",
    "    df = pd.read_csv(mes)\n",
    "    mensal = df[\"Valor\"].sum()\n",
    "    saldo = saldo + mensal\n",
    "    print(\"O saldo do mês foi de\", mensal)\n",
    "    print(\"O saldo é\", saldo)"
   ]
  },
  {
   "cell_type": "code",
   "execution_count": 20,
   "metadata": {},
   "outputs": [
    {
     "name": "stdout",
     "output_type": "stream",
     "text": [
      "O mês com menor saldo foi de -494\n"
     ]
    }
   ],
   "source": [
    "# mes com menor saldo\n",
    "import pandas as pd\n",
    "\n",
    "saldo = 0\n",
    "saldo_min = 999999\n",
    "lista_saldos = []\n",
    "\n",
    "for mes in arquivos:\n",
    "    df = pd.read_csv(mes)\n",
    "    mensal = df[\"Valor\"].sum()\n",
    "    saldo = saldo + mensal\n",
    "\n",
    "    lista_saldos.append(saldo)\n",
    "\n",
    "    if(saldo_min > mensal):\n",
    "        saldo_min = mensal\n",
    "\n",
    "print(\"O mês com menor saldo foi de\", saldo_min)"
   ]
  },
  {
   "cell_type": "code",
   "execution_count": 21,
   "metadata": {},
   "outputs": [
    {
     "name": "stdout",
     "output_type": "stream",
     "text": [
      "O mês com maior saldo foi de 1392\n"
     ]
    }
   ],
   "source": [
    "# mes com maior saldo\n",
    "saldo = 0\n",
    "saldo_max = -999999\n",
    "lista_saldos = []\n",
    "\n",
    "for mes in arquivos:\n",
    "    df = pd.read_csv(mes)\n",
    "    mensal = df[\"Valor\"].sum()\n",
    "    saldo = saldo + mensal\n",
    "\n",
    "    lista_saldos.append(saldo)\n",
    "\n",
    "    if(saldo_min < mensal):\n",
    "        saldo_min = mensal\n",
    "\n",
    "print(\"O mês com maior saldo foi de\", saldo_min)"
   ]
  },
  {
   "cell_type": "code",
   "execution_count": 22,
   "metadata": {},
   "outputs": [
    {
     "name": "stdout",
     "output_type": "stream",
     "text": [
      "A média de saldo mensal é de 407.1666666666667\n"
     ]
    }
   ],
   "source": [
    "# media de saldo mensal\n",
    "saldo = 0\n",
    "lista_saldos = []\n",
    "\n",
    "for mes in arquivos:\n",
    "    df = pd.read_csv(mes)\n",
    "    mensal = df[\"Valor\"].sum()\n",
    "    saldo = saldo + mensal\n",
    "\n",
    "    lista_saldos.append(saldo)\n",
    "\n",
    "print(\"A média de saldo mensal é de\", saldo/12)"
   ]
  },
  {
   "cell_type": "code",
   "execution_count": 23,
   "metadata": {},
   "outputs": [
    {
     "name": "stdout",
     "output_type": "stream",
     "text": [
      "A quantidade de meses com saldo positivo é 10\n"
     ]
    }
   ],
   "source": [
    "# meses com saldo positivo\n",
    "saldo = 0\n",
    "lista_saldos = []\n",
    "\n",
    "for mes in arquivos:\n",
    "    df = pd.read_csv(mes)\n",
    "    mensal = df[\"Valor\"].sum()\n",
    "    saldo = saldo + mensal\n",
    "\n",
    "    if(mensal > 0):\n",
    "        lista_saldos.append(saldo)\n",
    "\n",
    "print(\"A quantidade de meses com saldo positivo é\", len(lista_saldos))"
   ]
  },
  {
   "cell_type": "code",
   "execution_count": 24,
   "metadata": {},
   "outputs": [
    {
     "name": "stdout",
     "output_type": "stream",
     "text": [
      "A quantidade de meses com saldo negativo é 2\n"
     ]
    }
   ],
   "source": [
    "# meses com saldo negativo\n",
    "saldo = 0\n",
    "lista_saldos = []\n",
    "\n",
    "for mes in arquivos:\n",
    "    df = pd.read_csv(mes)\n",
    "    mensal = df[\"Valor\"].sum()\n",
    "    saldo = saldo + mensal\n",
    "\n",
    "    if(mensal < 0):\n",
    "        lista_saldos.append(saldo)\n",
    "\n",
    "print(\"A quantidade de meses com saldo negativo é\", len(lista_saldos))"
   ]
  },
  {
   "cell_type": "markdown",
   "metadata": {},
   "source": [
    "## Exercício\n",
    "\n",
    "Faça um programa que lê a lista `arquivos` (ver Notebook Laços) e gere um gráfico tipo histograma de todos os saldos diários.\n",
    "\n",
    "Utilize `bins = 20`."
   ]
  },
  {
   "cell_type": "code",
   "execution_count": 25,
   "metadata": {},
   "outputs": [
    {
     "data": {
      "text/plain": [
       "Text(0.5, 1.0, 'Histograma de saldos diários')"
      ]
     },
     "execution_count": 25,
     "metadata": {},
     "output_type": "execute_result"
    },
    {
     "data": {
      "image/png": "[encoded data removed]",
      "text/plain": [
       "<Figure size 640x480 with 1 Axes>"
      ]
     },
     "metadata": {},
     "output_type": "display_data"
    }
   ],
   "source": [
    "import matplotlib.pyplot as plt\n",
    "%matplotlib inline\n",
    "\n",
    "saldo = 0\n",
    "lista_saldos = []\n",
    "\n",
    "for mes in arquivos:\n",
    "    df = pd.read_csv(mes)\n",
    "\n",
    "    for i in range(len(df)):\n",
    "      diario = df['Valor'][i]\n",
    "      lista_saldos.append(diario)\n",
    "\n",
    "plt.hist(lista_saldos, bins=20, rwidth=0.9)\n",
    "plt.title(\"Histograma de saldos diários\")"
   ]
  },
  {
   "cell_type": "markdown",
   "metadata": {},
   "source": [
    "## Exercício\n",
    "\n",
    "Faça um programa que lê a lista `arquivos` e imprima a contagem de:\n",
    "\n",
    "* Saldos diários menores do que -100;\n",
    "* Saldos diários miores ou igual a -100 e menores do que 0;\n",
    "* Saldos diários miores ou igual a 0 e menores do que 100;\n",
    "* Saldos diários miores ou igual a 100.\n",
    "\n",
    "*GABARITO: Verifque a sua resposta, que deve ter os valores 89, 78, 93 e 105 respectivamente.*"
   ]
  },
  {
   "cell_type": "code",
   "execution_count": 26,
   "metadata": {},
   "outputs": [
    {
     "name": "stdout",
     "output_type": "stream",
     "text": [
      "A quantidade dias com saldo menor que -100 é 89\n"
     ]
    }
   ],
   "source": [
    "# saldos diarios menores que -100\n",
    "saldo = 0\n",
    "lista_saldos = []\n",
    "\n",
    "for dias in arquivos:\n",
    "    df = pd.read_csv(dias)\n",
    "    diario = df[\"Valor\"]\n",
    "    saldo = saldo + diario\n",
    "\n",
    "    for i in range(len(diario)):\n",
    "      if(diario[i] < -100):\n",
    "        lista_saldos.append(saldo)\n",
    "\n",
    "print(\"A quantidade dias com saldo menor que -100 é\", len(lista_saldos))"
   ]
  },
  {
   "cell_type": "code",
   "execution_count": 27,
   "metadata": {},
   "outputs": [
    {
     "name": "stdout",
     "output_type": "stream",
     "text": [
      "A quantidade dias com saldo maior ou igual a -100 e menor que 0 é 78\n"
     ]
    }
   ],
   "source": [
    "# saldos diarios maiores ou iguais a -100 e menores que 0\n",
    "saldo = 0\n",
    "lista_saldos = []\n",
    "\n",
    "for dias in arquivos:\n",
    "    df = pd.read_csv(dias)\n",
    "    diario = df[\"Valor\"]\n",
    "    saldo = saldo + diario\n",
    "\n",
    "    for i in range(len(diario)):\n",
    "      if(diario[i] >= -100 and diario[i] < 0):\n",
    "        lista_saldos.append(saldo)\n",
    "\n",
    "print(\"A quantidade dias com saldo maior ou igual a -100 e menor que 0 é\", len(lista_saldos))"
   ]
  },
  {
   "cell_type": "code",
   "execution_count": 28,
   "metadata": {},
   "outputs": [
    {
     "name": "stdout",
     "output_type": "stream",
     "text": [
      "A quantidade dias com saldo maior ou igual a 0 e menor que 100 é 93\n"
     ]
    }
   ],
   "source": [
    "# saldos diarios maiores ou iguais a 0 e menores que 100\n",
    "saldo = 0\n",
    "lista_saldos = []\n",
    "\n",
    "for dias in arquivos:\n",
    "    df = pd.read_csv(dias)\n",
    "    diario = df[\"Valor\"]\n",
    "    saldo = saldo + diario\n",
    "\n",
    "    for i in range(len(diario)):\n",
    "      if(diario[i] >= 0 and diario[i] < 100):\n",
    "        lista_saldos.append(saldo)\n",
    "\n",
    "print(\"A quantidade dias com saldo maior ou igual a 0 e menor que 100 é\", len(lista_saldos))"
   ]
  },
  {
   "cell_type": "code",
   "execution_count": 29,
   "metadata": {},
   "outputs": [
    {
     "name": "stdout",
     "output_type": "stream",
     "text": [
      "A quantidade dias com saldo maior ou igual a 100 é 105\n"
     ]
    }
   ],
   "source": [
    "# saldos diarios maiores ou iguais a 100\n",
    "saldo = 0\n",
    "lista_saldos = []\n",
    "\n",
    "for dias in arquivos:\n",
    "    df = pd.read_csv(dias)\n",
    "    diario = df[\"Valor\"]\n",
    "    saldo = saldo + diario\n",
    "\n",
    "    for i in range(len(diario)):\n",
    "      if(diario[i] >= 100):\n",
    "        lista_saldos.append(saldo)\n",
    "\n",
    "print(\"A quantidade dias com saldo maior ou igual a 100 é\", len(lista_saldos))"
   ]
  }
 ],
 "metadata": {
  "colab": {
   "provenance": []
  },
  "kernelspec": {
   "display_name": "Python 3 (ipykernel)",
   "language": "python",
   "name": "python3"
  },
  "language_info": {
   "codemirror_mode": {
    "name": "ipython",
    "version": 3
   },
   "file_extension": ".py",
   "mimetype": "text/x-python",
   "name": "python",
   "nbconvert_exporter": "python",
   "pygments_lexer": "ipython3",
   "version": "3.11.3"
  }
 },
 "nbformat": 4,
 "nbformat_minor": 1
}
