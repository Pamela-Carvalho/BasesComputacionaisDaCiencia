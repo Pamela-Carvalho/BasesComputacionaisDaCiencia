{
  "nbformat": 4,
  "nbformat_minor": 0,
  "metadata": {
    "colab": {
      "private_outputs": true,
      "provenance": []
    },
    "kernelspec": {
      "name": "python3",
      "display_name": "Python 3"
    }
  },
  "cells": [
    {
      "cell_type": "markdown",
      "metadata": {
        "id": "yjPRbszcZ1bo"
      },
      "source": [
        "## Exercício 1 (a)\n",
        "Considere a planilha neste link:\n",
        "\n",
        "https://drive.google.com/u/1/uc?id=1ASOWhw5tp-kUbZcIlkg5eCKwZNJt6MwQ&export=download\n",
        "\n",
        "Leia a planilha e calcule o coeficiente de correlação entre\n",
        "- Prova 1 e Prova 2\n",
        "- Prova 1 e Trabalho\n",
        "- Prova 2 e Trabalho\n",
        "\n",
        "Imprime os resultados com 2 casas decimais.\n",
        "\n",
        "> Qual é o par mais fortemente correlacionado?"
      ]
    },
    {
      "cell_type": "code",
      "metadata": {
        "id": "P11RwjrkGRfK"
      },
      "source": [
        "import pandas as pd  # importamos biblioteca pandas necessaria para trabalhar com as planilhas\n",
        "df = pd.read_csv(\"https://drive.google.com/u/1/uc?id=1ASOWhw5tp-kUbZcIlkg5eCKwZNJt6MwQ&export=download\") #leitura da planilha\n",
        "corPr1Pr2 = df['Prova 1'].corr(df['Prova 2'])  # calculamos o coeficiente de correlacao entre Prova 1 e Prova 2\n",
        "corPr1Tr  = df['Prova 1'].corr(df['Trabalho']) # calculamos o coeficiente de correlacao entre Prova 1 e Trabalho\n",
        "corPr2Tr  = df['Prova 2'].corr(df['Trabalho']) # calculamos o coeficiente de correlacao entre Prova 2 e Trabalho\n",
        "# impressao de resultados. Note que imprimimos ponto no final de sentença.\n",
        "print(\"Coeficiente de correlação entre Prova 1 e Prova 2: %.2f, entre Prova1 e Trabalho: %.2f, e entre Prova2 e Trabalho: %.2f.\" %(corPr1Pr2,corPr1Tr,corPr2Tr))"
      ],
      "execution_count": null,
      "outputs": []
    },
    {
      "cell_type": "markdown",
      "metadata": {
        "id": "n6EXKqDpIZhT"
      },
      "source": [
        "Note que no código acima, a impressão foi feita usando\n",
        "\n",
        "**print(\"texto1 %.2f texto2 %.2f texto3 %.2f\" %(variavel1,variavel2,variavel3))**\n",
        "\n",
        "Podemos imprimir também usando o comando abaixo (note que a vírgula cria um espaço em branco neste tipo de impressão. Ou seja, na saída de código abaixo temos um espaço em branco após 0.91 e após 0.39 o que não acontece na saída de código acima):\n",
        "\n",
        "**print(\"texto1 %.2f\"%variavel1,\"texto2 %.2f\"%variavel2, ....)**\n",
        "\n",
        "Veja exemplo no seguinte código:"
      ]
    },
    {
      "cell_type": "code",
      "metadata": {
        "id": "GdEhpL0NZ04D"
      },
      "source": [
        "import pandas as pd  # importamos biblioteca pandas necessaria para trabalhar com as planilhas\n",
        "df = pd.read_csv(\"https://drive.google.com/u/1/uc?id=1ASOWhw5tp-kUbZcIlkg5eCKwZNJt6MwQ&export=download\") #leitura da planilha\n",
        "corPr1Pr2 = df['Prova 1'].corr(df['Prova 2'])  # calculamos o coeficiente de correlacao entre Prova 1 e Prova 2\n",
        "corPr1Tr  = df['Prova 1'].corr(df['Trabalho']) # calculamos o coeficiente de correlacao entre Prova 1 e Trabalho\n",
        "corPr2Tr  = df['Prova 2'].corr(df['Trabalho']) # calculamos o coeficiente de correlacao entre Prova 2 e Trabalho\n",
        "# impressao de resultados. Note que imprimimos ponto no final de sentença.\n",
        "print(\"Coeficiente de correlação entre Prova 1 e Prova 2: %.2f\"%corPr1Pr2,\",entre Prova1 e Trabalho: %.2f\"%corPr1Tr,\",e entre Prova2 e Trabalho: %.2f.\"%corPr2Tr)"
      ],
      "execution_count": null,
      "outputs": []
    },
    {
      "cell_type": "markdown",
      "metadata": {
        "id": "LVv988CfRXt-"
      },
      "source": [
        "Podemos ver, a partir da mensagem de programas acima, que o par mais fortemente correlacionado é Prova 1 e Prova 2."
      ]
    },
    {
      "cell_type": "markdown",
      "metadata": {
        "id": "20ErrouddueC"
      },
      "source": [
        "## Exercício 1(b)\n",
        "Considere a planilha neste link:\n",
        "\n",
        "https://drive.google.com/u/1/uc?id=1ASOWhw5tp-kUbZcIlkg5eCKwZNJt6MwQ&export=download\n",
        "\n",
        "Escreva instruções para ler a planilha e uma das colunas \"Prova 1\" ou \"Prova 2\", calcular e imprimir o coeficiente de correlação da coluna Trabalho com a coluna lida. Imprime o resultado com 2 casas decimais.\n",
        "\n",
        "> O que podemos concluir a partir deste valor obtido?\n",
        "\n",
        "    \n",
        "\n"
      ]
    },
    {
      "cell_type": "code",
      "metadata": {
        "id": "8nQJM_eHfjIL"
      },
      "source": [
        "import pandas as pd  # importamos biblioteca pandas necessaria para trabalhar com as planilhas\n",
        "df = pd.read_csv(\"https://drive.google.com/u/1/uc?id=1ASOWhw5tp-kUbZcIlkg5eCKwZNJt6MwQ&export=download\") #leitura da planilha\n",
        "coluna_lida = input()  # leitura da coluna: Prova 1 ou Prova 2\n",
        "corr = df['Trabalho'].corr(df[coluna_lida]) # calculamos o coeficiente de correlacao entre  Trabalho e coluna lida via comando input()\n",
        "# impressao de resultados\n",
        "print(\"Coeficiente de correlação entre coluna Trabalho e\",coluna_lida,\"eh: %.2f\"%corr)"
      ],
      "execution_count": null,
      "outputs": []
    },
    {
      "cell_type": "markdown",
      "metadata": {
        "id": "8mj0BsYohloo"
      },
      "source": [
        "Note que quando digitamos \"Prova 1\" obtemos:\n"
      ]
    },
    {
      "cell_type": "markdown",
      "metadata": {
        "id": "4vtYYNfth7Dh"
      },
      "source": [
        "![Captura de Tela 2021-03-03 às 02.17.45.png](data:image/png;base64,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)"
      ]
    },
    {
      "cell_type": "markdown",
      "metadata": {
        "id": "D7LIHZBkin2O"
      },
      "source": [
        "Logo, como valores de 0.20 a 0.39 indicam  correlação fraca, podemos concluir que existe uma correlação fraca entre a nota de Trabalho e a Nota da Prova 1."
      ]
    },
    {
      "cell_type": "markdown",
      "metadata": {
        "id": "RQPDe9Bcin2J"
      },
      "source": [
        "Note que quando digitamos \"Prova 2\" obtemos:\n"
      ]
    },
    {
      "cell_type": "markdown",
      "metadata": {
        "id": "M659XTrZitG7"
      },
      "source": [
        "![Captura de Tela 2021-03-03 às 02.18.07.png](data:image/png;base64,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)"
      ]
    },
    {
      "cell_type": "markdown",
      "metadata": {
        "id": "8suVaKxliAWB"
      },
      "source": [
        "Logo, como valores de 0.40 a 0.69 indicam  correlação moderada, podemos concluir que existe uma correlação moderada entre a nota de Trabalho e a Nota da Prova 2."
      ]
    },
    {
      "cell_type": "markdown",
      "metadata": {
        "id": "aSaQ-ET37FY-"
      },
      "source": [
        "## Exercício 2(a)\n",
        "\n",
        "Considere a planilha neste link:\n",
        "\n",
        "https://drive.google.com/u/1/uc?id=1ASOWhw5tp-kUbZcIlkg5eCKwZNJt6MwQ&export=download\n",
        "\n",
        "- Leia a planilha\n",
        "\n",
        "- Quais são os valores de $a$ e $b$ para a reta $ax+b$ de regressão linear com a Prova 1 no eixo $x$ e a Prova 2 no eixo $y$?\n",
        "\n",
        "- Imprime a reta de regressão no formato $y = ax+b$, com $a$ e $b$ os valores obtidos no passo acima,agora com 3 casas decimais (note que não há espaço em branco entre $a$ e $x$ nesta formatação).\n",
        "\n",
        "- Qual seria a predição baseada nessa reta para a nota na Prova 2 se a nota na Prova 1 for 65?\n"
      ]
    },
    {
      "cell_type": "code",
      "metadata": {
        "id": "2U1UlndKTW61"
      },
      "source": [
        "# importamos biblioteca pandas necessaria para trabalhar com as planilhas\n",
        "import pandas as pd\n",
        "# importamos biblioteca numpy necessaria para calcular a reta de regressão linear\n",
        "import numpy as np\n",
        "#leitura da planilha\n",
        "df = pd.read_csv(\"https://drive.google.com/u/1/uc?id=1ASOWhw5tp-kUbZcIlkg5eCKwZNJt6MwQ&export=download\")\n",
        "# calculamos os valores de a e b para a reta ax+b de regressão linear com Prova 1 no eixo x e Prova 2 no eixo y\n",
        "(a, b) = np.polyfit(x=df[\"Prova 1\"], y=df[\"Prova 2\"], deg = 1)\n",
        "# imprimimos os valores a e b\n",
        "print(\"Os valores de a e b sao:\", a, b)\n",
        "\n",
        "# impressao de reta de regressão linear com a e b tendo 3 casas decimais\n",
        "print(\"y = %.3fx + %.3f\"%(a,b))     # imprime y = ax + b (sem espaco em branco entre a e x)\n",
        "\n",
        "#impressao de reta de regressao poderia ser feita tambem de seguinte forma\n",
        "print(\"y = %.3fx\"%a,\"+ %.3f\"%b)  # imprime y = ax + b (sem espaco em branco entre a e x)\n",
        "\n",
        "valorPr2 = a*65+b\n",
        "print(\"A nota na Prova 2 se a nota na Prova 1 for 65:\",valorPr2)\n",
        ""
      ],
      "execution_count": null,
      "outputs": []
    },
    {
      "cell_type": "markdown",
      "metadata": {
        "id": "xFa1myVYlNro"
      },
      "source": [
        "## Exercício 2(b)\n",
        "\n",
        "Considere a planilha neste link:\n",
        "\n",
        "https://drive.google.com/u/1/uc?id=1ASOWhw5tp-kUbZcIlkg5eCKwZNJt6MwQ&export=download\n",
        "\n",
        "- Leia a planilha\n",
        "\n",
        "- Quais são os valores de $a$ e $b$ para a reta $a \\,x+b$ de regressão linear com a Prova 1 no eixo $x$ e a Prova 2 no eixo $y$?\n",
        "\n",
        "- Imprime a reta de regressão no formato $y = a  \\,$ $x+b$, com $a$ e $b$ os valores obtidos no passo acima, agora com 3 casas decimais (note que há um espaço em branco entre $a$ e $x$ nesta formatação)\n",
        "\n",
        "- Leia um número n (número real no intervalo de 0 a 100)\n",
        "\n",
        "- Qual seria a predição baseada nessa reta para a nota na Prova 2 se a nota na Prova 1 for n?\n"
      ]
    },
    {
      "cell_type": "code",
      "metadata": {
        "id": "oCmxyZ4GlNrp"
      },
      "source": [
        "# importamos biblioteca pandas necessaria para trabalhar com as planilhas\n",
        "import pandas as pd\n",
        "# importamos biblioteca numpy necessaria para calcular a reta de regressão linear\n",
        "import numpy as np\n",
        "#leitura da planilha\n",
        "df = pd.read_csv(\"https://drive.google.com/u/1/uc?id=1ASOWhw5tp-kUbZcIlkg5eCKwZNJt6MwQ&export=download\")\n",
        "# calculamos os valores de a e b para a reta a x + b de regressão linear com Prova 1 no eixo x e Prova 2 no eixo y\n",
        "(a, b) = np.polyfit(x=df[\"Prova 1\"], y=df[\"Prova 2\"], deg = 1)\n",
        "# imprimimos os valores a e b\n",
        "print(\"Os valores de a e b sao:\", a, b)\n",
        "\n",
        "# impressao de reta de regressão linear com a e b tendo 3 casas decimais\n",
        "print(\"y = %.3f x + %.3f\"%(a,b))  # imprime y = a x + b (com espaco em branco entre a e x)\n",
        "\n",
        "#impressao de reta de regressao poderia ser feita tambem de seguinte forma\n",
        "print(\"y = %.3f\"%a,\"x + %.3f\"%b)  # imprime y = a x + b (com espaco em branco entre a e x)\n",
        "\n",
        "n = float(input(\"Digite a nota de Prova 1 \")) # leitura de valor n (nota de Prova 1)\n",
        "valorPr2 = a*n+b\n",
        "print(\"A nota na Prova 2 se a nota na Prova 1 for %.2f, eh %.2f.\"%(n,valorPr2)) # note que imprimimos ponto no final de sentença\n",
        ""
      ],
      "execution_count": null,
      "outputs": []
    },
    {
      "cell_type": "markdown",
      "metadata": {
        "id": "OEkCx8giktjd"
      },
      "source": [
        "## Exercício 3(a)\n",
        "Considere a planilha no link\n",
        "\n",
        "https://drive.google.com/u/1/uc?id=1ASOWhw5tp-kUbZcIlkg5eCKwZNJt6MwQ&export=download\n",
        "\n",
        "Faça o gráfico de dispersão com reta de regressão linear com:\n",
        "\n",
        "- Trabalho no eixo x\n",
        "- Prova 2 no eixo y\n"
      ]
    },
    {
      "cell_type": "code",
      "metadata": {
        "id": "VIFPB5HS4Crh"
      },
      "source": [
        "# importamos biblioteca pandas necessaria para trabalhar com as planilhas\n",
        "import pandas as pd\n",
        "# importamos biblioteca numpy necessaria para calcular a reta de regressão linear\n",
        "import numpy as np\n",
        "# importamos biblioteca matplotlib.pyplot necessaria para desenhar os gráficos\n",
        "import matplotlib.pyplot as plt\n",
        "%matplotlib inline\n",
        "\n",
        "#leitura da planilha\n",
        "df = pd.read_csv(\"https://drive.google.com/u/1/uc?id=1ASOWhw5tp-kUbZcIlkg5eCKwZNJt6MwQ&export=download\")\n",
        "\n",
        "# grafico de dispersao\n",
        "plt.plot(df[\"Trabalho\"],df[\"Prova 2\"],'.')\n",
        "\n",
        "# calculamos os valores de a e b para a reta ax+b de regressão linear com Trabalho no eixo x e Prova 2 no eixo y\n",
        "(a, b) = np.polyfit(x=df[\"Trabalho\"], y=df[\"Prova 2\"], deg = 1)\n",
        "\n",
        "# reta\n",
        "x = np.arange(0,101)\n",
        "y = a*x+b\n",
        "plt.plot(x,y,'r')"
      ],
      "execution_count": null,
      "outputs": []
    },
    {
      "cell_type": "markdown",
      "metadata": {
        "id": "Ped5fpM96H2h"
      },
      "source": [
        "## Exercício 3(b)\n",
        "Considere a planilha no link\n",
        "\n",
        "https://drive.google.com/u/1/uc?id=1ASOWhw5tp-kUbZcIlkg5eCKwZNJt6MwQ&export=download\n",
        "\n",
        "Faça o gráfico de dispersão com reta de regressão linear com:\n",
        "\n",
        "- Prova 1 no eixo x\n",
        "- Coluna a ser lida com comando input (Prova 2 ou Trabalho) no eixo y\n"
      ]
    },
    {
      "cell_type": "code",
      "metadata": {
        "id": "c5Uh8A4q6H2j"
      },
      "source": [
        "# importamos biblioteca pandas necessaria para trabalhar com as planilhas\n",
        "import pandas as pd\n",
        "# importamos biblioteca numpy necessaria para calcular a reta de regressão linear\n",
        "import numpy as np\n",
        "# importamos biblioteca matplotlib.pyplot necessaria para desenhar os gráficos\n",
        "import matplotlib.pyplot as plt\n",
        "%matplotlib inline\n",
        "\n",
        "#leitura da planilha\n",
        "df = pd.read_csv(\"https://drive.google.com/u/1/uc?id=1ASOWhw5tp-kUbZcIlkg5eCKwZNJt6MwQ&export=download\")\n",
        "\n",
        "#leitura da coluna\n",
        "coluna_lida = input(\"Entre com uma das colunas: Prova 2 ou Trabalho: \")\n",
        "\n",
        "# grafico de dispersao\n",
        "plt.plot(df[\"Prova 1\"],df[coluna_lida],'.')\n",
        "\n",
        "# calculamos os valores de a e b para a reta ax+b de regressão linear com Trabalho no eixo x e Prova 2 no eixo y\n",
        "(a, b) = np.polyfit(x=df[\"Prova 1\"], y=df[coluna_lida], deg = 1)\n",
        "\n",
        "# reta\n",
        "x = np.arange(0,101)\n",
        "y = a*x+b\n",
        "plt.plot(x,y,'r')"
      ],
      "execution_count": null,
      "outputs": []
    },
    {
      "cell_type": "markdown",
      "metadata": {
        "id": "gQD2Q4TO8471"
      },
      "source": [
        "## Exercício 4\n",
        "\n",
        "Considere a planilha no link\n",
        "\n",
        "https://drive.google.com/u/1/uc?id=1ASOWhw5tp-kUbZcIlkg5eCKwZNJt6MwQ&export=download\n",
        "\n",
        "Calcule o coeficiente de determinação entre Trabalho e Prova 1.\n",
        "\n",
        "Calcule o coeficiente de determinação entre Trabalho e Prova 2.\n",
        "\n",
        "Imprime o maior destes dois valores."
      ]
    },
    {
      "cell_type": "code",
      "metadata": {
        "id": "cFevuBcE9JJ9"
      },
      "source": [
        "import pandas as pd  # importamos biblioteca pandas necessaria para trabalhar com as planilhas\n",
        "df = pd.read_csv(\"https://drive.google.com/u/1/uc?id=1ASOWhw5tp-kUbZcIlkg5eCKwZNJt6MwQ&export=download\") #leitura da planilha\n",
        "corPr1Tr  = df['Prova 1'].corr(df['Trabalho']) # calculamos o coeficiente de correlacao entre Prova 1 e Trabalho\n",
        "detPr1Tr = corPr1Tr**2                         # calculamos o coeficiente de determinação entre Prova 1 e Trabalho\n",
        "corPr2Tr  = df['Prova 2'].corr(df['Trabalho']) # calculamos o coeficiente de correlacao entre Prova 2 e Trabalho\n",
        "detPr2Tr = corPr2Tr**2                         # calculamos o coeficiente de determinação entre Prova 2 e Trabalho\n",
        "# impressao de resultado\n",
        "if(detPr1Tr >= detPr2Tr):\n",
        "  print(\"%.2f\"%detPr1Tr)\n",
        "else:\n",
        "  print(\"%.2f\"%detPr2Tr)\n",
        ""
      ],
      "execution_count": null,
      "outputs": []
    },
    {
      "cell_type": "markdown",
      "metadata": {
        "id": "S84oAjQ_Cuyd"
      },
      "source": [
        "## Exercício 5\n",
        "\n",
        "Considere a planilha no link\n",
        "\n",
        "https://drive.google.com/u/1/uc?id=1ZNKsK1dGsDiGDU3841yA-MdK1H3QSdxc&export=download\n",
        "\n",
        "- Calcule o polinômio de grau 3 utilizando o método de regressão polinomial com Exame 1 no eixo x e Exame 2 no eixo y.\n",
        "\n",
        "- Faça o gráfico de dispersão e do polinômio juntos.\n",
        "\n",
        "> Baseado no gráfico, o polinômio descreve bem os dados?"
      ]
    },
    {
      "cell_type": "code",
      "metadata": {
        "id": "MnDMQdPGU8t1"
      },
      "source": [
        "# importamos biblioteca pandas necessaria para trabalhar com as planilhas\n",
        "import pandas as pd\n",
        "# importamos biblioteca numpy necessaria para calcular o polinomio\n",
        "import numpy as np\n",
        "# importamos biblioteca matplotlib.pyplot necessaria para desenhar os gráficos\n",
        "import matplotlib.pyplot as plt\n",
        "%matplotlib inline\n",
        "\n",
        "#leitura da planilha\n",
        "df = pd.read_csv(\"https://drive.google.com/u/1/uc?id=1ZNKsK1dGsDiGDU3841yA-MdK1H3QSdxc&export=download\")\n",
        "\n",
        "# grafico de dispersao\n",
        "plt.plot(df[\"Exame 1\"],df[\"Exame 2\"],'.')\n",
        "\n",
        "# calculamos os valores de a,b,c e d para o polinomio de regressão de grau 3 com Exame 1 no eixo x e Exame 2 no eixo y\n",
        "(a, b, c, d) = np.polyfit(x=df[\"Exame 1\"], y=df[\"Exame 2\"], deg = 3)\n",
        "\n",
        "# polinomio de grau 3\n",
        "x = np.arange(-10,250,0.1) # olhando a planilha no link de exercicio, podemos ver que os valores de Exame 1 variam de aproximadamente -10 até 250\n",
        "y = a*x**3+b*x**2+c*x+d\n",
        "plt.plot(x,y,'r')"
      ],
      "execution_count": null,
      "outputs": []
    },
    {
      "cell_type": "markdown",
      "metadata": {
        "id": "pU_zQ5BEGDHD"
      },
      "source": [
        "Olhando o gráfico, podemos concluir que o polinômio descreve muito bem os dados."
      ]
    },
    {
      "cell_type": "markdown",
      "metadata": {
        "id": "UlKp1BnFU8tz"
      },
      "source": [
        "## Exercício 6\n",
        "\n",
        "Considere a planilha no link\n",
        "\n",
        "https://drive.google.com/u/1/uc?id=1ZNKsK1dGsDiGDU3841yA-MdK1H3QSdxc&export=download\n",
        "\n",
        "- Leia a planilha\n",
        "\n",
        "- Leia qual coluna vai ser representada no eixo x (Exame 1 ou Exame 2) e qual coluna vai ser representada no eixo y (Exame 2 ou Exame 1)\n",
        "\n",
        "- Imprime os coeficientes a, b, c e d (com 2 casas decimais) do o polinômio de grau 3 utilizando o método de regressão polinomial\n",
        "\n",
        "- Leia um valor inteiro positivo n para x\n",
        "\n",
        "- Qual seria a predição baseada no polinômio obtido para a nota do Exame representado no eixo y se a nota do Exame representado no eixo x for n?\n",
        "\n",
        "Dica: Teste seu algoritmo com Exame 1 representado no eixo x, Exame 2 representado no Eixo y, e 250 para o valor de n. Compare a predição obtida com o gráfico do exercício anterior.\n",
        "\n"
      ]
    },
    {
      "cell_type": "code",
      "metadata": {
        "id": "NmHyQ-WCDlVw"
      },
      "source": [
        "# importamos biblioteca pandas necessaria para trabalhar com as planilhas\n",
        "import pandas as pd\n",
        "# importamos biblioteca numpy necessaria para calcular o polinomio\n",
        "import numpy as np\n",
        "\n",
        "#leitura da planilha\n",
        "df = pd.read_csv(\"https://drive.google.com/u/1/uc?id=1ZNKsK1dGsDiGDU3841yA-MdK1H3QSdxc&export=download\")\n",
        "#leitura de coluna a ser representada no eixo x\n",
        "eixox = input(\"Digite a coluna a ser representada no eixo x (Exame 1 ou Exame 2): \")\n",
        "eixoy = input(\"Digite a outra coluna (a ser representada no eixo y): \")\n",
        "n = int(input(\"Digite um valor inteiro: \"))\n",
        "# calculamos e imprimimos os valores de a,b,c e d para o polinomio de regressão de grau 3\n",
        "(a, b, c, d) = np.polyfit(x=df[eixox], y=df[eixoy], deg = 3)\n",
        "print(\"O valor de a: %.2f\"%a)\n",
        "print(\"O valor de b: %.2f\"%b)\n",
        "print(\"O valor de c: %.2f\"%c)\n",
        "print(\"O valor de d: %.2f\"%d)\n",
        "predicao = a*n**3+b*n**2+c*n+d\n",
        "print(\"A predicao baseada no polinomio obtido para a nota do\",eixoy,\"representado no eixo y, se a nota do\",eixox,\"representado no eixo x for\",n,\"eh %.3f\"%predicao)"
      ],
      "execution_count": null,
      "outputs": []
    }
  ]
}