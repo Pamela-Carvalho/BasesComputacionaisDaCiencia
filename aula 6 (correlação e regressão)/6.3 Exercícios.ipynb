{
 "cells": [
  {
   "cell_type": "markdown",
   "metadata": {},
   "source": [
    "# Iniciar bibliotecas e planilhas ..."
   ]
  },
  {
   "cell_type": "code",
   "execution_count": 1,
   "metadata": {},
   "outputs": [],
   "source": [
    "import pandas as pd\n",
    "import numpy as np\n",
    "import matplotlib.pyplot as plt\n",
    "%matplotlib inline\n",
    "\n",
    "provas_csv = \"6.3 ProvasTrabalho.csv\"\n",
    "\n",
    "f = open(provas_csv, \"w\", encoding='utf-8')\n",
    "f.write(\"\"\"Prova 1,Prova 2,Trabalho\n",
    "49,75,100\n",
    "57,74,78\n",
    "39,64,41\n",
    "32,58,60\n",
    "65,92,81\n",
    "50,67,62\n",
    "40,69,58\n",
    "58,80,71\n",
    "58,75,54\n",
    "47,70,86\n",
    "41,59,100\n",
    "54,80,100\n",
    "53,76,100\n",
    "48,75,67\n",
    "23,40,70\n",
    "37,43,38\n",
    "57,75,65\n",
    "35,58,70\n",
    "42,59,56\n",
    "47,58,53\n",
    "34,48,99\n",
    "68,84,100\n",
    "45,74,64\n",
    "68,87,100\n",
    "45,73,74\n",
    "41,53,58\n",
    "63,80,75\n",
    "49,63,100\n",
    "35,51,83\n",
    "64,85,79\n",
    "56,79,97\n",
    "28,56,81\n",
    "52,70,75\n",
    "55,76,61\n",
    "51,77,84\n",
    "62,80,80\n",
    "45,69,72\n",
    "54,75,43\n",
    "60,77,72\n",
    "38,52,83\n",
    "48,69,66\n",
    "63,81,100\n",
    "54,78,100\n",
    "56,71,68\n",
    "32,54,69\n",
    "49,65,44\n",
    "78,100,93\n",
    "65,84,66\n",
    "63,81,57\n",
    "60,80,77\n",
    "45,62,74\n",
    "43,63,94\n",
    "60,73,100\n",
    "47,69,87\n",
    "53,64,44\n",
    "58,81,78\n",
    "46,74,99\n",
    "32,45,38\n",
    "53,75,89\n",
    "56,75,74\n",
    "44,66,48\n",
    "72,97,89\n",
    "60,74,81\n",
    "36,65,63\n",
    "41,57,65\n",
    "42,70,82\n",
    "39,70,93\n",
    "59,69,85\n",
    "45,65,95\n",
    "51,72,89\n",
    "52,61,82\n",
    "44,54,51\n",
    "41,59,84\n",
    "42,60,60\n",
    "67,87,61\n",
    "57,77,82\n",
    "46,66,80\n",
    "32,58,54\n",
    "59,84,70\n",
    "49,66,70\n",
    "57,70,87\n",
    "35,57,59\n",
    "67,92,100\n",
    "33,51,58\n",
    "54,81,59\n",
    "41,61,66\n",
    "54,72,92\n",
    "71,96,100\n",
    "37,55,78\n",
    "53,71,88\n",
    "47,63,84\n",
    "50,71,66\n",
    "41,57,65\n",
    "46,62,39\n",
    "30,42,55\n",
    "54,76,58\n",
    "61,81,100\n",
    "32,50,57\n",
    "50,77,80\n",
    "28,46,26\n",
    "\"\"\")\n",
    "f.close()\n",
    "\n",
    "exames_csv = \"6.3 Exames.csv\"\n",
    "\n",
    "f = open(exames_csv, \"w\", encoding='utf-8')\n",
    "f.write(\"\"\"Exame 1,Exame 2\n",
    "98,-19603\n",
    "128,-27021\n",
    "154,-30227\n",
    "70,-10952\n",
    "51,-4947\n",
    "143,-29418\n",
    "131,-27758\n",
    "102,-20865\n",
    "151,-30230\n",
    "223,-4224\n",
    "63,-8823\n",
    "173,-28748\n",
    "173,-28934\n",
    "87,-16055\n",
    "122,-26143\n",
    "141,-29372\n",
    "41,-3264\n",
    "-7,-1341\n",
    "177,-28309\n",
    "80,-14071\n",
    "79,-13420\n",
    "194,-22378\n",
    "115,-24693\n",
    "86,-16264\n",
    "118,-25483\n",
    "119,-25870\n",
    "96,-18519\n",
    "64,-8796\n",
    "145,-29933\n",
    "131,-27982\n",
    "43,-3359\n",
    "224,-3512\n",
    "72,-11204\n",
    "63,-8877\n",
    "144,-29718\n",
    "128,-27354\n",
    "169,-29796\n",
    "101,-20493\n",
    "59,-7586\n",
    "72,-11964\n",
    "74,-12162\n",
    "167,-29518\n",
    "56,-6656\n",
    "17,118\n",
    "94,-17820\n",
    "71,-11106\n",
    "119,-25370\n",
    "2,213\n",
    "27,-696\n",
    "124,-26864\n",
    "133,-28105\n",
    "99,-20090\n",
    "39,-2380\n",
    "49,-4966\n",
    "87,-16297\n",
    "209,-14314\n",
    "127,-27446\n",
    "34,-1652\n",
    "121,-25331\n",
    "37,-2405\n",
    "133,-27912\n",
    "-6,-891\n",
    "187,-25574\n",
    "79,-13505\n",
    "35,-1256\n",
    "123,-26042\n",
    "81,-13966\n",
    "162,-30161\n",
    "132,-27895\n",
    "101,-20056\n",
    "39,-2344\n",
    "247,20808\n",
    "242,15122\n",
    "113,-23779\n",
    "74,-12210\n",
    "108,-22393\n",
    "165,-29320\n",
    "61,-8331\n",
    "108,-22080\n",
    "63,-8533\n",
    "173,-28990\n",
    "126,-26542\n",
    "12,659\n",
    "59,-7210\n",
    "65,-9164\n",
    "102,-20658\n",
    "1,302\n",
    "103,-21162\n",
    "61,-8370\n",
    "57,-7266\n",
    "70,-11247\n",
    "58,-6939\n",
    "76,-12767\n",
    "118,-25498\n",
    "56,-6719\n",
    "90,-17067\n",
    "13,206\n",
    "167,-29714\n",
    "129,-27631\n",
    "65,-9415\n",
    "\"\"\")\n",
    "f.close()\n",
    "\n"
   ]
  },
  {
   "cell_type": "markdown",
   "metadata": {
    "id": "yjPRbszcZ1bo"
   },
   "source": [
    "## Exercício\n",
    "Considere a planilha `provas_csv`.\n",
    "\n",
    "Leia a planilha e calcule o coeficiente de correlação entre\n",
    "- Prova 1 e Prova 2\n",
    "- Prova 1 e Trabalho\n",
    "- Prova 2 e Trabalho\n",
    "\n",
    "> Quais é o par mais fortemente correlacionado?"
   ]
  },
  {
   "cell_type": "code",
   "execution_count": 10,
   "metadata": {
    "id": "GdEhpL0NZ04D"
   },
   "outputs": [
    {
     "name": "stdout",
     "output_type": "stream",
     "text": [
      "Correlação entre prova 1 e prova 2: 0.9111954369625983\n",
      "Correlação entre prova 1 e trabalho: 0.39333492928005365\n",
      "Correlação entre prova 2 e trabalho: 0.4392817985759364\n",
      "O par mais fortemente correlacionado é prova 1 e prova 2\n"
     ]
    }
   ],
   "source": [
    "provas = pd.read_csv(provas_csv)\n",
    "\n",
    "#correlação entre prova 1 e prova 2\n",
    "print(\"Correlação entre prova 1 e prova 2:\", provas[\"Prova 1\"].corr(provas[\"Prova 2\"]))\n",
    "\n",
    "#correlação entre prova 1 e trabalho\n",
    "print(\"Correlação entre prova 1 e trabalho:\", provas[\"Prova 1\"].corr(provas[\"Trabalho\"]))\n",
    "\n",
    "#correlação entre prova 2 e trabalho\n",
    "print(\"Correlação entre prova 2 e trabalho:\", provas[\"Prova 2\"].corr(provas[\"Trabalho\"]))\n",
    "\n",
    "print(\"O par mais fortemente correlacionado é prova 1 e prova 2\")"
   ]
  },
  {
   "cell_type": "markdown",
   "metadata": {
    "id": "aSaQ-ET37FY-"
   },
   "source": [
    "## Exercício\n",
    "\n",
    "Considere a planilha `provas_csv`.\n",
    "\n",
    "- Quais são os valores de $a$ e $b$ para a reta $ax+b$ de regressão linear com a Prova 1 no eixo x e a Prova 2 no eixo y?\n",
    "\n",
    "- Qual seria a predição baseada nessa reta para a nota na Prova 2 se a nota na Prova 1 for 65?\n"
   ]
  },
  {
   "cell_type": "code",
   "execution_count": 20,
   "metadata": {
    "id": "Qum07eNr7FJD"
   },
   "outputs": [
    {
     "name": "stdout",
     "output_type": "stream",
     "text": [
      "Para prova 1 = 65, prova 2 = 84.9890909090909\n"
     ]
    }
   ],
   "source": [
    "x = provas[\"Prova 1\"]\n",
    "y = provas[\"Prova 2\"]\n",
    "\n",
    "(a, b) = np.polyfit(x, y, deg=1)\n",
    "\n",
    "#plt.plot(x, y, '.')\n",
    "print(\"Para prova 1 = 65, prova 2 =\", a*65+b)"
   ]
  },
  {
   "cell_type": "markdown",
   "metadata": {
    "id": "OEkCx8giktjd"
   },
   "source": [
    "## Exercício\n",
    "\n",
    "Considere a planilha `provas_csv`.\n",
    "\n",
    "Faça o gráfico de dispersão com reta de regressão linear com:\n",
    "\n",
    "- Trabalho no eixo x\n",
    "- Prova 2 no eixo y\n"
   ]
  },
  {
   "cell_type": "code",
   "execution_count": 23,
   "metadata": {
    "id": "cqrkUMnt5sw-"
   },
   "outputs": [
    {
     "data": {
      "text/plain": [
       "[<matplotlib.lines.Line2D at 0x1ffa5e50810>]"
      ]
     },
     "execution_count": 23,
     "metadata": {},
     "output_type": "execute_result"
    },
    {
     "data": {
      "image/png": "[encoded data removed]",
      "text/plain": [
       "<Figure size 640x480 with 1 Axes>"
      ]
     },
     "metadata": {},
     "output_type": "display_data"
    }
   ],
   "source": [
    "x = provas[\"Trabalho\"]\n",
    "y = provas[\"Prova 2\"]\n",
    "\n",
    "(a, b) = np.polyfit(x, y, deg=1)\n",
    "\n",
    "plt.plot(x, y, '.')\n",
    "x = np.arange(0, 101)\n",
    "y = a*x+b\n",
    "plt.plot(x, y, 'r')"
   ]
  },
  {
   "cell_type": "markdown",
   "metadata": {
    "id": "gQD2Q4TO8471"
   },
   "source": [
    "## Exercício\n",
    "\n",
    "Considere a planilha `provas_csv`.\n",
    "\n",
    "Calcule o coeficiente de determinação entre Trabalho e Prova 1."
   ]
  },
  {
   "cell_type": "code",
   "execution_count": 26,
   "metadata": {
    "id": "B1bKSu_w6Ocm"
   },
   "outputs": [
    {
     "data": {
      "text/plain": [
       "0.1547123665917448"
      ]
     },
     "execution_count": 26,
     "metadata": {},
     "output_type": "execute_result"
    }
   ],
   "source": [
    "cdet = (provas[\"Trabalho\"].corr(provas[\"Prova 1\"])) ** 2\n",
    "cdet"
   ]
  },
  {
   "cell_type": "markdown",
   "metadata": {
    "id": "S84oAjQ_Cuyd"
   },
   "source": [
    "## Exercício:\n",
    "\n",
    "Considere a planilha `exames_csv`.\n",
    "\n",
    "- Calcule o polinômio de grau 3 utilizando o método de regressão polinomial com Exame 1 no eixo x e Exame 2 no eixo y.\n",
    "\n",
    "- Faça o gráfico de dispersão e do polinômio juntos.\n",
    "\n",
    "> Baseado no gráfico, o polinômio descreve bem os dados?"
   ]
  },
  {
   "cell_type": "code",
   "execution_count": 37,
   "metadata": {
    "id": "xZY9_JBEc3jb"
   },
   "outputs": [
    {
     "data": {
      "text/plain": [
       "[<matplotlib.lines.Line2D at 0x1ffabd784d0>]"
      ]
     },
     "execution_count": 37,
     "metadata": {},
     "output_type": "execute_result"
    },
    {
     "data": {
      "image/png": "[encoded data removed]",
      "text/plain": [
       "<Figure size 640x480 with 1 Axes>"
      ]
     },
     "metadata": {},
     "output_type": "display_data"
    }
   ],
   "source": [
    "exames = pd.read_csv(exames_csv)\n",
    "\n",
    "x = exames[\"Exame 1\"]\n",
    "y = exames[\"Exame 2\"]\n",
    "\n",
    "(a, b, c, d) = np.polyfit(x, y, deg=3)\n",
    "\n",
    "plt.plot(x, y, '.')\n",
    "\n",
    "x = np.arange(exames[\"Exame 1\"].min(), exames[\"Exame 1\"].max(), 0.2)\n",
    "y = a*x**3 + b*x**2 + c*x + d\n",
    "plt.plot(x, y, 'r')"
   ]
  },
  {
   "cell_type": "markdown",
   "metadata": {
    "id": "3FWEZnfr6-1n"
   },
   "source": [
    "## Exercício\n",
    "\n",
    "Considere a planilha `exames_csv`.\n",
    "\n",
    "Calcule o polinômio de grau 3 utilizando o método de regressão polinomial com Exame 1 no eixo x e  Exame 2 no eixo y.\n",
    "\n",
    "Calcule o coeficiente de determinação."
   ]
  },
  {
   "cell_type": "code",
   "execution_count": 42,
   "metadata": {
    "id": "OLDg8R8N_mvs"
   },
   "outputs": [
    {
     "data": {
      "text/plain": [
       "0.9994787151931469"
      ]
     },
     "execution_count": 42,
     "metadata": {},
     "output_type": "execute_result"
    }
   ],
   "source": [
    "x = exames[\"Exame 1\"]\n",
    "y = exames[\"Exame 2\"]\n",
    "\n",
    "predicao = a*x**3 + b*x**2 + c*x + d\n",
    "\n",
    "dif = (y - predicao) ** 2\n",
    "\n",
    "media = y.mean()\n",
    "\n",
    "dif_media = (y - media) ** 2\n",
    "\n",
    "cdet = 1 - dif.sum() / dif_media.sum()\n",
    "cdet"
   ]
  }
 ],
 "metadata": {
  "colab": {
   "private_outputs": true,
   "provenance": []
  },
  "kernelspec": {
   "display_name": "Python 3 (ipykernel)",
   "language": "python",
   "name": "python3"
  },
  "language_info": {
   "codemirror_mode": {
    "name": "ipython",
    "version": 3
   },
   "file_extension": ".py",
   "mimetype": "text/x-python",
   "name": "python",
   "nbconvert_exporter": "python",
   "pygments_lexer": "ipython3",
   "version": "3.11.3"
  }
 },
 "nbformat": 4,
 "nbformat_minor": 1
}
