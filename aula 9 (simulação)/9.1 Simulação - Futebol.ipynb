{
  "cells": [
    {
      "cell_type": "markdown",
      "metadata": {
        "id": "sDSGhkX0Ddkz"
      },
      "source": [
        "# Modelagem e Simulação\n"
      ]
    },
    {
      "cell_type": "markdown",
      "metadata": {
        "id": "MBe-_8TqClwD"
      },
      "source": [
        "# Quem será o campeão?\n",
        "\n",
        "Uma das paixões no Brasil é o futebol. A cada campeonato, diversos especialistas analisam elencos, táticas, etc., para tentar prever quem será o campeão. Neste *notebook*, iremos construir um simulador simples para tentar prever qual time vai ser o campeão.\n",
        "\n",
        "A simulação usa o [ranqueamento global de clubles](https://projects.fivethirtyeight.com/global-club-soccer-rankings/), mantido pelo *site* de predições [fivethirdeight](https://fivethirtyeight.com/). Esse ranqueamento é atualizado frequentemente, e pode ser baixado nesse [link](https://data.fivethirtyeight.com/#soccer-spi).\n",
        "\n",
        "Nessa simulação, usaremos os arquivos CSV contidos neste [arquivo ZIP](https://projects.fivethirtyeight.com/data-webpage-data/datasets/soccer-spi.zip).\n",
        "\n",
        "Faça o download e descompacte os arquivos tipo CSV. Iremos utilizar o arquivo `spi_global_rankings.csv`. Não esqueça de copiá-lo para a pasta de trabalho (deste *notebook*).\n",
        "\n",
        "Vamos carregar essa base usando o pandas. Além dela, vamos carregar  outra bibliotecas que usaremos: numpy."
      ]
    },
    {
      "cell_type": "code",
      "execution_count": null,
      "metadata": {
        "id": "Ux90oENcU7Kn"
      },
      "outputs": [],
      "source": [
        "import pandas as pd\n",
        "import numpy as np"
      ]
    },
    {
      "cell_type": "code",
      "execution_count": null,
      "metadata": {
        "id": "ZHLEMpXIDuYB"
      },
      "outputs": [],
      "source": [
        "clubes = pd.read_csv(\"spi_global_rankings.csv\",index_col='name')"
      ]
    },
    {
      "cell_type": "markdown",
      "metadata": {
        "id": "YcqHObNsKo4b"
      },
      "source": [
        "Analisando uma amostra dos dados, como mostrado na próxima célula, podemos observar que, para cada clube, ela contém o rank atual (`rank`), o rank do ano anterior (`prev_rank`), o nome do clube (`name`), o seu potencial ofensivo (`off`) e defensivo (`def`), e o potencial de pontuação (`spi`).\n",
        "\n"
      ]
    },
    {
      "cell_type": "code",
      "execution_count": null,
      "metadata": {
        "colab": {
          "base_uri": "https://localhost:8080/",
          "height": 394
        },
        "id": "He58tb4xD5ox",
        "outputId": "fcbc90f0-5a90-4941-fd58-5f6951395564"
      },
      "outputs": [],
      "source": [
        "clubes.sample(10) # mostra 10 linhas aleatorias da tabela"
      ]
    },
    {
      "cell_type": "markdown",
      "metadata": {
        "id": "hKPNkDeOgBHR"
      },
      "source": [
        "## Selecionando um clube\n",
        "\n",
        "Podemos selecionar um clube específico usando o comando `.loc`, e colocando o nome do clube entre colchetes. Por exemplo, para selecionar o Barcelona, podemos fazer:"
      ]
    },
    {
      "cell_type": "code",
      "execution_count": null,
      "metadata": {
        "id": "9aUAx3K_gMU0"
      },
      "outputs": [],
      "source": [
        "clubes.loc['Barcelona']"
      ]
    },
    {
      "cell_type": "markdown",
      "metadata": {
        "id": "_EEViOPzNDGq"
      },
      "source": [
        "## Potencial ofensivo e defensivo\n",
        "\n",
        "\n",
        "A nossa simulação irá se basear no **potencial ofensivo** e **defensivo** de cada clube.\n",
        "\n",
        "Sobre potencial ofensivo `off` temos que:\n",
        "* é o número médio de gols que se espera que um clube marque enfrentado um clube com potencial defensivo igual a 1.\n",
        "* Por exemplo, o valor de off=1,5 para um \"clube A\" indica que se ele jogar 10 partidas contra um \"clube B\" com def=1, espera-se que o \"clube A\" marque 15 gols em um campo neutro (marcará 1,5 gol em média).\n",
        "\n",
        "Sobre potencial defensivo `def` temos que:\n",
        "* é o número de gols que se espera que um clube sofra, enfrentando um clube com potencial ofensivo = 1.\n",
        "* Por exemplo, o valor de def=1,5 de um \"clube B\" indica que se ele jogar 10 partidas contra um \"clube A\" com off=1, em um campo neutro, o \"clube B\" sofrerá 15 gols (sofrerá 1,5 gol em média).\n",
        "\n",
        "\n",
        "A simulação do site [fivethirdeight](https://projects.fivethirtyeight.com/soccer-predictions/brasileirao/) é bem mais complexa, e contempla diversos fatores adicionais:\n",
        "* se o time está jogando em seu estádio ou fora dele;\n",
        "* a dificuldade do campeonato;\n",
        "* a incerteza a respeito do potencial ofensivo e defensivo\n",
        "* a evolução desses potenciais ao longo do tempo.\n",
        "\n",
        "Além disso, ela é refeita com os resultados das partidas já disputadas, simulando o restante do campeonato. Mas a nossa simulação é uma boa aproximação."
      ]
    },
    {
      "cell_type": "markdown",
      "metadata": {
        "id": "JjiQOKVPSe5o"
      },
      "source": [
        "# Campeonato Brasileiro\n",
        "Vamos filtrar apenas os 20 clubes da Série A do Campeonato Brasileiro."
      ]
    },
    {
      "cell_type": "code",
      "execution_count": null,
      "metadata": {
        "colab": {
          "base_uri": "https://localhost:8080/",
          "height": 708
        },
        "id": "PXn30vs4E9cY",
        "outputId": "2ebc155d-44f4-4343-a4c3-646423f127da"
      },
      "outputs": [],
      "source": [
        "brasileiro = clubes.query(\"league == 'Brasileiro Série A'\")\n",
        "brasileiro"
      ]
    },
    {
      "cell_type": "markdown",
      "metadata": {
        "id": "fj4e9icBTN8A"
      },
      "source": [
        "# Simulando jogos\n",
        "\n",
        "Para a simulação de jogos, vamos usar o **potencial ofensivo e defensivo** dos clubes envolvidos em um jogo.\n",
        "\n",
        "**Para simular o número de gols de cada equipe, vamos usar a distribuição de Poisson** (https://pt.wikipedia.org/wiki/Distribui%C3%A7%C3%A3o_de_Poisson), uma distribuição de probabilidade discreta. Em linhas gerais, essa distribuição modela eventos aleatórios com uma taxa $\\lambda$ conhecida.\n",
        "\n",
        "No caso de nossa simulação, usaremos duas distribuições de Poisson, sendo que cada uma delas é usada para simular o número de gols de cada time. Por exemplo, se os times $A$ e $B$ estão jogando, a taxa do time $A$ ($\\lambda_A$)  será a multiplicação entre o potencial ofensivo do time $A$ e do potencial defensivo do time $B$, como mostrado na equação:\n",
        "\n",
        "$$ \\lambda_A = \\text{off}_A \\times \\text{def}_B .$$\n",
        "\n",
        "Já a taxa do time $B$ ($\\lambda_B$)  será a razão entre o potencial ofensivo do time $B$ e do potencial defensivo do time $A$, como mostrado na equação:\n",
        "\n",
        "$$ \\lambda_B = \\text{off}_B \\times  \\text{def}_A .$$\n",
        "\n",
        "\n"
      ]
    },
    {
      "cell_type": "markdown",
      "metadata": {
        "id": "PysvaPi9Mm1d"
      },
      "source": [
        "Dessa maneira, se um time $A$ com um potencial ofensivo de 2 enfrentar um time B com potencial defensivo 1,5, o valor de $\\lambda_A = 3$, ou seja, espera-se que o time $A$ marque 3 gols em média por jogo contra o time $B$. Já se o time $B$ tem um potencial ofensivo de 2, mas o time $A$ tem um pontencial defensivo de 0,5, o valor de $\\lambda_B = 1$, ou seja, espera-se que o time $B$ marque apenas um gol em média por jogo contra o time $A$.\n"
      ]
    },
    {
      "cell_type": "markdown",
      "metadata": {
        "id": "Gjg_PRVYHmE-"
      },
      "source": [
        "**Em Python, podemos usar a função `random.poisson` da biblioteca `numpy` para simular o número de gols de cada time**."
      ]
    },
    {
      "cell_type": "markdown",
      "metadata": {
        "id": "C0UCfzTRhQdh"
      },
      "source": [
        "## Simulando uma  partida\n",
        "\n",
        "Vamos receber dois times de nossa tabela e simular uma partida entre eles.\n",
        "\n",
        "Ou seja, iremos calcular o valor de $\\lambda_A$ e $\\lambda_B$ a partir do potencial ofensivo e defensivo de cada time, e calcular o número de gols de cada time."
      ]
    },
    {
      "cell_type": "markdown",
      "metadata": {
        "id": "NpwzQsJFSGWp"
      },
      "source": [
        "Como visto anteriormente, podemos selecionar um clube da tabela usando o comando `.loc`, por exemplo:"
      ]
    },
    {
      "cell_type": "code",
      "execution_count": null,
      "metadata": {
        "id": "EWSYT2dwRaVW"
      },
      "outputs": [],
      "source": [
        "brasileiro.loc['Santos']"
      ]
    },
    {
      "cell_type": "markdown",
      "metadata": {
        "id": "mPyRBh7ckpRb"
      },
      "source": [
        "Execute o código abaixo com dois times de sua escolha. Observe que os valores de simulação podem variar se executarmos mais de uma vez, pois usamos a probabilidade na nossa simulação."
      ]
    },
    {
      "cell_type": "code",
      "execution_count": null,
      "metadata": {
        "id": "1ijgs1yvPhMm"
      },
      "outputs": [],
      "source": [
        "timeA = input(\"Digite o nome de time A \")\n",
        "timeB = input(\"Digite o nome de time B \")\n",
        "\n",
        "lambdaA = brasileiro.loc[timeA,'off'] * brasileiro.loc[timeB,'def']\n",
        "lambdaB = brasileiro.loc[timeB,'off'] * brasileiro.loc[timeA,'def']\n",
        "\n",
        "golstimeA = np.random.poisson(lambdaA)\n",
        "golstimeB = np.random.poisson(lambdaB)\n",
        "\n",
        "print(\"Time A fez\", golstimeA, \"gols\")\n",
        "print(\"Time B fez\", golstimeB, \"gols\")"
      ]
    },
    {
      "cell_type": "markdown",
      "metadata": {
        "id": "fW-M8Q0rrJwd"
      },
      "source": [
        "\n",
        "## Simulando campeonatos\n",
        "\n",
        "**Vamos simular agora um campeonato em que todos os times jogam contra todos os outros times duas vezes (campeonato de pontos corridos).** Como você deve saber, o vencedor da partida ganha 3 pontos. Em caso de empate, cada time ganha um ponto.\n",
        "\n",
        "Inicialmente vamos criar uma banco de dados para armazenar a tabela do campeonato. Nessa tabela, vamos armazenar:\n",
        "\n",
        "- total de **pontos** que o time conquistou no campeonato\n",
        "- número de **vitórias** que o time obteve no campeonato\n",
        "- numero de **empates** que o time obteve no campeonato\n",
        "- número de **derrotas** que o time obteve no campeonato\n",
        "- número de **gols marcados** por cada time no campeonato\n",
        "- número de **gols sofridos** por cada time no campeonato\n",
        "- diferença entre gols marcados e gols sofridos (**saldo de gols**)"
      ]
    },
    {
      "cell_type": "code",
      "execution_count": null,
      "metadata": {
        "id": "L0RE9rmqH8zV"
      },
      "outputs": [],
      "source": [
        "# cria a tabela\n",
        "tabela = pd.DataFrame(index=brasileiro.index,columns=[\"pontos\", \"vitórias\", \"empates\", \"derrotas\", \"gols marcados\", \"gols sofridos\", \"saldo de gols\"])\n",
        "\n",
        "# inicializa os valores com zero\n",
        "tabela.fillna(0,inplace=True)\n",
        "\n",
        "# mostra a tabela\n",
        "tabela"
      ]
    },
    {
      "cell_type": "markdown",
      "metadata": {
        "id": "qqy2MQxFvTWV"
      },
      "source": [
        "**Como simular um campeonato em que todos os times jogam contra todos os outros times duas vezes (campeonato de pontos corridos)?**\n",
        "Uma maneira de fazer com que todos os times joguem contra todos os outros times duas vezes é usar um ***laço duplo***. Nesse laço duplo temos laço exeterno e laço interno. Para cada valor fixo de laço externo é percorrido o laço interno. No código abaixo vamos apenas imprimir quem joga contra quem e na qual ordem, para entender melhor como funciona o laço duplo."
      ]
    },
    {
      "cell_type": "code",
      "execution_count": null,
      "metadata": {
        "id": "BC-OTOxNm6Y5"
      },
      "outputs": [],
      "source": [
        "contador_jogos=0\n",
        "for timeA in brasileiro.index:   # primeiro laço - laco EXTERNO\n",
        "  for timeB in brasileiro.index:     # segundo laço - laco INTERNO\n",
        "  # laco externo: fixamos primeiro time\n",
        "     # com primeiro time fixo, percorremos laco interno (todos os times)\n",
        "  # laco externo: fixamos segundo time\n",
        "     # com segundo time fixo, percorremos laco interno (todos os times)\n",
        "  # etc\n",
        "     if timeA != timeB:                  # se os times sao diferentes (o time não joga contra ele mesmo)\n",
        "         contador_jogos = contador_jogos+1             # aumentamos contador de jogos por 1\n",
        "         print(contador_jogos, timeA, \"-\", timeB)      # imprimimos o numero de jogo e os times que jogam"
      ]
    },
    {
      "cell_type": "markdown",
      "metadata": {
        "id": "jwobfCEuqDcZ"
      },
      "source": [
        "Note que de fato, cada time, joga contra todos os outros times duas vezes."
      ]
    },
    {
      "cell_type": "markdown",
      "metadata": {
        "id": "m44dz0u9mHmv"
      },
      "source": [
        "**Agora vamos simular os jogos. Vamos usar um laço duplo, e dentro de laço interno simulamos um jogo e atualizamos a tabela**:"
      ]
    },
    {
      "cell_type": "markdown",
      "metadata": {
        "id": "QmAGOZuR0qBR"
      },
      "source": [
        "Mostraremos o resultado da simulação, ordenando pelo número de pontos, número de vitórias, saldo de gols e número de gols marcados.\n",
        "\n",
        "Observe que a simulação pode variar se executarmos mais de uma vez, pois usamos a probabilidade na nossa simulação."
      ]
    },
    {
      "cell_type": "code",
      "execution_count": null,
      "metadata": {
        "id": "ywRcA0SI-UWz"
      },
      "outputs": [],
      "source": [
        "# cria a tabela\n",
        "tabela = pd.DataFrame(index=brasileiro.index,columns=[\"pontos\", \"vitórias\", \"empates\", \"derrotas\", \"gols marcados\", \"gols sofridos\", \"saldo de gols\"])\n",
        "\n",
        "# inicializa os valores da tabela com zero\n",
        "tabela.fillna(0,inplace=True)\n",
        "\n",
        "# laco duplo:\n",
        "for timeA in brasileiro.index:   # primeiro laço - laco EXTERNO\n",
        "  for timeB in brasileiro.index: # segundo laço - laco INTERNO\n",
        "\n",
        "    if timeA != timeB: # o time não joga contra ele mesmo\n",
        "      # simula uma partida e numero de gols nesta partida, entre os times TimeA e TimeB (código ja visto acima)\n",
        "      lambdaA = brasileiro.loc[timeA,'off'] * brasileiro.loc[timeB,'def']\n",
        "      lambdaB = brasileiro.loc[timeB,'off'] * brasileiro.loc[timeA,'def']\n",
        "\n",
        "      golstimeA = np.random.poisson(lambdaA)\n",
        "      golstimeB = np.random.poisson(lambdaB)\n",
        "\n",
        "      # atualiza o número de gols marcados, sofridos e saldo\n",
        "      # abaixo, utilizamos simbolo += para deixar codigo mais legivel. Por exemplo, x += y e equivalente a x = x+y\n",
        "      # outro exemplo: tabela.loc[timeA,'pontos'] += 3   é equivalente a tabela.loc[timeA,'pontos'] = tabela.loc[timeA,'pontos'] + 3\n",
        "      tabela.loc[timeA,'gols marcados'] += golstimeA\n",
        "      tabela.loc[timeB,'gols marcados'] += golstimeB\n",
        "\n",
        "      tabela.loc[timeA,'gols sofridos'] += golstimeB\n",
        "      tabela.loc[timeB,'gols sofridos'] += golstimeA\n",
        "\n",
        "      tabela.loc[timeA,'saldo de gols'] += golstimeA - golstimeB\n",
        "      tabela.loc[timeB,'saldo de gols'] += golstimeB - golstimeA\n",
        "\n",
        "      # finalmente, atualizamos os pontos e número de vitórias, empates e derrotas\n",
        "      if golstimeA > golstimeB:   # time A ganhou\n",
        "        tabela.loc[timeA,'pontos'] += 3\n",
        "        tabela.loc[timeA,'vitórias'] += 1\n",
        "        tabela.loc[timeB,'derrotas'] += 1\n",
        "      elif golstimeA < golstimeB: # time B ganhou\n",
        "        tabela.loc[timeB,'pontos'] += 3\n",
        "        tabela.loc[timeB,'vitórias'] += 1\n",
        "        tabela.loc[timeA,'derrotas'] += 1\n",
        "      else:                       # os times empataram\n",
        "        tabela.loc[timeA,'pontos'] += 1\n",
        "        tabela.loc[timeB,'pontos'] += 1\n",
        "        tabela.loc[timeA,'empates'] += 1\n",
        "        tabela.loc[timeB,'empates'] += 1\n",
        "\n",
        "# o resultado da simulação, ordenando pelo número de pontos, número de vitórias, saldo de gols e número de gols marcados\n",
        "tabela.sort_values(['pontos','vitórias','saldo de gols','gols marcados'],ascending=False, inplace=True)\n",
        "# imprimimos a tabela\n",
        "tabela"
      ]
    },
    {
      "cell_type": "markdown",
      "metadata": {
        "id": "cfMz5KYIKo8S"
      },
      "source": [
        "## Probabilidade de ser campeão\n",
        "\n",
        "Agora vamos simular various campeonatos (por exemplo, 10) e a partir dessa simulação ver qual time deve ser o campeão (com a maior probabilidade), de acordo com o nosso modelo."
      ]
    },
    {
      "cell_type": "code",
      "execution_count": null,
      "metadata": {
        "colab": {
          "base_uri": "https://localhost:8080/"
        },
        "id": "xRBqVen_YO7M",
        "outputId": "539977de-0768-4b77-b372-7c79664b6da0"
      },
      "outputs": [],
      "source": [
        "# cria a tabela\n",
        "tabela = pd.DataFrame(index=brasileiro.index,columns=[\"pontos\", \"vitórias\", \"empates\", \"derrotas\", \"gols marcados\", \"gols sofridos\", \"saldo de gols\"])\n",
        "\n",
        "# inicializa os valores com zero\n",
        "tabela.fillna(0,inplace=True)\n",
        "\n",
        "for i in range(10): # repetimos simulacao de campeonato 10 vezes, e cada vez atualizamos a tabela:\n",
        "  for timeA in brasileiro.index:   # primeiro laço\n",
        "    for timeB in brasileiro.index: # segundo laço\n",
        "\n",
        "      if timeA != timeB: # o time não joga contra ele mesmo\n",
        "\n",
        "        # simula uma partida e número de gols nesta partida entre os times TimeA e TimeB (código já visto acima)\n",
        "        lambdaA = brasileiro.loc[timeA,'off'] * brasileiro.loc[timeB,'def']\n",
        "        lambdaB = brasileiro.loc[timeB,'off'] * brasileiro.loc[timeA,'def']\n",
        "\n",
        "        golstimeA = np.random.poisson(lambdaA)\n",
        "        golstimeB = np.random.poisson(lambdaB)\n",
        "\n",
        "        # atualiza o número de gols marcados, sofridos e saldo\n",
        "        # abaixo, utilizamos simbolo += para deixar codigo mais legivel. Por exemplo, x += y e equivalemte a x = x+y\n",
        "        # outro exemplo: tabela.loc[timeA,'pontos'] += 3   é equivalente a tabela.loc[timeA,'pontos'] = tabela.loc[timeA,'pontos'] + 3\n",
        "        tabela.loc[timeA,'gols marcados'] += golstimeA\n",
        "        tabela.loc[timeB,'gols marcados'] += golstimeB\n",
        "\n",
        "        tabela.loc[timeA,'gols sofridos'] += golstimeB\n",
        "        tabela.loc[timeB,'gols sofridos'] += golstimeA\n",
        "\n",
        "        tabela.loc[timeA,'saldo de gols'] += golstimeA - golstimeB\n",
        "        tabela.loc[timeB,'saldo de gols'] += golstimeB - golstimeA\n",
        "\n",
        "        # finalmente, atualizamos os pontos e número de vitórias, empates e derrotas\n",
        "        if golstimeA > golstimeB:   # time A ganhou\n",
        "          tabela.loc[timeA,'pontos'] += 3\n",
        "          tabela.loc[timeA,'vitórias'] += 1\n",
        "          tabela.loc[timeB,'derrotas'] += 1\n",
        "        elif golstimeA < golstimeB: # time B ganhou\n",
        "          tabela.loc[timeB,'pontos'] += 3\n",
        "          tabela.loc[timeB,'vitórias'] += 1\n",
        "          tabela.loc[timeA,'derrotas'] += 1\n",
        "        else:                       # os times empataram\n",
        "          tabela.loc[timeA,'pontos'] += 1\n",
        "          tabela.loc[timeB,'pontos'] += 1\n",
        "          tabela.loc[timeA,'empates'] += 1\n",
        "          tabela.loc[timeB,'empates'] += 1\n",
        "\n",
        "tabela.sort_values(['pontos','vitórias','saldo de gols','gols marcados'],ascending=False, inplace=True)\n",
        "print(tabela)   # imprimimos tabela final ordenada"
      ]
    },
    {
      "cell_type": "markdown",
      "metadata": {
        "id": "3pNsH776emoV"
      },
      "source": [
        "Execute algumas vezes o código acima."
      ]
    },
    {
      "cell_type": "markdown",
      "metadata": {
        "id": "hJm2qvCdbFgI"
      },
      "source": [
        "Qual time deve ter o maior número de pontos, de acordo com o nosso modelo?"
      ]
    }
  ],
  "metadata": {
    "colab": {
      "provenance": []
    },
    "kernelspec": {
      "display_name": "Python 3",
      "name": "python3"
    },
    "language_info": {
      "codemirror_mode": {
        "name": "ipython",
        "version": 3
      },
      "file_extension": ".py",
      "mimetype": "text/x-python",
      "name": "python",
      "nbconvert_exporter": "python",
      "pygments_lexer": "ipython3",
      "version": "3.11.4"
    }
  },
  "nbformat": 4,
  "nbformat_minor": 0
}
