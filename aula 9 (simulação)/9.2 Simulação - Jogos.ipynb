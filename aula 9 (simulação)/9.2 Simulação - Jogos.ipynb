{
  "cells": [
    {
      "cell_type": "markdown",
      "metadata": {
        "id": "YZgokTBDMfXs"
      },
      "source": [
        "# Modelagem e Simulação\n",
        "\n",
        "Recursos computacionais são usados em diversas áreas da Ciência para a realização de simulações de sistemas, objetos, fenômenos.\n",
        "\n",
        "Para a realização de uma simulação, precisamos de um modelo para o objeto de interesse.\n",
        "\n",
        "**Exemplo:**  Descrição de um sistema de apostas (jogo de azar)\n",
        "\n",
        "\n",
        "\n"
      ]
    },
    {
      "cell_type": "markdown",
      "metadata": {
        "id": "kKjy-O-EmVlf"
      },
      "source": [
        "# Jogo de azar - duas possibilidades\n",
        "\n",
        "Considere um **jogo de azar** com o seguinte formato:\n",
        "- O jogador escolhe o valor da aposta e escolhe um número (1 ou 2).\n",
        "- Em seguida, é sorteado um número (1 ou 2).\n",
        "- Se o jogador acertar ele tem como lucro o valor de sua aposta.\n",
        "- Caso contrário, ele perde o valor apostado.\n",
        "\n",
        "Considere um jogador que utiliza a seguinte estratégia:\n",
        "- Ele sempre aposta no número 1.\n",
        "- O valor da aposta é sempre 20 reais.\n",
        "- Ele tem 100 reais disponíveis inicialmente.\n",
        "- Ele irá parar quando obtiver 100 reais de lucro (ou seja, ficar com o valor acumulado de 200 reais) ou quando o dinheiro dele acabar.\n",
        "\n",
        "> Será que é uma boa estratégia?"
      ]
    },
    {
      "cell_type": "markdown",
      "metadata": {
        "id": "IYoJOK9HmICa"
      },
      "source": [
        "## Modelo\n",
        "\n",
        "Um **modelo** é uma representação (parcial) do objeto de interesse.\n",
        "\n",
        "No nosso exemplo, um possível modelo seria considerar que, em cada rodada,\n",
        "* Com probabilidade $p$, o número 1 é escolhido. Caso contrário, o número 2 é escolhido.\n",
        "* Cada rodada é feita independentemente das demais.\n",
        "\n",
        "Note que, ao escolher este modelo, estamos considerando que o jogo é honesto (não há interferência para fazer o jogador perder). Além disso, assumir que cada rodada é independente é uma suposição importante (pois isso depende de como o sorteio é realizado).\n",
        "\n",
        "> O nosso modelo é bom?"
      ]
    },
    {
      "cell_type": "markdown",
      "metadata": {
        "id": "BRyj_mqJUPAS"
      },
      "source": [
        "## Simulação Computacional\n",
        "\n",
        "\n",
        " Procuramos usar simulações computacionais para descobrir características do objeto investigado.\n",
        "\n",
        "Vamos ver como simular o modelo do nosso exemplo.\n",
        "\n"
      ]
    },
    {
      "cell_type": "markdown",
      "metadata": {
        "id": "HScU8QmJxeUj"
      },
      "source": [
        "**Em cada rodada, é realizado um sorteio. Então importamos a biblioteca ``random`` que contém várias funções para realizar diversos tipos de sorteios (random significa aleatório)**."
      ]
    },
    {
      "cell_type": "code",
      "execution_count": null,
      "metadata": {
        "id": "MddHAIqGlrL0"
      },
      "outputs": [],
      "source": [
        "import random as rd  # importamos a biblioteca random que contém várias funções para realizar diversos tipos de sorteios"
      ]
    },
    {
      "cell_type": "markdown",
      "metadata": {
        "id": "ozJovcPrxsIx"
      },
      "source": [
        "Vamos inicializar o saldo do jogador como $100$ e o valor da aposta como $20$:"
      ]
    },
    {
      "cell_type": "code",
      "execution_count": null,
      "metadata": {
        "id": "EEiqHHuLnnmx"
      },
      "outputs": [],
      "source": [
        "saldo = 100\n",
        "aposta = 20"
      ]
    },
    {
      "cell_type": "markdown",
      "metadata": {
        "id": "aNtekhh3x0Le"
      },
      "source": [
        "Para realizar um sorteio entre os números 1 e 2, podemos utilizar a **função ``randint(a,b)``**.\n",
        "\n",
        "**Essa função escolhe um número entre $a$ e $b$ (com $a$ e $b$ inclusos)**. **Cada número tem a mesma chance de ser sorteado.**\n",
        "\n",
        "Então se realizamos um sorteio entre  dois números, 1 e 2, estamos considerando probabilidade $p=1/2$. Ou seja,\n",
        "o número 1 é escolhido com probabilidade 1/2 (ou seja, 50%) e 2 é escolhido com probabilidade 1/2 (ou seja, 50%).\n",
        "\n",
        "**Execute a célula abaixo várias vezes para ver que ela vai sorteando ou número  1 ou número 2:**"
      ]
    },
    {
      "cell_type": "code",
      "execution_count": null,
      "metadata": {
        "id": "gD5ceJeRyA3G"
      },
      "outputs": [],
      "source": [
        "sorteio = rd.randint(1,2)   #sorteio entre números 1 e 2. Número 1 é escolhido com probabilidade 1/2 (ou seja, 50%). Número 2 também com 50%\n",
        "print(sorteio)"
      ]
    },
    {
      "cell_type": "markdown",
      "metadata": {
        "id": "eRLMeaR-yDQT"
      },
      "source": [
        "Após o sorteio, atualizamos o ``saldo``:"
      ]
    },
    {
      "cell_type": "code",
      "execution_count": null,
      "metadata": {
        "id": "tYx3Cxt_l3MY"
      },
      "outputs": [],
      "source": [
        "if sorteio == 1:                     # o jogador sempre aposta no numero 1. Logo, se o numero 1 for sorteado, ele ganha o valor de aposta\n",
        "  saldo = saldo+aposta\n",
        "  print(\"Ganhou\",aposta,\"reais\")\n",
        "else:                                # Caso contrario, ele perde o valor apostado\n",
        "  saldo = saldo-aposta\n",
        "  print(\"Perdeu\",aposta,\"reais\")\n",
        "print(\"O jogador tem\",saldo,\"reais\") # note que print esta fora de if/else"
      ]
    },
    {
      "cell_type": "markdown",
      "metadata": {
        "id": "109q1s5xyb7S"
      },
      "source": [
        "**Para adicionar o fato de que o jogador joga até atingir 200 reais ou perder todo o seu dinheiro, utilizamos laço `while`**.\n",
        "\n",
        "A condição do `while` será\n",
        "\n",
        "```\n",
        " saldo > 0 and saldo < 200\n",
        "```\n",
        "pois o `while` acaba se o saldo ficar menor ou igual à $0$ (jogador perdeu todo dinheiro) ou maior ou igual à $200$ (jogador atingiu 200 reais).\n",
        "\n",
        "**Logo, o jogo de azar completo fica como segue. Execute o código abaixo várias vezes para ver que a saída vai ser diferente, pois a saída depende de sorteio feito na linha 4:**"
      ]
    },
    {
      "cell_type": "code",
      "execution_count": null,
      "metadata": {
        "id": "f2ZaEqXYmuao"
      },
      "outputs": [],
      "source": [
        "saldo = 100                          # inicializamos saldo\n",
        "aposta = 20                          # inicializamos aposta\n",
        "\n",
        "while saldo > 0 and saldo < 200:     # while acaba se o saldo ficar menor ou igual à 0 (jogador perdeu tudo)ou maior ou igual à 200 (jogador atingiu 200 reais).\n",
        "  sorteio = rd.randint(1,2)             # sorteio entre 1 e 2 (dentro de while)\n",
        "  if sorteio == 1:                      # o jogador sempre aposta no numero 1. Logo, se o numero 1 for sorteado, ele ganha o valor de aposta\n",
        "    saldo = saldo+aposta\n",
        "    print(\"Ganhou\",aposta,\"reais\")\n",
        "  else:                                 # Caso contrario, ele perde o valor apostado\n",
        "    saldo = saldo-aposta\n",
        "    print(\"Perdeu\",aposta,\"reais\")\n",
        "print(\"O jogador tem\",saldo,\"reais\") # imprimimos saldo, apos sair de laco while"
      ]
    },
    {
      "cell_type": "markdown",
      "metadata": {
        "id": "VVOsTZUjpQUG"
      },
      "source": [
        "## Gráfico"
      ]
    },
    {
      "cell_type": "markdown",
      "metadata": {
        "id": "O-qm6ltlzS0-"
      },
      "source": [
        "É muito útil podermos visualizar o que está acontecendo usando um gráfico.\n",
        "\n",
        "**Vamos criar uma variável ``rodada`` para contar o número de rodadas e vamos colocar um '.', onde a coordenada x tem o número da rodada e a coordenada y tem o saldo após a execução da rodada.**\n",
        "\n",
        "Para a rodada $x=0$, o valor de y é o saldo inicial (no nosso caso, 100).\n",
        "\n",
        "**Execute várias vezes e veja como é fácil de ver a trajetória do jogador.**"
      ]
    },
    {
      "cell_type": "code",
      "execution_count": null,
      "metadata": {
        "id": "Wbn3wK4AolRp"
      },
      "outputs": [],
      "source": [
        "import matplotlib.pyplot as plt\n",
        "%matplotlib inline\n",
        "\n",
        "saldo = 100\n",
        "aposta = 20\n",
        "rodada  = 0 # inicializamos rodada com zero antes de laco while\n",
        "plt.plot(rodada, saldo,'.b')\n",
        "\n",
        "while saldo>0 and saldo<200:\n",
        "  sorteio = rd.randint(1,2)\n",
        "  if sorteio == 1:\n",
        "    saldo = saldo+aposta\n",
        "  else:\n",
        "    saldo = saldo-aposta\n",
        "  rodada = rodada+1            # atualizamos rodada\n",
        "  plt.plot(rodada, saldo,'.b') # imprimimos o ponto - ultimo comando dentro do laco  while"
      ]
    },
    {
      "cell_type": "markdown",
      "metadata": {
        "id": "Nc_vzUhSz9nn"
      },
      "source": [
        "> Mas como saber se a estratégia é boa ou ruim?\n",
        "\n",
        "Você deve ter reparado que às vezes o jogador prospera e acumula os 200 reais desejados. Em outras vezes, ele simplesmente vai à falência.\n",
        "\n"
      ]
    },
    {
      "cell_type": "markdown",
      "metadata": {
        "id": "7nb95jbCnK_m"
      },
      "source": [
        "## Simulando n jogadas\n",
        "\n",
        "**Podemos simular a trajetória do jogador várias vezes e contar quando ele prosperou e quando ele faliu.**\n",
        "\n",
        "**Basta verificar se while acabou pois o saldo ficou menor ou igual à zero, ou se chegou a $200$**.\n",
        "\n",
        "**Usamos uma variável ``faliu`` para contar o número de vezes que o jogador faliu e uma variável ``prosperou`` para contar o número de vezes que ele prosperou**.\n",
        "\n",
        "**Vamos simular 1000 vezes o jogo completo:**"
      ]
    },
    {
      "cell_type": "code",
      "execution_count": null,
      "metadata": {
        "id": "Klh8VgvZoGJ_"
      },
      "outputs": [],
      "source": [
        "faliu = 0                            # inicializamos faliu com 0 no inicio de programa\n",
        "prosperou = 0                        # e o prosperou tambem\n",
        "\n",
        "for i in range(1000):              # iremos simular 1000 vezes o jogo completo (em cada passagem de for iremos simular um jogo completo)\n",
        "  saldo = 100                              # no inicio de cada jogo inicializamos saldo com 100\n",
        "  aposta = 20                              # e aposta com 20\n",
        "  while saldo > 0 and saldo < 200:\n",
        "    sorteio = rd.randint(1,2)\n",
        "    if sorteio == 1:\n",
        "      saldo = saldo+aposta\n",
        "    else:\n",
        "      saldo = saldo-aposta\n",
        "  if saldo<=0:                             # se saimos de laco while e o saldo ficou <= 0, entao aumentamos o contador faliu por 1\n",
        "    faliu = faliu+1\n",
        "  else:                                    # se saimos de laco while e o saldo ficou >= 200, entao aumentamos o contador prosperou por 1\n",
        "    prosperou = prosperou+1\n",
        "\n",
        "print(\"O jogador faliu\",faliu,\"vezes\") # imprimimos resultados fora de laco for, ou seja, apos terminar 1000 simulacoes de jogo\n",
        "print(\"O jogador prosperou\",prosperou,\"vezes\")"
      ]
    },
    {
      "cell_type": "markdown",
      "metadata": {
        "id": "qCn1sEBS0zvh"
      },
      "source": [
        "Rode o código acima várias vezes.\n",
        "\n",
        "> Qual conclusão você consegue tirar sobre a estratégia?"
      ]
    },
    {
      "cell_type": "markdown",
      "metadata": {
        "id": "8JCUXWyG1FNr"
      },
      "source": [
        "**Como você pode ver, os resultados são bem balanceados.**\n",
        "\n",
        "Na verdade, é possível provar matematicamente que, neste caso, a probabilidade do jogador falir é 1/2 e a de prosperar é 1/2.\n",
        "\n"
      ]
    },
    {
      "cell_type": "markdown",
      "metadata": {
        "id": "psSU0pPioJN8"
      },
      "source": [
        "## Jogo de azar - três possibilidades\n",
        "Mas e se, ao invés do jogo sortear entre 1 e 2, o sorteio for entre 1, 2 e 3 (com a mesma chance para cada número)?\n",
        "\n",
        "Basta acrescentarmos o número 3 na nossa lista:"
      ]
    },
    {
      "cell_type": "code",
      "execution_count": null,
      "metadata": {
        "id": "DweBgFhz2eJj"
      },
      "outputs": [],
      "source": [
        "faliu = 0\n",
        "prosperou = 0\n",
        "\n",
        "for i in range(1000):\n",
        "  saldo = 100\n",
        "  aposta = 20\n",
        "  while saldo > 0 and saldo < 200:\n",
        "    sorteio = rd.randint(1,3)  # sorteio entre 1, 2 e 3, com a mesma probabilidade de cada um\n",
        "    if sorteio == 1:\n",
        "      saldo = saldo+aposta\n",
        "    else:\n",
        "      saldo = saldo-aposta\n",
        "  if saldo<=0:\n",
        "    faliu = faliu+1\n",
        "  else:\n",
        "    prosperou = prosperou+1\n",
        "\n",
        "print(\"O jogador faliu\",faliu,\"vezes\")\n",
        "print(\"O jogador prosperou\",prosperou,\"vezes\")"
      ]
    },
    {
      "cell_type": "markdown",
      "metadata": {
        "id": "1ZlwdN8coUfW"
      },
      "source": [
        "Note que isso altera drasticamente as chances de falir e prosperar. Isso porque o jogador tem uma chance muito menor de ganhar cada sorteio agora."
      ]
    },
    {
      "cell_type": "markdown",
      "metadata": {
        "id": "_GNOXGfLvmzM"
      },
      "source": [
        "---\n",
        "\n",
        "# Números aleatórios e comandos: rd.seed() e rd.choice()\n",
        "\n",
        "Como você deve ter percebido, poder fazer os sorteios foi muito importante em nosso exemplo.\n",
        "\n",
        "\n",
        "Na verdade, o computador não consegue sortear números que são verdadeiramente aleatórios. Ele sorteia o que chamamos de números *pseudo-aleatórios*, que têm um comportamento que tenta ser similar ao aleatório.\n",
        "\n",
        "Um dos fatores que vários métodos usam para sortear números pseudo-aleatórios é o horário do computador.\n",
        "\n",
        "O horário é usado em uma variável chamada de **`seed`** **(semente)** **que basicamente determina os valores que serão sorteados. Então, se fixamos a seed, obtemos sempre os mesmos resultados**.\n",
        "\n",
        "Execute a célula abaixo para ver que **a saída sempre fica igual** - **a seed (semente) foi definida como 0:**\n"
      ]
    },
    {
      "cell_type": "code",
      "execution_count": null,
      "metadata": {
        "id": "5wgwOK45Fps4"
      },
      "outputs": [],
      "source": [
        "rd.seed(0)     # seed (semente) foi definida como 0\n",
        "print(rd.randint(1,2))\n",
        "print(rd.randint(1,2))\n",
        "print(rd.randint(1,2))\n",
        "print(rd.randint(1,2))\n",
        "print(rd.randint(1,2))"
      ]
    },
    {
      "cell_type": "markdown",
      "metadata": {
        "id": "hnl7H7Y3GLes"
      },
      "source": [
        "**Mudando o valor do seed, muda o sorteio**:"
      ]
    },
    {
      "cell_type": "code",
      "execution_count": null,
      "metadata": {
        "id": "h6wJ_mtdGOxZ"
      },
      "outputs": [],
      "source": [
        "rd.seed(1)    # seed foi definida como 1\n",
        "print(rd.randint(1,2))\n",
        "print(rd.randint(1,2))\n",
        "print(rd.randint(1,2))\n",
        "print(rd.randint(1,2))\n",
        "print(rd.randint(1,2))"
      ]
    },
    {
      "cell_type": "markdown",
      "metadata": {
        "id": "FYRvPR90GORC"
      },
      "source": [
        "Vamos ver algumas opções de sorteio."
      ]
    },
    {
      "cell_type": "markdown",
      "metadata": {
        "id": "VjO8qVbsGaGo"
      },
      "source": [
        "Para **gerar um número real entre 0 e 1 onde cada número tem a mesma chance de ser sorteado, usamos a função ``random()``:**"
      ]
    },
    {
      "cell_type": "code",
      "execution_count": null,
      "metadata": {
        "id": "iZdHez5YGhN0"
      },
      "outputs": [],
      "source": [
        "rd.random()"
      ]
    },
    {
      "cell_type": "markdown",
      "metadata": {
        "id": "6rdZPVoDQZ46"
      },
      "source": [
        "Podemos fazer também um **sorteio de um elemento de uma lista. Cada elemento da lista tem a mesma chance de ser sorteado**. Note o uso de colchetes `[` e `]`."
      ]
    },
    {
      "cell_type": "code",
      "execution_count": null,
      "metadata": {
        "id": "o7fri_Z3Gm4d"
      },
      "outputs": [],
      "source": [
        "rd.choice([1,4,5])"
      ]
    },
    {
      "cell_type": "markdown",
      "metadata": {
        "id": "fhUG-gsoQgfj"
      },
      "source": [
        "Então, se você quiser simular um sorteio de cara ou coroa, você poderia fazer assim:"
      ]
    },
    {
      "cell_type": "code",
      "execution_count": null,
      "metadata": {
        "id": "OYn091gyHSee"
      },
      "outputs": [],
      "source": [
        "rd.choice([\"cara\", \"coroa\"])"
      ]
    },
    {
      "cell_type": "markdown",
      "metadata": {
        "id": "p_F4RYDVH0HM"
      },
      "source": [
        "Todos os exemplos que vimos até agora atribuem a mesma chance para cada possibilidade.\n",
        "\n",
        "E se quisermos fazer uma moeda onde a chance de sair cara é 0.4 (ou seja, 40%) e a de sair coroa é 0.6 (ou seja, 60%).\n",
        "\n",
        "Podemos utilizar a **função ``choices`` que recebe as chances de cada possibilidade**."
      ]
    },
    {
      "cell_type": "code",
      "execution_count": null,
      "metadata": {
        "id": "8q3LNRc0wSmh"
      },
      "outputs": [],
      "source": [
        "rd.choices([\"cara\",\"coroa\"],weights=[.4,.6],k=1)\n"
      ]
    },
    {
      "cell_type": "markdown",
      "metadata": {
        "id": "TfquZ1aeRArl"
      },
      "source": [
        "Essa função foi feita com a **possibilidade de realizar vários sorteios de uma vez, isso é controlado pela opção $k$**. Veja como fazer **5 sorteios de uma só vez**:"
      ]
    },
    {
      "cell_type": "code",
      "execution_count": null,
      "metadata": {
        "id": "K74OA6i-RKti"
      },
      "outputs": [],
      "source": [
        "rd.choices([\"cara\",\"coroa\"],weights=[.4,.6],k=5)  # k=5"
      ]
    },
    {
      "cell_type": "markdown",
      "metadata": {
        "id": "G1ENxQ2PRRNc"
      },
      "source": [
        "A função sempre retorna uma lista (por isso os ``[`` e ``]``).\n",
        "\n",
        "Se você for fazer apenas um sorteio e guardar em uma variável s (sem lidar com listas), você poderia fazer assim:"
      ]
    },
    {
      "cell_type": "code",
      "execution_count": null,
      "metadata": {
        "id": "Wvoh8-MvRQi3"
      },
      "outputs": [],
      "source": [
        "[s] = rd.choices([\"cara\",\"coroa\"],weights=[.4,.6],k=1)\n",
        "s"
      ]
    },
    {
      "cell_type": "markdown",
      "metadata": {
        "id": "3FQnwkzSRgF-"
      },
      "source": [
        "Uma outra opção seria a seguinte.\n",
        "\n",
        " Comece sorteando um valor ``r`` entre 0 e 1.\n",
        "\n",
        "Dados valores $a$ e $b$, a chance de ``r`` cair dentro do intervalo $[a,b)$ é o comprimento do intervalo!\n",
        "\n",
        "Então, a chance de r ser menor do que 0.4 é o comprimento de $[0,0.4)$ que é 0.4 (ou seja 40% de chance):"
      ]
    },
    {
      "cell_type": "code",
      "execution_count": null,
      "metadata": {
        "id": "KD5SdAZUH-rv"
      },
      "outputs": [],
      "source": [
        "p = 0.4\n",
        "r = rd.random()\n",
        "if p < 0.4:\n",
        "  s = \"cara\"\n",
        "else:\n",
        "  s = \"coroa\"\n",
        "print(s)"
      ]
    }
  ],
  "metadata": {
    "colab": {
      "provenance": []
    },
    "kernelspec": {
      "display_name": "Python 3",
      "name": "python3"
    },
    "language_info": {
      "codemirror_mode": {
        "name": "ipython",
        "version": 3
      },
      "file_extension": ".py",
      "mimetype": "text/x-python",
      "name": "python",
      "nbconvert_exporter": "python",
      "pygments_lexer": "ipython3",
      "version": "3.11.4"
    }
  },
  "nbformat": 4,
  "nbformat_minor": 0
}
